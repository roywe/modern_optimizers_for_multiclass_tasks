{
 "cells": [
  {
   "cell_type": "code",
   "execution_count": null,
   "metadata": {},
   "outputs": [],
   "source": [
    "# https://www.kaggle.com/code/salimhammadi07/esc-50-environmental-sound-classification#A.-Exploring-the-Audio-Data\n",
    "\n",
    "# https://www.kaggle.com/code/doofensmirtz/85-validation-accuracy-tensorflow\n",
    "\n",
    "# https://www.kaggle.com/datasets/mmoreaux/environmental-sound-classification-50/code\n",
    "\n",
    "# https://github.com/YuanGongND/ast/tree/master\n",
    "\n",
    "# https://github.com/karolpiczak/ESC-50?tab=readme-ov-file"
   ]
  }
 ],
 "metadata": {
  "language_info": {
   "name": "python"
  }
 },
 "nbformat": 4,
 "nbformat_minor": 2
}
