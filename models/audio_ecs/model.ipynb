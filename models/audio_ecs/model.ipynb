{
 "cells": [
  {
   "cell_type": "code",
   "execution_count": 10,
   "metadata": {},
   "outputs": [],
   "source": [
    "\n",
    "import torch\n",
    "import torch.nn as nn\n",
    "import torch.optim as optim\n",
    "from adan_pytorch import Adan\n",
    "import copy\n",
    "from utils import preparte_data_loader\n",
    "from utils import set_parameter_requires_grad\n",
    "from utils import DEVICE\n",
    "import time\n",
    "# from utils import BertForSequenceLabeling\n",
    "from transformers import BertModel, BertConfig\n",
    "import matplotlib.pyplot as plt"
   ]
  },
  {
   "cell_type": "code",
   "execution_count": 2,
   "metadata": {},
   "outputs": [],
   "source": [
    "output_dim = 50\n",
    "LOSS_CRITERIA = nn.CrossEntropyLoss()"
   ]
  },
  {
   "cell_type": "code",
   "execution_count": 3,
   "metadata": {},
   "outputs": [],
   "source": [
    "class BertForSequenceLabeling(nn.Module):\n",
    "    def __init__(self, num_labels=50):\n",
    "        super(BertForSequenceLabeling, self).__init__()\n",
    "        self.bert = BertModel.from_pretrained('bert-base-uncased')\n",
    "        set_parameter_requires_grad(self.bert, feature_extracting=True)\n",
    "        end_input_features = self.bert.pooler.dense.in_features\n",
    "        self.bert.pooler.dense = nn.Linear(end_input_features,num_labels)\n",
    "        self.num_labels = num_labels  # Store num_labels as an instance variable\n",
    "\n",
    "    def forward(self, input_ids, attention_mask=None):\n",
    "        # Transform the embeddings to BERT-compatible dimensions\n",
    "        # Pass through BERT\n",
    "        outputs = self.bert(inputs_embeds=input_ids, attention_mask=attention_mask)\n",
    "        sequence_output = outputs.last_hidden_state  # Shape: (batch_size, max_length, hidden_size)\n",
    "        \n",
    "        # Prepare logits for sequence labeling\n",
    "        logits = self.bert.pooler.dense(sequence_output)  # Shape: (batch_size, max_length, num_labels)\n",
    "        return logits\n"
   ]
  },
  {
   "cell_type": "markdown",
   "metadata": {},
   "source": [
    "### double check our model to ensure the only train samples are for the last part"
   ]
  },
  {
   "cell_type": "code",
   "execution_count": 35,
   "metadata": {},
   "outputs": [
    {
     "name": "stdout",
     "output_type": "stream",
     "text": [
      "Params to learn:\n",
      "\t bert.pooler.dense.weight\n",
      "\t bert.pooler.dense.bias\n"
     ]
    }
   ],
   "source": [
    "bert_model = BertForSequenceLabeling()\n",
    "bert_model = bert_model.to(DEVICE)\n",
    "\n",
    "params_to_update = bert_model.parameters()\n",
    "print(\"Params to learn:\")\n",
    "# if feature_extract:\n",
    "params_to_update = []  # override the initial list definition above\n",
    "for name,param in bert_model.named_parameters():\n",
    "    if param.requires_grad == True:\n",
    "        params_to_update.append(param)\n",
    "        print(\"\\t\",name)"
   ]
  },
  {
   "cell_type": "code",
   "execution_count": 15,
   "metadata": {},
   "outputs": [],
   "source": [
    "def train_model(model, dataloaders, optimizer, num_epochs=25, device=DEVICE, loss_criteria = LOSS_CRITERIA):\n",
    "    since = time.time()\n",
    "\n",
    "    val_acc_history = []\n",
    "    training_loss = []\n",
    "    \n",
    "\n",
    "    best_model_wts = copy.deepcopy(model.state_dict())\n",
    "    best_acc = 0.0\n",
    "\n",
    "    for epoch in range(num_epochs):\n",
    "        print('Epoch {}/{}'.format(epoch, num_epochs - 1))\n",
    "        print('-' * 10)\n",
    "\n",
    "        # Each epoch has a training and validation phase\n",
    "        for phase in ['train', 'val']:\n",
    "            if phase == 'train':\n",
    "                model.train()  # Set model to training mode\n",
    "            else:\n",
    "                model.eval()   # Set model to evaluate mode\n",
    "\n",
    "            running_loss = 0.0\n",
    "            running_corrects = 0\n",
    "\n",
    "            # Iterate over data.\n",
    "            for inputs, labels in dataloaders[phase]:\n",
    "                inputs = inputs.to(device)\n",
    "                labels = labels.to(device)\n",
    "\n",
    "                # forward\n",
    "                # track history if only in train\n",
    "                with torch.set_grad_enabled(phase == 'train'):\n",
    "                    # Get model outputs and calculate loss\n",
    "                    outputs = model(inputs)\n",
    "                    loss = loss_criteria(outputs, labels)\n",
    "\n",
    "                    _, preds = torch.max(outputs, 1)\n",
    "\n",
    "                    # backward + optimize only if in training phase\n",
    "                    if phase == 'train':\n",
    "                        # zero the parameter gradients\n",
    "                        optimizer.zero_grad()\n",
    "                        loss.backward()\n",
    "                        optimizer.step()\n",
    "\n",
    "                # statistics\n",
    "                running_loss += loss.item() * inputs.size(0)\n",
    "                running_corrects += torch.sum(preds == labels.data)\n",
    "\n",
    "            epoch_loss = running_loss / len(dataloaders[phase].dataset)\n",
    "            epoch_acc = running_corrects.double() / len(dataloaders[phase].dataset)\n",
    "\n",
    "            print('{} Loss: {:.4f} Acc: {:.4f}'.format(phase, epoch_loss, epoch_acc))\n",
    "\n",
    "            # deep copy the model\n",
    "            if phase == 'val' and epoch_acc > best_acc:\n",
    "                best_acc = epoch_acc\n",
    "                best_model_wts = copy.deepcopy(model.state_dict())\n",
    "            if phase == 'val':\n",
    "                val_acc_history.append(epoch_acc)\n",
    "            if phase == 'train':\n",
    "                training_loss.append(epoch_acc)\n",
    "\n",
    "        print()\n",
    "\n",
    "    time_elapsed = time.time() - since\n",
    "    print('Training complete in {:.0f}m {:.0f}s'.format(time_elapsed // 60, time_elapsed % 60))\n",
    "    print('Best val Acc: {:4f}'.format(best_acc))\n",
    "\n",
    "    # load best model weights\n",
    "    model.load_state_dict(best_model_wts)\n",
    "    return model, training_loss, val_acc_history"
   ]
  },
  {
   "cell_type": "code",
   "execution_count": 12,
   "metadata": {},
   "outputs": [
    {
     "name": "stdout",
     "output_type": "stream",
     "text": [
      "1200\n",
      "400\n"
     ]
    }
   ],
   "source": [
    "optimizer = optim.Adam(bert_model.parameters(), lr=3e-3)\n",
    "train_dataloader = preparte_data_loader(mode='train', batch_size=20)\n",
    "val_dataloader = preparte_data_loader(mode='val', batch_size=20)\n",
    "dataloaders = {\n",
    "    'train':train_dataloader,\n",
    "    'val':val_dataloader\n",
    "}\n"
   ]
  },
  {
   "cell_type": "code",
   "execution_count": 7,
   "metadata": {},
   "outputs": [],
   "source": [
    "# for inputs, labels in dataloaders['train']:\n",
    "#     print(inputs)\n",
    "#     print(labels)\n",
    "#     break"
   ]
  },
  {
   "cell_type": "code",
   "execution_count": 13,
   "metadata": {},
   "outputs": [],
   "source": [
    "%matplotlib inline\n",
    "def plot_results(train_losses,val_losses):\n",
    "    plt.figure(figsize=(10, 5))\n",
    "    plt.plot(train_losses, label='Train Loss')\n",
    "    plt.plot(val_losses, label='Validation Loss')\n",
    "    plt.xlabel('Epoch')\n",
    "    plt.ylabel('Loss')\n",
    "    plt.legend()\n",
    "    plt.show()"
   ]
  },
  {
   "cell_type": "code",
   "execution_count": 16,
   "metadata": {},
   "outputs": [
    {
     "name": "stdout",
     "output_type": "stream",
     "text": [
      "Epoch 0/1\n",
      "----------\n",
      "train Loss: 4.0671 Acc: 11.4992\n",
      "val Loss: 3.3950 Acc: 39.9900\n",
      "\n",
      "Epoch 1/1\n",
      "----------\n",
      "train Loss: 4.0462 Acc: 11.3642\n",
      "val Loss: 3.2961 Acc: 40.5650\n",
      "\n",
      "Training complete in 1m 29s\n",
      "Best val Acc: 40.565000\n"
     ]
    }
   ],
   "source": [
    "model, training_loss, val_acc_history = train_model(bert_model, dataloaders, optimizer, num_epochs=2, device=DEVICE, loss_criteria = LOSS_CRITERIA)\n"
   ]
  },
  {
   "cell_type": "code",
   "execution_count": 33,
   "metadata": {},
   "outputs": [],
   "source": [
    "import numpy as np\n",
    "training_loss = [i.cpu().numpy().tolist() for i in training_loss]\n",
    "val_acc_history = [i.cpu().numpy().tolist() for i in val_acc_history]"
   ]
  },
  {
   "cell_type": "code",
   "execution_count": 34,
   "metadata": {},
   "outputs": [
    {
     "data": {
      "image/png": "[encoded data removed]",
      "text/plain": [
       "<Figure size 1000x500 with 1 Axes>"
      ]
     },
     "metadata": {},
     "output_type": "display_data"
    }
   ],
   "source": [
    "plot_results(training_loss, val_acc_history)"
   ]
  },
  {
   "cell_type": "code",
   "execution_count": null,
   "metadata": {},
   "outputs": [],
   "source": [
    "# optim.Adam(model.parameters(), lr=3e-4)\n",
    "# torch.optim.SGD(model.parameters(), lr=learning_rate, momentum=0.9, nesterov=True)\n",
    "# optim = Adan(model.parameters(),lr = 1e-3,                  # learning rate (can be much higher than Adam, up to 5-10x)\n",
    "#     betas = (0.02, 0.08, 0.01), # beta 1-2-3 as described in paper - author says most sensitive to beta3 tuning\n",
    "#     weight_decay = 0.02         # weight decay 0.02 is optimal per author\n",
    "# )"
   ]
  }
 ],
 "metadata": {
  "kernelspec": {
   "display_name": "roy_lang",
   "language": "python",
   "name": "python3"
  },
  "language_info": {
   "codemirror_mode": {
    "name": "ipython",
    "version": 3
   },
   "file_extension": ".py",
   "mimetype": "text/x-python",
   "name": "python",
   "nbconvert_exporter": "python",
   "pygments_lexer": "ipython3",
   "version": "3.8.19"
  }
 },
 "nbformat": 4,
 "nbformat_minor": 2
}
