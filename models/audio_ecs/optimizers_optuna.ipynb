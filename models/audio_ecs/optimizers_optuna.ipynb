{
 "cells": [
  {
   "cell_type": "code",
   "execution_count": 1,
   "metadata": {},
   "outputs": [
    {
     "name": "stderr",
     "output_type": "stream",
     "text": [
      "/home/mlspeech/royweber/anaconda3/envs/roy_lang/lib/python3.8/site-packages/tqdm/auto.py:21: TqdmWarning: IProgress not found. Please update jupyter and ipywidgets. See https://ipywidgets.readthedocs.io/en/stable/user_install.html\n",
      "  from .autonotebook import tqdm as notebook_tqdm\n"
     ]
    }
   ],
   "source": [
    "import torch\n",
    "import torch.nn as nn\n",
    "import torch.optim as optim\n",
    "from adan_pytorch import Adan\n",
    "from madgrad import MADGRAD\n",
    "from utils import DEVICE, LOSS_CRITERIA\n",
    "import time\n",
    "from transformers import HubertConfig, HubertForSequenceClassification\n",
    "from utils import ONLY_10_LABELS\n",
    "import matplotlib.pyplot as plt\n",
    "from utils import DEVICE, AudioDataset\n",
    "from torch.utils.data import DataLoader\n",
    "import optuna\n",
    "import pandas as pd\n",
    "import schedulefree\n",
    "torch.cuda.empty_cache()"
   ]
  },
  {
   "cell_type": "code",
   "execution_count": 2,
   "metadata": {},
   "outputs": [
    {
     "data": {
      "text/plain": [
       "<torch._C.Generator at 0x7fd256358490>"
      ]
     },
     "execution_count": 2,
     "metadata": {},
     "output_type": "execute_result"
    }
   ],
   "source": [
    "seed = 20\n",
    "torch.manual_seed(seed)"
   ]
  },
  {
   "cell_type": "code",
   "execution_count": 3,
   "metadata": {},
   "outputs": [],
   "source": [
    "batch_size = 64\n",
    "num_labels = 10 if ONLY_10_LABELS else 50\n",
    "epochs = 10\n",
    "device=DEVICE\n",
    "loss_criteria = LOSS_CRITERIA\n",
    "NTRAILS = 150\n",
    "\n",
    "train_dataset = AudioDataset(kind='train')\n",
    "val_dataset = AudioDataset(kind='val')\n",
    "train_loader = DataLoader(train_dataset, batch_size=batch_size, shuffle=True)\n",
    "val_loader = DataLoader(val_dataset, batch_size=batch_size, shuffle=True)\n",
    "\n",
    "dataloaders = {\n",
    "    'train':train_loader,\n",
    "    'val':val_loader\n",
    "}\n",
    "\n",
    "\n",
    "\n",
    "def optune_optimizer_for_model(trial, optimizer_name):\n",
    "    \n",
    "    config = HubertConfig(\n",
    "    hidden_size=128,\n",
    "    num_hidden_layers=2,\n",
    "    num_attention_heads=4,\n",
    "    intermediate_size=256,\n",
    "    num_labels=num_labels,\n",
    "    conv_dim=(512, 512, 512),\n",
    "    conv_stride=(5, 2, 2),\n",
    "    conv_kernel=(10, 3, 3),\n",
    "    )\n",
    "\n",
    "    hubert_model = HubertForSequenceClassification(config)\n",
    "    \n",
    "    model = hubert_model.to(DEVICE)\n",
    "    lr = trial.suggest_float(\"lr\", 1e-5, 1e-1, log=True)  # log=True, will use log scale to interplolate between lr\n",
    "    if optimizer_name == 'Adam':\n",
    "        optimizer = optim.Adam(model.parameters(), lr=lr)\n",
    "    elif optimizer_name == 'SGD':\n",
    "        sgd_momentum = trial.suggest_float(\"sgd_momentum\", 1e-1, 1)\n",
    "        optimizer = optim.SGD(model.parameters(), lr=lr, momentum=sgd_momentum, nesterov=True)\n",
    "    elif optimizer_name == 'Adan':\n",
    "        beta1 = trial.suggest_float(\"beta1\", 1e-3, 1e-1)\n",
    "        beta2 = trial.suggest_float(\"beta2\", 1e-3, 1e-1)\n",
    "        beta3 = trial.suggest_float(\"beta3\", 1e-3, 1e-1)\n",
    "        optimizer = Adan(model.parameters(),lr = lr,\n",
    "            betas = (beta1, beta2, beta3), \n",
    "            weight_decay = 0.02         # weight decay 0.02 is optimal per author\n",
    "        )\n",
    "    elif optimizer_name == 'Madgrad':\n",
    "        lr = trial.suggest_float(\"lr\", 1e-5, 1e-1, log=True)\n",
    "        madgrad_momentum = trial.suggest_float(\"madgrad_momentum\", 8e-1, 1)\n",
    "        optimizer = MADGRAD(params=model.parameters(), lr=lr, momentum=madgrad_momentum, weight_decay=0, eps= 1e-06, decouple_decay=False)\n",
    "    \n",
    "    elif optimizer_name == 'Schedulefree':\n",
    "        lr = trial.suggest_float(\"lr\", 1e-5, 1e-1, log=True)\n",
    "        optimizer = schedulefree.AdamWScheduleFree(model.parameters(), lr=1e-3)\n",
    "    \n",
    "\n",
    "    for epoch in range(epochs):\n",
    "        print('Epoch {}/{}'.format(epoch, epochs - 1))\n",
    "        print('-' * 10)\n",
    "        \n",
    "        model.train()\n",
    "        \n",
    "        # Iterate over data.\n",
    "        for inputs, labels in dataloaders['train']:\n",
    "            inputs = inputs.to(device)\n",
    "            labels = labels.to(device)\n",
    "            with torch.set_grad_enabled(True):\n",
    "                # Get model outputs and calculate loss\n",
    "                logits_h = model(inputs).logits.type(torch.cuda.FloatTensor)\n",
    "                labels = labels.type(torch.cuda.FloatTensor)\n",
    "                loss = loss_criteria(logits_h.view(-1), labels.view(-1))\n",
    "                # loss = loss_criteria(outputs, labels)\n",
    "\n",
    "                _, preds = torch.max(logits_h, 1)\n",
    "                _, real_labels = torch.max(labels, 1)\n",
    "\n",
    "                # backward + optimize only if in training phase\n",
    "                # zero the parameter gradients\n",
    "                optimizer.zero_grad()\n",
    "                loss.backward()\n",
    "                optimizer.step()\n",
    "        \n",
    "        model.eval()\n",
    "        running_corrects = 0.0\n",
    "        for inputs, labels in dataloaders['val']:\n",
    "                inputs = inputs.to(device)\n",
    "                labels = labels.to(device)\n",
    "\n",
    "                # forward\n",
    "                # track history if only in train\n",
    "                with torch.set_grad_enabled(False):\n",
    "                    # Get model outputs and calculate loss\n",
    "                    \n",
    "                    logits_h = model(inputs).logits.type(torch.cuda.FloatTensor)\n",
    "                    labels = labels.type(torch.cuda.FloatTensor)\n",
    "                    loss = loss_criteria(logits_h.view(-1), labels.view(-1))\n",
    "\n",
    "                    _, preds = torch.max(logits_h, 1)\n",
    "                    _, real_labels = torch.max(labels, 1)\n",
    "                    \n",
    "\n",
    "                # statistics\n",
    "                running_corrects += torch.sum(preds == real_labels.data)\n",
    "\n",
    "        epoch_acc = running_corrects.double() / len(dataloaders['val'].dataset)\n",
    "\n",
    "        # report back to Optuna how far it is (epoch-wise) into the trial and how well it is doing (accuracy)\n",
    "        trial.report(epoch_acc, epoch)  \n",
    "\n",
    "        # then, Optuna can decide if the trial should be pruned\n",
    "        # Handle pruning based on the intermediate value.\n",
    "        if trial.should_prune():\n",
    "            raise optuna.exceptions.TrialPruned()\n",
    "\n",
    "    return epoch_acc"
   ]
  },
  {
   "cell_type": "code",
   "execution_count": 4,
   "metadata": {},
   "outputs": [
    {
     "name": "stderr",
     "output_type": "stream",
     "text": [
      "[I 2024-08-12 08:41:18,503] A new study created in memory with name: adam_study\n"
     ]
    },
    {
     "name": "stdout",
     "output_type": "stream",
     "text": [
      "Epoch 0/9\n",
      "----------\n",
      "Epoch 1/9\n",
      "----------\n",
      "Epoch 2/9\n",
      "----------\n",
      "Epoch 3/9\n",
      "----------\n",
      "Epoch 4/9\n",
      "----------\n",
      "Epoch 5/9\n",
      "----------\n",
      "Epoch 6/9\n",
      "----------\n",
      "Epoch 7/9\n",
      "----------\n",
      "Epoch 8/9\n",
      "----------\n",
      "Epoch 9/9\n",
      "----------\n"
     ]
    },
    {
     "name": "stderr",
     "output_type": "stream",
     "text": [
      "[I 2024-08-12 08:41:41,523] Trial 0 finished with value: 0.4625 and parameters: {'lr': 6.385644044670937e-05}. Best is trial 0 with value: 0.4625.\n"
     ]
    },
    {
     "name": "stdout",
     "output_type": "stream",
     "text": [
      "Epoch 0/9\n",
      "----------\n",
      "Epoch 1/9\n",
      "----------\n",
      "Epoch 2/9\n",
      "----------\n",
      "Epoch 3/9\n",
      "----------\n",
      "Epoch 4/9\n",
      "----------\n",
      "Epoch 5/9\n",
      "----------\n",
      "Epoch 6/9\n",
      "----------\n",
      "Epoch 7/9\n",
      "----------\n",
      "Epoch 8/9\n",
      "----------\n",
      "Epoch 9/9\n",
      "----------\n"
     ]
    },
    {
     "name": "stderr",
     "output_type": "stream",
     "text": [
      "[I 2024-08-12 08:42:02,621] Trial 1 finished with value: 0.1 and parameters: {'lr': 0.01971188337614859}. Best is trial 0 with value: 0.4625.\n"
     ]
    },
    {
     "name": "stdout",
     "output_type": "stream",
     "text": [
      "Epoch 0/9\n",
      "----------\n",
      "Epoch 1/9\n",
      "----------\n",
      "Epoch 2/9\n",
      "----------\n",
      "Epoch 3/9\n",
      "----------\n",
      "Epoch 4/9\n",
      "----------\n",
      "Epoch 5/9\n",
      "----------\n",
      "Epoch 6/9\n",
      "----------\n",
      "Epoch 7/9\n",
      "----------\n",
      "Epoch 8/9\n",
      "----------\n",
      "Epoch 9/9\n",
      "----------\n"
     ]
    },
    {
     "name": "stderr",
     "output_type": "stream",
     "text": [
      "[I 2024-08-12 08:42:23,651] Trial 2 finished with value: 0.1 and parameters: {'lr': 0.01876130691140049}. Best is trial 0 with value: 0.4625.\n"
     ]
    },
    {
     "name": "stdout",
     "output_type": "stream",
     "text": [
      "Epoch 0/9\n",
      "----------\n",
      "Epoch 1/9\n",
      "----------\n",
      "Epoch 2/9\n",
      "----------\n",
      "Epoch 3/9\n",
      "----------\n",
      "Epoch 4/9\n",
      "----------\n",
      "Epoch 5/9\n",
      "----------\n",
      "Epoch 6/9\n",
      "----------\n",
      "Epoch 7/9\n",
      "----------\n",
      "Epoch 8/9\n",
      "----------\n",
      "Epoch 9/9\n",
      "----------\n"
     ]
    },
    {
     "name": "stderr",
     "output_type": "stream",
     "text": [
      "[I 2024-08-12 08:42:44,770] Trial 3 finished with value: 0.4375 and parameters: {'lr': 0.00010141343488316885}. Best is trial 0 with value: 0.4625.\n"
     ]
    },
    {
     "name": "stdout",
     "output_type": "stream",
     "text": [
      "Epoch 0/9\n",
      "----------\n",
      "Epoch 1/9\n",
      "----------\n",
      "Epoch 2/9\n",
      "----------\n",
      "Epoch 3/9\n",
      "----------\n",
      "Epoch 4/9\n",
      "----------\n",
      "Epoch 5/9\n",
      "----------\n",
      "Epoch 6/9\n",
      "----------\n",
      "Epoch 7/9\n",
      "----------\n",
      "Epoch 8/9\n",
      "----------\n",
      "Epoch 9/9\n",
      "----------\n"
     ]
    },
    {
     "name": "stderr",
     "output_type": "stream",
     "text": [
      "[I 2024-08-12 08:43:06,377] Trial 4 finished with value: 0.1 and parameters: {'lr': 0.05823166295695322}. Best is trial 0 with value: 0.4625.\n"
     ]
    },
    {
     "name": "stdout",
     "output_type": "stream",
     "text": [
      "Epoch 0/9\n",
      "----------\n",
      "Epoch 1/9\n",
      "----------\n",
      "Epoch 2/9\n",
      "----------\n",
      "Epoch 3/9\n",
      "----------\n",
      "Epoch 4/9\n",
      "----------\n",
      "Epoch 5/9\n",
      "----------\n",
      "Epoch 6/9\n",
      "----------\n",
      "Epoch 7/9\n",
      "----------\n",
      "Epoch 8/9\n",
      "----------\n",
      "Epoch 9/9\n",
      "----------\n"
     ]
    },
    {
     "name": "stderr",
     "output_type": "stream",
     "text": [
      "[I 2024-08-12 08:43:27,293] Trial 5 finished with value: 0.5 and parameters: {'lr': 0.0030784865526370937}. Best is trial 5 with value: 0.5.\n"
     ]
    },
    {
     "name": "stdout",
     "output_type": "stream",
     "text": [
      "Epoch 0/9\n",
      "----------\n"
     ]
    },
    {
     "name": "stderr",
     "output_type": "stream",
     "text": [
      "[I 2024-08-12 08:43:29,590] Trial 6 pruned. \n"
     ]
    },
    {
     "name": "stdout",
     "output_type": "stream",
     "text": [
      "Epoch 0/9\n",
      "----------\n",
      "Epoch 1/9\n",
      "----------\n",
      "Epoch 2/9\n",
      "----------\n",
      "Epoch 3/9\n",
      "----------\n",
      "Epoch 4/9\n",
      "----------\n",
      "Epoch 5/9\n",
      "----------\n",
      "Epoch 6/9\n",
      "----------\n",
      "Epoch 7/9\n",
      "----------\n",
      "Epoch 8/9\n",
      "----------\n",
      "Epoch 9/9\n",
      "----------\n"
     ]
    },
    {
     "name": "stderr",
     "output_type": "stream",
     "text": [
      "[I 2024-08-12 08:43:51,149] Trial 7 finished with value: 0.45 and parameters: {'lr': 0.00012769631700663484}. Best is trial 5 with value: 0.5.\n"
     ]
    },
    {
     "name": "stdout",
     "output_type": "stream",
     "text": [
      "Epoch 0/9\n",
      "----------\n"
     ]
    },
    {
     "name": "stderr",
     "output_type": "stream",
     "text": [
      "[I 2024-08-12 08:43:53,454] Trial 8 pruned. \n"
     ]
    },
    {
     "name": "stdout",
     "output_type": "stream",
     "text": [
      "Epoch 0/9\n",
      "----------\n",
      "Epoch 1/9\n",
      "----------\n",
      "Epoch 2/9\n",
      "----------\n",
      "Epoch 3/9\n",
      "----------\n",
      "Epoch 4/9\n",
      "----------\n",
      "Epoch 5/9\n",
      "----------\n",
      "Epoch 6/9\n",
      "----------\n",
      "Epoch 7/9\n",
      "----------\n"
     ]
    },
    {
     "name": "stderr",
     "output_type": "stream",
     "text": [
      "[I 2024-08-12 08:44:10,752] Trial 9 pruned. \n"
     ]
    },
    {
     "name": "stdout",
     "output_type": "stream",
     "text": [
      "Epoch 0/9\n",
      "----------\n",
      "Epoch 1/9\n",
      "----------\n",
      "Epoch 2/9\n",
      "----------\n",
      "Epoch 3/9\n",
      "----------\n",
      "Epoch 4/9\n",
      "----------\n",
      "Epoch 5/9\n",
      "----------\n",
      "Epoch 6/9\n",
      "----------\n",
      "Epoch 7/9\n",
      "----------\n",
      "Epoch 8/9\n",
      "----------\n",
      "Epoch 9/9\n",
      "----------\n"
     ]
    },
    {
     "name": "stderr",
     "output_type": "stream",
     "text": [
      "[I 2024-08-12 08:44:32,074] Trial 10 finished with value: 0.48750000000000004 and parameters: {'lr': 0.0008333834866115789}. Best is trial 5 with value: 0.5.\n"
     ]
    },
    {
     "name": "stdout",
     "output_type": "stream",
     "text": [
      "Epoch 0/9\n",
      "----------\n",
      "Epoch 1/9\n",
      "----------\n",
      "Epoch 2/9\n",
      "----------\n",
      "Epoch 3/9\n",
      "----------\n",
      "Epoch 4/9\n",
      "----------\n",
      "Epoch 5/9\n",
      "----------\n",
      "Epoch 6/9\n",
      "----------\n",
      "Epoch 7/9\n",
      "----------\n",
      "Epoch 8/9\n",
      "----------\n",
      "Epoch 9/9\n",
      "----------\n"
     ]
    },
    {
     "name": "stderr",
     "output_type": "stream",
     "text": [
      "[I 2024-08-12 08:44:53,534] Trial 11 finished with value: 0.48750000000000004 and parameters: {'lr': 0.0010146793238589096}. Best is trial 5 with value: 0.5.\n"
     ]
    },
    {
     "name": "stdout",
     "output_type": "stream",
     "text": [
      "Epoch 0/9\n",
      "----------\n",
      "Epoch 1/9\n",
      "----------\n",
      "Epoch 2/9\n",
      "----------\n",
      "Epoch 3/9\n",
      "----------\n",
      "Epoch 4/9\n",
      "----------\n",
      "Epoch 5/9\n",
      "----------\n",
      "Epoch 6/9\n",
      "----------\n",
      "Epoch 7/9\n",
      "----------\n",
      "Epoch 8/9\n",
      "----------\n",
      "Epoch 9/9\n",
      "----------\n"
     ]
    },
    {
     "name": "stderr",
     "output_type": "stream",
     "text": [
      "[I 2024-08-12 08:45:14,797] Trial 12 finished with value: 0.5 and parameters: {'lr': 0.0010553593260630846}. Best is trial 5 with value: 0.5.\n"
     ]
    },
    {
     "name": "stdout",
     "output_type": "stream",
     "text": [
      "Epoch 0/9\n",
      "----------\n",
      "Epoch 1/9\n",
      "----------\n",
      "Epoch 2/9\n",
      "----------\n",
      "Epoch 3/9\n",
      "----------\n",
      "Epoch 4/9\n",
      "----------\n",
      "Epoch 5/9\n",
      "----------\n",
      "Epoch 6/9\n",
      "----------\n",
      "Epoch 7/9\n",
      "----------\n",
      "Epoch 8/9\n",
      "----------\n",
      "Epoch 9/9\n",
      "----------\n"
     ]
    },
    {
     "name": "stderr",
     "output_type": "stream",
     "text": [
      "[I 2024-08-12 08:45:36,015] Trial 13 finished with value: 0.45 and parameters: {'lr': 0.0009526680056880137}. Best is trial 5 with value: 0.5.\n"
     ]
    },
    {
     "name": "stdout",
     "output_type": "stream",
     "text": [
      "Epoch 0/9\n",
      "----------\n"
     ]
    },
    {
     "name": "stderr",
     "output_type": "stream",
     "text": [
      "[I 2024-08-12 08:45:38,127] Trial 14 pruned. \n"
     ]
    },
    {
     "name": "stdout",
     "output_type": "stream",
     "text": [
      "Epoch 0/9\n",
      "----------\n"
     ]
    },
    {
     "name": "stderr",
     "output_type": "stream",
     "text": [
      "[I 2024-08-12 08:45:40,240] Trial 15 pruned. \n"
     ]
    },
    {
     "name": "stdout",
     "output_type": "stream",
     "text": [
      "Epoch 0/9\n",
      "----------\n"
     ]
    },
    {
     "name": "stderr",
     "output_type": "stream",
     "text": [
      "[I 2024-08-12 08:45:42,353] Trial 16 pruned. \n"
     ]
    },
    {
     "name": "stdout",
     "output_type": "stream",
     "text": [
      "Epoch 0/9\n",
      "----------\n",
      "Epoch 1/9\n",
      "----------\n",
      "Epoch 2/9\n",
      "----------\n",
      "Epoch 3/9\n",
      "----------\n",
      "Epoch 4/9\n",
      "----------\n",
      "Epoch 5/9\n",
      "----------\n",
      "Epoch 6/9\n",
      "----------\n",
      "Epoch 7/9\n",
      "----------\n",
      "Epoch 8/9\n",
      "----------\n",
      "Epoch 9/9\n",
      "----------\n"
     ]
    },
    {
     "name": "stderr",
     "output_type": "stream",
     "text": [
      "[I 2024-08-12 08:46:02,590] Trial 17 finished with value: 0.5625 and parameters: {'lr': 0.002142873683631407}. Best is trial 17 with value: 0.5625.\n"
     ]
    },
    {
     "name": "stdout",
     "output_type": "stream",
     "text": [
      "Epoch 0/9\n",
      "----------\n"
     ]
    },
    {
     "name": "stderr",
     "output_type": "stream",
     "text": [
      "[I 2024-08-12 08:46:04,703] Trial 18 pruned. \n"
     ]
    },
    {
     "name": "stdout",
     "output_type": "stream",
     "text": [
      "Epoch 0/9\n",
      "----------\n"
     ]
    },
    {
     "name": "stderr",
     "output_type": "stream",
     "text": [
      "[I 2024-08-12 08:46:06,815] Trial 19 pruned. \n"
     ]
    },
    {
     "name": "stdout",
     "output_type": "stream",
     "text": [
      "Epoch 0/9\n",
      "----------\n"
     ]
    },
    {
     "name": "stderr",
     "output_type": "stream",
     "text": [
      "[I 2024-08-12 08:46:09,116] Trial 20 pruned. \n"
     ]
    },
    {
     "name": "stdout",
     "output_type": "stream",
     "text": [
      "Epoch 0/9\n",
      "----------\n"
     ]
    },
    {
     "name": "stderr",
     "output_type": "stream",
     "text": [
      "[I 2024-08-12 08:46:11,228] Trial 21 pruned. \n"
     ]
    },
    {
     "name": "stdout",
     "output_type": "stream",
     "text": [
      "Epoch 0/9\n",
      "----------\n"
     ]
    },
    {
     "name": "stderr",
     "output_type": "stream",
     "text": [
      "[I 2024-08-12 08:46:13,339] Trial 22 pruned. \n"
     ]
    },
    {
     "name": "stdout",
     "output_type": "stream",
     "text": [
      "Epoch 0/9\n",
      "----------\n"
     ]
    },
    {
     "name": "stderr",
     "output_type": "stream",
     "text": [
      "[I 2024-08-12 08:46:15,638] Trial 23 pruned. \n"
     ]
    },
    {
     "name": "stdout",
     "output_type": "stream",
     "text": [
      "Epoch 0/9\n",
      "----------\n",
      "Epoch 1/9\n",
      "----------\n",
      "Epoch 2/9\n",
      "----------\n",
      "Epoch 3/9\n",
      "----------\n",
      "Epoch 4/9\n",
      "----------\n",
      "Epoch 5/9\n",
      "----------\n",
      "Epoch 6/9\n",
      "----------\n",
      "Epoch 7/9\n",
      "----------\n",
      "Epoch 8/9\n",
      "----------\n",
      "Epoch 9/9\n",
      "----------\n"
     ]
    },
    {
     "name": "stderr",
     "output_type": "stream",
     "text": [
      "[I 2024-08-12 08:46:37,280] Trial 24 finished with value: 0.45 and parameters: {'lr': 0.0014083299243519316}. Best is trial 17 with value: 0.5625.\n"
     ]
    },
    {
     "name": "stdout",
     "output_type": "stream",
     "text": [
      "Epoch 0/9\n",
      "----------\n"
     ]
    },
    {
     "name": "stderr",
     "output_type": "stream",
     "text": [
      "[I 2024-08-12 08:46:39,580] Trial 25 pruned. \n"
     ]
    },
    {
     "name": "stdout",
     "output_type": "stream",
     "text": [
      "Epoch 0/9\n",
      "----------\n"
     ]
    },
    {
     "name": "stderr",
     "output_type": "stream",
     "text": [
      "[I 2024-08-12 08:46:41,881] Trial 26 pruned. \n"
     ]
    },
    {
     "name": "stdout",
     "output_type": "stream",
     "text": [
      "Epoch 0/9\n",
      "----------\n"
     ]
    },
    {
     "name": "stderr",
     "output_type": "stream",
     "text": [
      "[I 2024-08-12 08:46:44,181] Trial 27 pruned. \n"
     ]
    },
    {
     "name": "stdout",
     "output_type": "stream",
     "text": [
      "Epoch 0/9\n",
      "----------\n"
     ]
    },
    {
     "name": "stderr",
     "output_type": "stream",
     "text": [
      "[I 2024-08-12 08:46:46,293] Trial 28 pruned. \n"
     ]
    },
    {
     "name": "stdout",
     "output_type": "stream",
     "text": [
      "Epoch 0/9\n",
      "----------\n"
     ]
    },
    {
     "name": "stderr",
     "output_type": "stream",
     "text": [
      "[I 2024-08-12 08:46:48,593] Trial 29 pruned. \n"
     ]
    },
    {
     "name": "stdout",
     "output_type": "stream",
     "text": [
      "Epoch 0/9\n",
      "----------\n"
     ]
    },
    {
     "name": "stderr",
     "output_type": "stream",
     "text": [
      "[I 2024-08-12 08:46:50,706] Trial 30 pruned. \n"
     ]
    },
    {
     "name": "stdout",
     "output_type": "stream",
     "text": [
      "Epoch 0/9\n",
      "----------\n",
      "Epoch 1/9\n",
      "----------\n",
      "Epoch 2/9\n",
      "----------\n",
      "Epoch 3/9\n",
      "----------\n",
      "Epoch 4/9\n",
      "----------\n"
     ]
    },
    {
     "name": "stderr",
     "output_type": "stream",
     "text": [
      "[I 2024-08-12 08:47:01,691] Trial 31 pruned. \n"
     ]
    },
    {
     "name": "stdout",
     "output_type": "stream",
     "text": [
      "Epoch 0/9\n",
      "----------\n"
     ]
    },
    {
     "name": "stderr",
     "output_type": "stream",
     "text": [
      "[I 2024-08-12 08:47:03,993] Trial 32 pruned. \n"
     ]
    },
    {
     "name": "stdout",
     "output_type": "stream",
     "text": [
      "Epoch 0/9\n",
      "----------\n",
      "Epoch 1/9\n",
      "----------\n"
     ]
    },
    {
     "name": "stderr",
     "output_type": "stream",
     "text": [
      "[I 2024-08-12 08:47:08,374] Trial 33 pruned. \n"
     ]
    },
    {
     "name": "stdout",
     "output_type": "stream",
     "text": [
      "Epoch 0/9\n",
      "----------\n"
     ]
    },
    {
     "name": "stderr",
     "output_type": "stream",
     "text": [
      "[I 2024-08-12 08:47:10,677] Trial 34 pruned. \n"
     ]
    },
    {
     "name": "stdout",
     "output_type": "stream",
     "text": [
      "Epoch 0/9\n",
      "----------\n",
      "Epoch 1/9\n",
      "----------\n",
      "Epoch 2/9\n",
      "----------\n",
      "Epoch 3/9\n",
      "----------\n",
      "Epoch 4/9\n",
      "----------\n"
     ]
    },
    {
     "name": "stderr",
     "output_type": "stream",
     "text": [
      "[I 2024-08-12 08:47:21,142] Trial 35 pruned. \n"
     ]
    },
    {
     "name": "stdout",
     "output_type": "stream",
     "text": [
      "Epoch 0/9\n",
      "----------\n"
     ]
    },
    {
     "name": "stderr",
     "output_type": "stream",
     "text": [
      "[I 2024-08-12 08:47:23,442] Trial 36 pruned. \n"
     ]
    },
    {
     "name": "stdout",
     "output_type": "stream",
     "text": [
      "Epoch 0/9\n",
      "----------\n",
      "Epoch 1/9\n",
      "----------\n",
      "Epoch 2/9\n",
      "----------\n",
      "Epoch 3/9\n",
      "----------\n",
      "Epoch 4/9\n",
      "----------\n",
      "Epoch 5/9\n",
      "----------\n",
      "Epoch 6/9\n",
      "----------\n",
      "Epoch 7/9\n",
      "----------\n",
      "Epoch 8/9\n",
      "----------\n",
      "Epoch 9/9\n",
      "----------\n"
     ]
    },
    {
     "name": "stderr",
     "output_type": "stream",
     "text": [
      "[I 2024-08-12 08:47:44,527] Trial 37 finished with value: 0.4625 and parameters: {'lr': 0.0002360961835539234}. Best is trial 17 with value: 0.5625.\n"
     ]
    },
    {
     "name": "stdout",
     "output_type": "stream",
     "text": [
      "Epoch 0/9\n",
      "----------\n"
     ]
    },
    {
     "name": "stderr",
     "output_type": "stream",
     "text": [
      "[I 2024-08-12 08:47:46,829] Trial 38 pruned. \n"
     ]
    },
    {
     "name": "stdout",
     "output_type": "stream",
     "text": [
      "Epoch 0/9\n",
      "----------\n"
     ]
    },
    {
     "name": "stderr",
     "output_type": "stream",
     "text": [
      "[I 2024-08-12 08:47:48,946] Trial 39 pruned. \n"
     ]
    },
    {
     "name": "stdout",
     "output_type": "stream",
     "text": [
      "Epoch 0/9\n",
      "----------\n"
     ]
    },
    {
     "name": "stderr",
     "output_type": "stream",
     "text": [
      "[I 2024-08-12 08:47:51,106] Trial 40 pruned. \n"
     ]
    },
    {
     "name": "stdout",
     "output_type": "stream",
     "text": [
      "Epoch 0/9\n",
      "----------\n",
      "Epoch 1/9\n",
      "----------\n",
      "Epoch 2/9\n",
      "----------\n",
      "Epoch 3/9\n",
      "----------\n",
      "Epoch 4/9\n",
      "----------\n",
      "Epoch 5/9\n",
      "----------\n",
      "Epoch 6/9\n",
      "----------\n",
      "Epoch 7/9\n",
      "----------\n",
      "Epoch 8/9\n",
      "----------\n",
      "Epoch 9/9\n",
      "----------\n"
     ]
    },
    {
     "name": "stderr",
     "output_type": "stream",
     "text": [
      "[I 2024-08-12 08:48:12,141] Trial 41 finished with value: 0.5875 and parameters: {'lr': 0.000971633314066701}. Best is trial 41 with value: 0.5875.\n"
     ]
    },
    {
     "name": "stdout",
     "output_type": "stream",
     "text": [
      "Epoch 0/9\n",
      "----------\n",
      "Epoch 1/9\n",
      "----------\n",
      "Epoch 2/9\n",
      "----------\n",
      "Epoch 3/9\n",
      "----------\n"
     ]
    },
    {
     "name": "stderr",
     "output_type": "stream",
     "text": [
      "[I 2024-08-12 08:48:20,717] Trial 42 pruned. \n"
     ]
    },
    {
     "name": "stdout",
     "output_type": "stream",
     "text": [
      "Epoch 0/9\n",
      "----------\n",
      "Epoch 1/9\n",
      "----------\n",
      "Epoch 2/9\n",
      "----------\n",
      "Epoch 3/9\n",
      "----------\n",
      "Epoch 4/9\n",
      "----------\n"
     ]
    },
    {
     "name": "stderr",
     "output_type": "stream",
     "text": [
      "[I 2024-08-12 08:48:30,907] Trial 43 pruned. \n"
     ]
    },
    {
     "name": "stdout",
     "output_type": "stream",
     "text": [
      "Epoch 0/9\n",
      "----------\n",
      "Epoch 1/9\n",
      "----------\n"
     ]
    },
    {
     "name": "stderr",
     "output_type": "stream",
     "text": [
      "[I 2024-08-12 08:48:35,286] Trial 44 pruned. \n"
     ]
    },
    {
     "name": "stdout",
     "output_type": "stream",
     "text": [
      "Epoch 0/9\n",
      "----------\n",
      "Epoch 1/9\n",
      "----------\n",
      "Epoch 2/9\n",
      "----------\n",
      "Epoch 3/9\n",
      "----------\n",
      "Epoch 4/9\n",
      "----------\n",
      "Epoch 5/9\n",
      "----------\n",
      "Epoch 6/9\n",
      "----------\n",
      "Epoch 7/9\n",
      "----------\n",
      "Epoch 8/9\n",
      "----------\n",
      "Epoch 9/9\n",
      "----------\n"
     ]
    },
    {
     "name": "stderr",
     "output_type": "stream",
     "text": [
      "[I 2024-08-12 08:48:56,229] Trial 45 finished with value: 0.5125000000000001 and parameters: {'lr': 0.0006728355640796222}. Best is trial 41 with value: 0.5875.\n"
     ]
    },
    {
     "name": "stdout",
     "output_type": "stream",
     "text": [
      "Epoch 0/9\n",
      "----------\n"
     ]
    },
    {
     "name": "stderr",
     "output_type": "stream",
     "text": [
      "[I 2024-08-12 08:48:58,344] Trial 46 pruned. \n"
     ]
    },
    {
     "name": "stdout",
     "output_type": "stream",
     "text": [
      "Epoch 0/9\n",
      "----------\n"
     ]
    },
    {
     "name": "stderr",
     "output_type": "stream",
     "text": [
      "[I 2024-08-12 08:49:00,504] Trial 47 pruned. \n"
     ]
    },
    {
     "name": "stdout",
     "output_type": "stream",
     "text": [
      "Epoch 0/9\n",
      "----------\n",
      "Epoch 1/9\n",
      "----------\n",
      "Epoch 2/9\n",
      "----------\n",
      "Epoch 3/9\n",
      "----------\n",
      "Epoch 4/9\n",
      "----------\n",
      "Epoch 5/9\n",
      "----------\n",
      "Epoch 6/9\n",
      "----------\n",
      "Epoch 7/9\n",
      "----------\n",
      "Epoch 8/9\n",
      "----------\n",
      "Epoch 9/9\n",
      "----------\n"
     ]
    },
    {
     "name": "stderr",
     "output_type": "stream",
     "text": [
      "[I 2024-08-12 08:49:20,598] Trial 48 finished with value: 0.5 and parameters: {'lr': 0.0010330012124240924}. Best is trial 41 with value: 0.5875.\n"
     ]
    },
    {
     "name": "stdout",
     "output_type": "stream",
     "text": [
      "Epoch 0/9\n",
      "----------\n"
     ]
    },
    {
     "name": "stderr",
     "output_type": "stream",
     "text": [
      "[I 2024-08-12 08:49:22,899] Trial 49 pruned. \n"
     ]
    },
    {
     "name": "stdout",
     "output_type": "stream",
     "text": [
      "Epoch 0/9\n",
      "----------\n"
     ]
    },
    {
     "name": "stderr",
     "output_type": "stream",
     "text": [
      "[I 2024-08-12 08:49:25,060] Trial 50 pruned. \n"
     ]
    },
    {
     "name": "stdout",
     "output_type": "stream",
     "text": [
      "Epoch 0/9\n",
      "----------\n",
      "Epoch 1/9\n",
      "----------\n",
      "Epoch 2/9\n",
      "----------\n",
      "Epoch 3/9\n",
      "----------\n",
      "Epoch 4/9\n",
      "----------\n",
      "Epoch 5/9\n",
      "----------\n",
      "Epoch 6/9\n",
      "----------\n",
      "Epoch 7/9\n",
      "----------\n",
      "Epoch 8/9\n",
      "----------\n",
      "Epoch 9/9\n",
      "----------\n"
     ]
    },
    {
     "name": "stderr",
     "output_type": "stream",
     "text": [
      "[I 2024-08-12 08:49:46,649] Trial 51 finished with value: 0.5625 and parameters: {'lr': 0.0013069381228137179}. Best is trial 41 with value: 0.5875.\n"
     ]
    },
    {
     "name": "stdout",
     "output_type": "stream",
     "text": [
      "Epoch 0/9\n",
      "----------\n",
      "Epoch 1/9\n",
      "----------\n",
      "Epoch 2/9\n",
      "----------\n"
     ]
    },
    {
     "name": "stderr",
     "output_type": "stream",
     "text": [
      "[I 2024-08-12 08:49:53,147] Trial 52 pruned. \n"
     ]
    },
    {
     "name": "stdout",
     "output_type": "stream",
     "text": [
      "Epoch 0/9\n",
      "----------\n",
      "Epoch 1/9\n",
      "----------\n"
     ]
    },
    {
     "name": "stderr",
     "output_type": "stream",
     "text": [
      "[I 2024-08-12 08:49:57,383] Trial 53 pruned. \n"
     ]
    },
    {
     "name": "stdout",
     "output_type": "stream",
     "text": [
      "Epoch 0/9\n",
      "----------\n"
     ]
    },
    {
     "name": "stderr",
     "output_type": "stream",
     "text": [
      "[I 2024-08-12 08:49:59,543] Trial 54 pruned. \n"
     ]
    },
    {
     "name": "stdout",
     "output_type": "stream",
     "text": [
      "Epoch 0/9\n",
      "----------\n",
      "Epoch 1/9\n",
      "----------\n",
      "Epoch 2/9\n",
      "----------\n",
      "Epoch 3/9\n",
      "----------\n",
      "Epoch 4/9\n",
      "----------\n",
      "Epoch 5/9\n",
      "----------\n",
      "Epoch 6/9\n",
      "----------\n",
      "Epoch 7/9\n",
      "----------\n",
      "Epoch 8/9\n",
      "----------\n",
      "Epoch 9/9\n",
      "----------\n"
     ]
    },
    {
     "name": "stderr",
     "output_type": "stream",
     "text": [
      "[I 2024-08-12 08:50:21,328] Trial 55 finished with value: 0.48750000000000004 and parameters: {'lr': 0.0007543742553604456}. Best is trial 41 with value: 0.5875.\n"
     ]
    },
    {
     "name": "stdout",
     "output_type": "stream",
     "text": [
      "Epoch 0/9\n",
      "----------\n"
     ]
    },
    {
     "name": "stderr",
     "output_type": "stream",
     "text": [
      "[I 2024-08-12 08:50:23,632] Trial 56 pruned. \n"
     ]
    },
    {
     "name": "stdout",
     "output_type": "stream",
     "text": [
      "Epoch 0/9\n",
      "----------\n",
      "Epoch 1/9\n",
      "----------\n",
      "Epoch 2/9\n",
      "----------\n",
      "Epoch 3/9\n",
      "----------\n",
      "Epoch 4/9\n",
      "----------\n",
      "Epoch 5/9\n",
      "----------\n",
      "Epoch 6/9\n",
      "----------\n",
      "Epoch 7/9\n",
      "----------\n",
      "Epoch 8/9\n",
      "----------\n",
      "Epoch 9/9\n",
      "----------\n"
     ]
    },
    {
     "name": "stderr",
     "output_type": "stream",
     "text": [
      "[I 2024-08-12 08:50:45,224] Trial 57 finished with value: 0.5625 and parameters: {'lr': 0.0015350705651392526}. Best is trial 41 with value: 0.5875.\n"
     ]
    },
    {
     "name": "stdout",
     "output_type": "stream",
     "text": [
      "Epoch 0/9\n",
      "----------\n"
     ]
    },
    {
     "name": "stderr",
     "output_type": "stream",
     "text": [
      "[I 2024-08-12 08:50:47,384] Trial 58 pruned. \n"
     ]
    },
    {
     "name": "stdout",
     "output_type": "stream",
     "text": [
      "Epoch 0/9\n",
      "----------\n",
      "Epoch 1/9\n",
      "----------\n",
      "Epoch 2/9\n",
      "----------\n",
      "Epoch 3/9\n",
      "----------\n",
      "Epoch 4/9\n",
      "----------\n",
      "Epoch 5/9\n",
      "----------\n",
      "Epoch 6/9\n",
      "----------\n",
      "Epoch 7/9\n",
      "----------\n",
      "Epoch 8/9\n",
      "----------\n",
      "Epoch 9/9\n",
      "----------\n"
     ]
    },
    {
     "name": "stderr",
     "output_type": "stream",
     "text": [
      "[I 2024-08-12 08:51:08,652] Trial 59 finished with value: 0.5125000000000001 and parameters: {'lr': 0.001632972355112767}. Best is trial 41 with value: 0.5875.\n"
     ]
    },
    {
     "name": "stdout",
     "output_type": "stream",
     "text": [
      "Epoch 0/9\n",
      "----------\n",
      "Epoch 1/9\n",
      "----------\n",
      "Epoch 2/9\n",
      "----------\n",
      "Epoch 3/9\n",
      "----------\n",
      "Epoch 4/9\n",
      "----------\n",
      "Epoch 5/9\n",
      "----------\n",
      "Epoch 6/9\n",
      "----------\n",
      "Epoch 7/9\n",
      "----------\n",
      "Epoch 8/9\n",
      "----------\n",
      "Epoch 9/9\n",
      "----------\n"
     ]
    },
    {
     "name": "stderr",
     "output_type": "stream",
     "text": [
      "[I 2024-08-12 08:51:29,732] Trial 60 finished with value: 0.525 and parameters: {'lr': 0.0015422973682570717}. Best is trial 41 with value: 0.5875.\n"
     ]
    },
    {
     "name": "stdout",
     "output_type": "stream",
     "text": [
      "Epoch 0/9\n",
      "----------\n",
      "Epoch 1/9\n",
      "----------\n"
     ]
    },
    {
     "name": "stderr",
     "output_type": "stream",
     "text": [
      "[I 2024-08-12 08:51:33,970] Trial 61 pruned. \n"
     ]
    },
    {
     "name": "stdout",
     "output_type": "stream",
     "text": [
      "Epoch 0/9\n",
      "----------\n"
     ]
    },
    {
     "name": "stderr",
     "output_type": "stream",
     "text": [
      "[I 2024-08-12 08:51:35,945] Trial 62 pruned. \n"
     ]
    },
    {
     "name": "stdout",
     "output_type": "stream",
     "text": [
      "Epoch 0/9\n",
      "----------\n",
      "Epoch 1/9\n",
      "----------\n",
      "Epoch 2/9\n",
      "----------\n",
      "Epoch 3/9\n",
      "----------\n",
      "Epoch 4/9\n",
      "----------\n",
      "Epoch 5/9\n",
      "----------\n",
      "Epoch 6/9\n",
      "----------\n",
      "Epoch 7/9\n",
      "----------\n",
      "Epoch 8/9\n",
      "----------\n",
      "Epoch 9/9\n",
      "----------\n"
     ]
    },
    {
     "name": "stderr",
     "output_type": "stream",
     "text": [
      "[I 2024-08-12 08:51:57,399] Trial 63 finished with value: 0.5875 and parameters: {'lr': 0.0008623815849565773}. Best is trial 41 with value: 0.5875.\n"
     ]
    },
    {
     "name": "stdout",
     "output_type": "stream",
     "text": [
      "Epoch 0/9\n",
      "----------\n"
     ]
    },
    {
     "name": "stderr",
     "output_type": "stream",
     "text": [
      "[I 2024-08-12 08:51:59,513] Trial 64 pruned. \n"
     ]
    },
    {
     "name": "stdout",
     "output_type": "stream",
     "text": [
      "Epoch 0/9\n",
      "----------\n",
      "Epoch 1/9\n",
      "----------\n",
      "Epoch 2/9\n",
      "----------\n"
     ]
    },
    {
     "name": "stderr",
     "output_type": "stream",
     "text": [
      "[I 2024-08-12 08:52:06,018] Trial 65 pruned. \n"
     ]
    },
    {
     "name": "stdout",
     "output_type": "stream",
     "text": [
      "Epoch 0/9\n",
      "----------\n"
     ]
    },
    {
     "name": "stderr",
     "output_type": "stream",
     "text": [
      "[I 2024-08-12 08:52:08,322] Trial 66 pruned. \n"
     ]
    },
    {
     "name": "stdout",
     "output_type": "stream",
     "text": [
      "Epoch 0/9\n",
      "----------\n",
      "Epoch 1/9\n",
      "----------\n",
      "Epoch 2/9\n",
      "----------\n"
     ]
    },
    {
     "name": "stderr",
     "output_type": "stream",
     "text": [
      "[I 2024-08-12 08:52:14,777] Trial 67 pruned. \n"
     ]
    },
    {
     "name": "stdout",
     "output_type": "stream",
     "text": [
      "Epoch 0/9\n",
      "----------\n"
     ]
    },
    {
     "name": "stderr",
     "output_type": "stream",
     "text": [
      "[I 2024-08-12 08:52:17,081] Trial 68 pruned. \n"
     ]
    },
    {
     "name": "stdout",
     "output_type": "stream",
     "text": [
      "Epoch 0/9\n",
      "----------\n",
      "Epoch 1/9\n",
      "----------\n",
      "Epoch 2/9\n",
      "----------\n"
     ]
    },
    {
     "name": "stderr",
     "output_type": "stream",
     "text": [
      "[I 2024-08-12 08:52:23,067] Trial 69 pruned. \n"
     ]
    },
    {
     "name": "stdout",
     "output_type": "stream",
     "text": [
      "Epoch 0/9\n",
      "----------\n"
     ]
    },
    {
     "name": "stderr",
     "output_type": "stream",
     "text": [
      "[I 2024-08-12 08:52:25,368] Trial 70 pruned. \n"
     ]
    },
    {
     "name": "stdout",
     "output_type": "stream",
     "text": [
      "Epoch 0/9\n",
      "----------\n"
     ]
    },
    {
     "name": "stderr",
     "output_type": "stream",
     "text": [
      "[I 2024-08-12 08:52:27,670] Trial 71 pruned. \n"
     ]
    },
    {
     "name": "stdout",
     "output_type": "stream",
     "text": [
      "Epoch 0/9\n",
      "----------\n",
      "Epoch 1/9\n",
      "----------\n",
      "Epoch 2/9\n",
      "----------\n",
      "Epoch 3/9\n",
      "----------\n",
      "Epoch 4/9\n",
      "----------\n",
      "Epoch 5/9\n",
      "----------\n",
      "Epoch 6/9\n",
      "----------\n",
      "Epoch 7/9\n",
      "----------\n",
      "Epoch 8/9\n",
      "----------\n",
      "Epoch 9/9\n",
      "----------\n"
     ]
    },
    {
     "name": "stderr",
     "output_type": "stream",
     "text": [
      "[I 2024-08-12 08:52:48,235] Trial 72 finished with value: 0.625 and parameters: {'lr': 0.0012233844095952513}. Best is trial 72 with value: 0.625.\n"
     ]
    },
    {
     "name": "stdout",
     "output_type": "stream",
     "text": [
      "Epoch 0/9\n",
      "----------\n",
      "Epoch 1/9\n",
      "----------\n",
      "Epoch 2/9\n",
      "----------\n",
      "Epoch 3/9\n",
      "----------\n",
      "Epoch 4/9\n",
      "----------\n",
      "Epoch 5/9\n",
      "----------\n",
      "Epoch 6/9\n",
      "----------\n"
     ]
    },
    {
     "name": "stderr",
     "output_type": "stream",
     "text": [
      "[I 2024-08-12 08:53:02,813] Trial 73 pruned. \n"
     ]
    },
    {
     "name": "stdout",
     "output_type": "stream",
     "text": [
      "Epoch 0/9\n",
      "----------\n"
     ]
    },
    {
     "name": "stderr",
     "output_type": "stream",
     "text": [
      "[I 2024-08-12 08:53:05,116] Trial 74 pruned. \n"
     ]
    },
    {
     "name": "stdout",
     "output_type": "stream",
     "text": [
      "Epoch 0/9\n",
      "----------\n"
     ]
    },
    {
     "name": "stderr",
     "output_type": "stream",
     "text": [
      "[I 2024-08-12 08:53:07,419] Trial 75 pruned. \n"
     ]
    },
    {
     "name": "stdout",
     "output_type": "stream",
     "text": [
      "Epoch 0/9\n",
      "----------\n",
      "Epoch 1/9\n",
      "----------\n"
     ]
    },
    {
     "name": "stderr",
     "output_type": "stream",
     "text": [
      "[I 2024-08-12 08:53:11,846] Trial 76 pruned. \n"
     ]
    },
    {
     "name": "stdout",
     "output_type": "stream",
     "text": [
      "Epoch 0/9\n",
      "----------\n"
     ]
    },
    {
     "name": "stderr",
     "output_type": "stream",
     "text": [
      "[I 2024-08-12 08:53:14,149] Trial 77 pruned. \n"
     ]
    },
    {
     "name": "stdout",
     "output_type": "stream",
     "text": [
      "Epoch 0/9\n",
      "----------\n",
      "Epoch 1/9\n",
      "----------\n",
      "Epoch 2/9\n",
      "----------\n",
      "Epoch 3/9\n",
      "----------\n",
      "Epoch 4/9\n",
      "----------\n"
     ]
    },
    {
     "name": "stderr",
     "output_type": "stream",
     "text": [
      "[I 2024-08-12 08:53:24,563] Trial 78 pruned. \n"
     ]
    },
    {
     "name": "stdout",
     "output_type": "stream",
     "text": [
      "Epoch 0/9\n",
      "----------\n"
     ]
    },
    {
     "name": "stderr",
     "output_type": "stream",
     "text": [
      "[I 2024-08-12 08:53:26,676] Trial 79 pruned. \n"
     ]
    },
    {
     "name": "stdout",
     "output_type": "stream",
     "text": [
      "Epoch 0/9\n",
      "----------\n"
     ]
    },
    {
     "name": "stderr",
     "output_type": "stream",
     "text": [
      "[I 2024-08-12 08:53:28,651] Trial 80 pruned. \n"
     ]
    },
    {
     "name": "stdout",
     "output_type": "stream",
     "text": [
      "Epoch 0/9\n",
      "----------\n"
     ]
    },
    {
     "name": "stderr",
     "output_type": "stream",
     "text": [
      "[I 2024-08-12 08:53:30,953] Trial 81 pruned. \n"
     ]
    },
    {
     "name": "stdout",
     "output_type": "stream",
     "text": [
      "Epoch 0/9\n",
      "----------\n",
      "Epoch 1/9\n",
      "----------\n",
      "Epoch 2/9\n",
      "----------\n",
      "Epoch 3/9\n",
      "----------\n",
      "Epoch 4/9\n",
      "----------\n",
      "Epoch 5/9\n",
      "----------\n",
      "Epoch 6/9\n",
      "----------\n"
     ]
    },
    {
     "name": "stderr",
     "output_type": "stream",
     "text": [
      "[I 2024-08-12 08:53:45,432] Trial 82 pruned. \n"
     ]
    },
    {
     "name": "stdout",
     "output_type": "stream",
     "text": [
      "Epoch 0/9\n",
      "----------\n"
     ]
    },
    {
     "name": "stderr",
     "output_type": "stream",
     "text": [
      "[I 2024-08-12 08:53:47,733] Trial 83 pruned. \n"
     ]
    },
    {
     "name": "stdout",
     "output_type": "stream",
     "text": [
      "Epoch 0/9\n",
      "----------\n",
      "Epoch 1/9\n",
      "----------\n"
     ]
    },
    {
     "name": "stderr",
     "output_type": "stream",
     "text": [
      "[I 2024-08-12 08:53:51,828] Trial 84 pruned. \n"
     ]
    },
    {
     "name": "stdout",
     "output_type": "stream",
     "text": [
      "Epoch 0/9\n",
      "----------\n"
     ]
    },
    {
     "name": "stderr",
     "output_type": "stream",
     "text": [
      "[I 2024-08-12 08:53:53,943] Trial 85 pruned. \n"
     ]
    },
    {
     "name": "stdout",
     "output_type": "stream",
     "text": [
      "Epoch 0/9\n",
      "----------\n"
     ]
    },
    {
     "name": "stderr",
     "output_type": "stream",
     "text": [
      "[I 2024-08-12 08:53:56,244] Trial 86 pruned. \n"
     ]
    },
    {
     "name": "stdout",
     "output_type": "stream",
     "text": [
      "Epoch 0/9\n",
      "----------\n"
     ]
    },
    {
     "name": "stderr",
     "output_type": "stream",
     "text": [
      "[I 2024-08-12 08:53:58,404] Trial 87 pruned. \n"
     ]
    },
    {
     "name": "stdout",
     "output_type": "stream",
     "text": [
      "Epoch 0/9\n",
      "----------\n",
      "Epoch 1/9\n",
      "----------\n",
      "Epoch 2/9\n",
      "----------\n",
      "Epoch 3/9\n",
      "----------\n",
      "Epoch 4/9\n",
      "----------\n",
      "Epoch 5/9\n",
      "----------\n",
      "Epoch 6/9\n",
      "----------\n",
      "Epoch 7/9\n",
      "----------\n",
      "Epoch 8/9\n",
      "----------\n",
      "Epoch 9/9\n",
      "----------\n"
     ]
    },
    {
     "name": "stderr",
     "output_type": "stream",
     "text": [
      "[I 2024-08-12 08:54:19,945] Trial 88 finished with value: 0.5625 and parameters: {'lr': 0.0004598266547181112}. Best is trial 72 with value: 0.625.\n"
     ]
    },
    {
     "name": "stdout",
     "output_type": "stream",
     "text": [
      "Epoch 0/9\n",
      "----------\n"
     ]
    },
    {
     "name": "stderr",
     "output_type": "stream",
     "text": [
      "[I 2024-08-12 08:54:22,104] Trial 89 pruned. \n"
     ]
    },
    {
     "name": "stdout",
     "output_type": "stream",
     "text": [
      "Epoch 0/9\n",
      "----------\n"
     ]
    },
    {
     "name": "stderr",
     "output_type": "stream",
     "text": [
      "[I 2024-08-12 08:54:24,403] Trial 90 pruned. \n"
     ]
    },
    {
     "name": "stdout",
     "output_type": "stream",
     "text": [
      "Epoch 0/9\n",
      "----------\n"
     ]
    },
    {
     "name": "stderr",
     "output_type": "stream",
     "text": [
      "[I 2024-08-12 08:54:26,515] Trial 91 pruned. \n"
     ]
    },
    {
     "name": "stdout",
     "output_type": "stream",
     "text": [
      "Epoch 0/9\n",
      "----------\n",
      "Epoch 1/9\n",
      "----------\n",
      "Epoch 2/9\n",
      "----------\n",
      "Epoch 3/9\n",
      "----------\n",
      "Epoch 4/9\n",
      "----------\n",
      "Epoch 5/9\n",
      "----------\n",
      "Epoch 6/9\n",
      "----------\n",
      "Epoch 7/9\n",
      "----------\n",
      "Epoch 8/9\n",
      "----------\n",
      "Epoch 9/9\n",
      "----------\n"
     ]
    },
    {
     "name": "stderr",
     "output_type": "stream",
     "text": [
      "[I 2024-08-12 08:54:47,972] Trial 92 finished with value: 0.525 and parameters: {'lr': 0.0006979387550735686}. Best is trial 72 with value: 0.625.\n"
     ]
    },
    {
     "name": "stdout",
     "output_type": "stream",
     "text": [
      "Epoch 0/9\n",
      "----------\n",
      "Epoch 1/9\n",
      "----------\n",
      "Epoch 2/9\n",
      "----------\n",
      "Epoch 3/9\n",
      "----------\n",
      "Epoch 4/9\n",
      "----------\n",
      "Epoch 5/9\n",
      "----------\n",
      "Epoch 6/9\n",
      "----------\n",
      "Epoch 7/9\n",
      "----------\n",
      "Epoch 8/9\n",
      "----------\n",
      "Epoch 9/9\n",
      "----------\n"
     ]
    },
    {
     "name": "stderr",
     "output_type": "stream",
     "text": [
      "[I 2024-08-12 08:55:10,321] Trial 93 finished with value: 0.47500000000000003 and parameters: {'lr': 0.0008695606806327801}. Best is trial 72 with value: 0.625.\n"
     ]
    },
    {
     "name": "stdout",
     "output_type": "stream",
     "text": [
      "Epoch 0/9\n",
      "----------\n"
     ]
    },
    {
     "name": "stderr",
     "output_type": "stream",
     "text": [
      "[I 2024-08-12 08:55:12,624] Trial 94 pruned. \n"
     ]
    },
    {
     "name": "stdout",
     "output_type": "stream",
     "text": [
      "Epoch 0/9\n",
      "----------\n",
      "Epoch 1/9\n",
      "----------\n",
      "Epoch 2/9\n",
      "----------\n",
      "Epoch 3/9\n",
      "----------\n",
      "Epoch 4/9\n",
      "----------\n",
      "Epoch 5/9\n",
      "----------\n",
      "Epoch 6/9\n",
      "----------\n",
      "Epoch 7/9\n",
      "----------\n",
      "Epoch 8/9\n",
      "----------\n",
      "Epoch 9/9\n",
      "----------\n"
     ]
    },
    {
     "name": "stderr",
     "output_type": "stream",
     "text": [
      "[I 2024-08-12 08:55:34,309] Trial 95 finished with value: 0.47500000000000003 and parameters: {'lr': 0.0006218777539688775}. Best is trial 72 with value: 0.625.\n"
     ]
    },
    {
     "name": "stdout",
     "output_type": "stream",
     "text": [
      "Epoch 0/9\n",
      "----------\n"
     ]
    },
    {
     "name": "stderr",
     "output_type": "stream",
     "text": [
      "[I 2024-08-12 08:55:36,330] Trial 96 pruned. \n"
     ]
    },
    {
     "name": "stdout",
     "output_type": "stream",
     "text": [
      "Epoch 0/9\n",
      "----------\n"
     ]
    },
    {
     "name": "stderr",
     "output_type": "stream",
     "text": [
      "[I 2024-08-12 08:55:38,633] Trial 97 pruned. \n"
     ]
    },
    {
     "name": "stdout",
     "output_type": "stream",
     "text": [
      "Epoch 0/9\n",
      "----------\n"
     ]
    },
    {
     "name": "stderr",
     "output_type": "stream",
     "text": [
      "[I 2024-08-12 08:55:40,793] Trial 98 pruned. \n"
     ]
    },
    {
     "name": "stdout",
     "output_type": "stream",
     "text": [
      "Epoch 0/9\n",
      "----------\n",
      "Epoch 1/9\n",
      "----------\n",
      "Epoch 2/9\n",
      "----------\n",
      "Epoch 3/9\n",
      "----------\n",
      "Epoch 4/9\n",
      "----------\n",
      "Epoch 5/9\n",
      "----------\n",
      "Epoch 6/9\n",
      "----------\n",
      "Epoch 7/9\n",
      "----------\n",
      "Epoch 8/9\n",
      "----------\n",
      "Epoch 9/9\n",
      "----------\n"
     ]
    },
    {
     "name": "stderr",
     "output_type": "stream",
     "text": [
      "[I 2024-08-12 08:56:02,062] Trial 99 finished with value: 0.6375000000000001 and parameters: {'lr': 0.0009858762626711063}. Best is trial 99 with value: 0.6375000000000001.\n"
     ]
    },
    {
     "name": "stdout",
     "output_type": "stream",
     "text": [
      "Epoch 0/9\n",
      "----------\n"
     ]
    },
    {
     "name": "stderr",
     "output_type": "stream",
     "text": [
      "[I 2024-08-12 08:56:04,364] Trial 100 pruned. \n"
     ]
    },
    {
     "name": "stdout",
     "output_type": "stream",
     "text": [
      "Epoch 0/9\n",
      "----------\n",
      "Epoch 1/9\n",
      "----------\n",
      "Epoch 2/9\n",
      "----------\n",
      "Epoch 3/9\n",
      "----------\n",
      "Epoch 4/9\n",
      "----------\n",
      "Epoch 5/9\n",
      "----------\n",
      "Epoch 6/9\n",
      "----------\n",
      "Epoch 7/9\n",
      "----------\n",
      "Epoch 8/9\n",
      "----------\n",
      "Epoch 9/9\n",
      "----------\n"
     ]
    },
    {
     "name": "stderr",
     "output_type": "stream",
     "text": [
      "[I 2024-08-12 08:56:26,478] Trial 101 finished with value: 0.5375 and parameters: {'lr': 0.0008345627809750478}. Best is trial 99 with value: 0.6375000000000001.\n"
     ]
    },
    {
     "name": "stdout",
     "output_type": "stream",
     "text": [
      "Epoch 0/9\n",
      "----------\n",
      "Epoch 1/9\n",
      "----------\n",
      "Epoch 2/9\n",
      "----------\n"
     ]
    },
    {
     "name": "stderr",
     "output_type": "stream",
     "text": [
      "[I 2024-08-12 08:56:33,123] Trial 102 pruned. \n"
     ]
    },
    {
     "name": "stdout",
     "output_type": "stream",
     "text": [
      "Epoch 0/9\n",
      "----------\n"
     ]
    },
    {
     "name": "stderr",
     "output_type": "stream",
     "text": [
      "[I 2024-08-12 08:56:35,096] Trial 103 pruned. \n"
     ]
    },
    {
     "name": "stdout",
     "output_type": "stream",
     "text": [
      "Epoch 0/9\n",
      "----------\n",
      "Epoch 1/9\n",
      "----------\n",
      "Epoch 2/9\n",
      "----------\n",
      "Epoch 3/9\n",
      "----------\n"
     ]
    },
    {
     "name": "stderr",
     "output_type": "stream",
     "text": [
      "[I 2024-08-12 08:56:43,302] Trial 104 pruned. \n"
     ]
    },
    {
     "name": "stdout",
     "output_type": "stream",
     "text": [
      "Epoch 0/9\n",
      "----------\n"
     ]
    },
    {
     "name": "stderr",
     "output_type": "stream",
     "text": [
      "[I 2024-08-12 08:56:45,606] Trial 105 pruned. \n"
     ]
    },
    {
     "name": "stdout",
     "output_type": "stream",
     "text": [
      "Epoch 0/9\n",
      "----------\n",
      "Epoch 1/9\n",
      "----------\n",
      "Epoch 2/9\n",
      "----------\n",
      "Epoch 3/9\n",
      "----------\n"
     ]
    },
    {
     "name": "stderr",
     "output_type": "stream",
     "text": [
      "[I 2024-08-12 08:56:54,040] Trial 106 pruned. \n"
     ]
    },
    {
     "name": "stdout",
     "output_type": "stream",
     "text": [
      "Epoch 0/9\n",
      "----------\n"
     ]
    },
    {
     "name": "stderr",
     "output_type": "stream",
     "text": [
      "[I 2024-08-12 08:56:56,013] Trial 107 pruned. \n"
     ]
    },
    {
     "name": "stdout",
     "output_type": "stream",
     "text": [
      "Epoch 0/9\n",
      "----------\n"
     ]
    },
    {
     "name": "stderr",
     "output_type": "stream",
     "text": [
      "[I 2024-08-12 08:56:58,314] Trial 108 pruned. \n"
     ]
    },
    {
     "name": "stdout",
     "output_type": "stream",
     "text": [
      "Epoch 0/9\n",
      "----------\n",
      "Epoch 1/9\n",
      "----------\n",
      "Epoch 2/9\n",
      "----------\n",
      "Epoch 3/9\n",
      "----------\n",
      "Epoch 4/9\n",
      "----------\n",
      "Epoch 5/9\n",
      "----------\n",
      "Epoch 6/9\n",
      "----------\n",
      "Epoch 7/9\n",
      "----------\n",
      "Epoch 8/9\n",
      "----------\n",
      "Epoch 9/9\n",
      "----------\n"
     ]
    },
    {
     "name": "stderr",
     "output_type": "stream",
     "text": [
      "[I 2024-08-12 08:57:19,263] Trial 109 finished with value: 0.6125 and parameters: {'lr': 0.0005848137027478861}. Best is trial 99 with value: 0.6375000000000001.\n",
      "[I 2024-08-12 08:57:19,289] A new study created in memory with name: sgd_study\n"
     ]
    },
    {
     "name": "stdout",
     "output_type": "stream",
     "text": [
      "Study statistics: \n",
      "  Number of finished trials:  110\n",
      "  Number of pruned trials:  79\n",
      "  Number of complete trials:  31\n",
      "Best trial:\n",
      "  Value:  0.6375000000000001\n",
      "  Params: \n",
      "    lr: 0.0009858762626711063\n",
      "Epoch 0/9\n",
      "----------\n",
      "Epoch 1/9\n",
      "----------\n",
      "Epoch 2/9\n",
      "----------\n",
      "Epoch 3/9\n",
      "----------\n",
      "Epoch 4/9\n",
      "----------\n",
      "Epoch 5/9\n",
      "----------\n",
      "Epoch 6/9\n",
      "----------\n",
      "Epoch 7/9\n",
      "----------\n",
      "Epoch 8/9\n",
      "----------\n",
      "Epoch 9/9\n",
      "----------\n"
     ]
    },
    {
     "name": "stderr",
     "output_type": "stream",
     "text": [
      "[I 2024-08-12 08:57:39,817] Trial 0 finished with value: 0.1 and parameters: {'lr': 0.05648062266943862, 'sgd_momentum': 0.8815293429217469}. Best is trial 0 with value: 0.1.\n"
     ]
    },
    {
     "name": "stdout",
     "output_type": "stream",
     "text": [
      "Epoch 0/9\n",
      "----------\n",
      "Epoch 1/9\n",
      "----------\n",
      "Epoch 2/9\n",
      "----------\n",
      "Epoch 3/9\n",
      "----------\n",
      "Epoch 4/9\n",
      "----------\n",
      "Epoch 5/9\n",
      "----------\n",
      "Epoch 6/9\n",
      "----------\n",
      "Epoch 7/9\n",
      "----------\n",
      "Epoch 8/9\n",
      "----------\n",
      "Epoch 9/9\n",
      "----------\n"
     ]
    },
    {
     "name": "stderr",
     "output_type": "stream",
     "text": [
      "[I 2024-08-12 08:58:00,315] Trial 1 finished with value: 0.25 and parameters: {'lr': 3.8248051790377695e-05, 'sgd_momentum': 0.34957637597462}. Best is trial 1 with value: 0.25.\n"
     ]
    },
    {
     "name": "stdout",
     "output_type": "stream",
     "text": [
      "Epoch 0/9\n",
      "----------\n",
      "Epoch 1/9\n",
      "----------\n",
      "Epoch 2/9\n",
      "----------\n",
      "Epoch 3/9\n",
      "----------\n",
      "Epoch 4/9\n",
      "----------\n",
      "Epoch 5/9\n",
      "----------\n",
      "Epoch 6/9\n",
      "----------\n",
      "Epoch 7/9\n",
      "----------\n",
      "Epoch 8/9\n",
      "----------\n",
      "Epoch 9/9\n",
      "----------\n"
     ]
    },
    {
     "name": "stderr",
     "output_type": "stream",
     "text": [
      "[I 2024-08-12 08:58:21,379] Trial 2 finished with value: 0.2625 and parameters: {'lr': 7.796606417089176e-05, 'sgd_momentum': 0.9633933924001435}. Best is trial 2 with value: 0.2625.\n"
     ]
    },
    {
     "name": "stdout",
     "output_type": "stream",
     "text": [
      "Epoch 0/9\n",
      "----------\n",
      "Epoch 1/9\n",
      "----------\n",
      "Epoch 2/9\n",
      "----------\n",
      "Epoch 3/9\n",
      "----------\n",
      "Epoch 4/9\n",
      "----------\n",
      "Epoch 5/9\n",
      "----------\n",
      "Epoch 6/9\n",
      "----------\n",
      "Epoch 7/9\n",
      "----------\n",
      "Epoch 8/9\n",
      "----------\n",
      "Epoch 9/9\n",
      "----------\n"
     ]
    },
    {
     "name": "stderr",
     "output_type": "stream",
     "text": [
      "[I 2024-08-12 08:58:42,109] Trial 3 finished with value: 0.1875 and parameters: {'lr': 0.0002059944788691227, 'sgd_momentum': 0.6499450062795364}. Best is trial 2 with value: 0.2625.\n"
     ]
    },
    {
     "name": "stdout",
     "output_type": "stream",
     "text": [
      "Epoch 0/9\n",
      "----------\n",
      "Epoch 1/9\n",
      "----------\n",
      "Epoch 2/9\n",
      "----------\n",
      "Epoch 3/9\n",
      "----------\n",
      "Epoch 4/9\n",
      "----------\n",
      "Epoch 5/9\n",
      "----------\n",
      "Epoch 6/9\n",
      "----------\n",
      "Epoch 7/9\n",
      "----------\n",
      "Epoch 8/9\n",
      "----------\n",
      "Epoch 9/9\n",
      "----------\n"
     ]
    },
    {
     "name": "stderr",
     "output_type": "stream",
     "text": [
      "[I 2024-08-12 08:59:03,149] Trial 4 finished with value: 0.1 and parameters: {'lr': 0.037564621299662045, 'sgd_momentum': 0.7453900091381194}. Best is trial 2 with value: 0.2625.\n"
     ]
    },
    {
     "name": "stdout",
     "output_type": "stream",
     "text": [
      "Epoch 0/9\n",
      "----------\n",
      "Epoch 1/9\n",
      "----------\n",
      "Epoch 2/9\n",
      "----------\n",
      "Epoch 3/9\n",
      "----------\n",
      "Epoch 4/9\n",
      "----------\n",
      "Epoch 5/9\n",
      "----------\n",
      "Epoch 6/9\n",
      "----------\n",
      "Epoch 7/9\n",
      "----------\n",
      "Epoch 8/9\n",
      "----------\n",
      "Epoch 9/9\n",
      "----------\n"
     ]
    },
    {
     "name": "stderr",
     "output_type": "stream",
     "text": [
      "[I 2024-08-12 08:59:24,260] Trial 5 finished with value: 0.36250000000000004 and parameters: {'lr': 0.004306128612235511, 'sgd_momentum': 0.28767460317812005}. Best is trial 5 with value: 0.36250000000000004.\n"
     ]
    },
    {
     "name": "stdout",
     "output_type": "stream",
     "text": [
      "Epoch 0/9\n",
      "----------\n",
      "Epoch 1/9\n",
      "----------\n",
      "Epoch 2/9\n",
      "----------\n",
      "Epoch 3/9\n",
      "----------\n",
      "Epoch 4/9\n",
      "----------\n",
      "Epoch 5/9\n",
      "----------\n"
     ]
    },
    {
     "name": "stderr",
     "output_type": "stream",
     "text": [
      "[I 2024-08-12 08:59:36,699] Trial 6 pruned. \n"
     ]
    },
    {
     "name": "stdout",
     "output_type": "stream",
     "text": [
      "Epoch 0/9\n",
      "----------\n",
      "Epoch 1/9\n",
      "----------\n",
      "Epoch 2/9\n",
      "----------\n",
      "Epoch 3/9\n",
      "----------\n",
      "Epoch 4/9\n",
      "----------\n",
      "Epoch 5/9\n",
      "----------\n",
      "Epoch 6/9\n",
      "----------\n",
      "Epoch 7/9\n",
      "----------\n",
      "Epoch 8/9\n",
      "----------\n",
      "Epoch 9/9\n",
      "----------\n"
     ]
    },
    {
     "name": "stderr",
     "output_type": "stream",
     "text": [
      "[I 2024-08-12 08:59:57,617] Trial 7 finished with value: 0.225 and parameters: {'lr': 0.0001471191940148975, 'sgd_momentum': 0.5786409188354364}. Best is trial 5 with value: 0.36250000000000004.\n"
     ]
    },
    {
     "name": "stdout",
     "output_type": "stream",
     "text": [
      "Epoch 0/9\n",
      "----------\n",
      "Epoch 1/9\n",
      "----------\n",
      "Epoch 2/9\n",
      "----------\n",
      "Epoch 3/9\n",
      "----------\n",
      "Epoch 4/9\n",
      "----------\n",
      "Epoch 5/9\n",
      "----------\n",
      "Epoch 6/9\n",
      "----------\n",
      "Epoch 7/9\n",
      "----------\n",
      "Epoch 8/9\n",
      "----------\n"
     ]
    },
    {
     "name": "stderr",
     "output_type": "stream",
     "text": [
      "[I 2024-08-12 09:00:16,925] Trial 8 pruned. \n"
     ]
    },
    {
     "name": "stdout",
     "output_type": "stream",
     "text": [
      "Epoch 0/9\n",
      "----------\n"
     ]
    },
    {
     "name": "stderr",
     "output_type": "stream",
     "text": [
      "[I 2024-08-12 09:00:19,218] Trial 9 pruned. \n"
     ]
    },
    {
     "name": "stdout",
     "output_type": "stream",
     "text": [
      "Epoch 0/9\n",
      "----------\n",
      "Epoch 1/9\n",
      "----------\n",
      "Epoch 2/9\n",
      "----------\n",
      "Epoch 3/9\n",
      "----------\n",
      "Epoch 4/9\n",
      "----------\n",
      "Epoch 5/9\n",
      "----------\n",
      "Epoch 6/9\n",
      "----------\n",
      "Epoch 7/9\n",
      "----------\n",
      "Epoch 8/9\n",
      "----------\n",
      "Epoch 9/9\n",
      "----------\n"
     ]
    },
    {
     "name": "stderr",
     "output_type": "stream",
     "text": [
      "[I 2024-08-12 09:00:39,289] Trial 10 finished with value: 0.4375 and parameters: {'lr': 0.0019337495907216283, 'sgd_momentum': 0.10368147366563718}. Best is trial 10 with value: 0.4375.\n"
     ]
    },
    {
     "name": "stdout",
     "output_type": "stream",
     "text": [
      "Epoch 0/9\n",
      "----------\n",
      "Epoch 1/9\n",
      "----------\n",
      "Epoch 2/9\n",
      "----------\n",
      "Epoch 3/9\n",
      "----------\n",
      "Epoch 4/9\n",
      "----------\n",
      "Epoch 5/9\n",
      "----------\n",
      "Epoch 6/9\n",
      "----------\n",
      "Epoch 7/9\n",
      "----------\n",
      "Epoch 8/9\n",
      "----------\n",
      "Epoch 9/9\n",
      "----------\n"
     ]
    },
    {
     "name": "stderr",
     "output_type": "stream",
     "text": [
      "[I 2024-08-12 09:01:00,916] Trial 11 finished with value: 0.5 and parameters: {'lr': 0.0020827781930819887, 'sgd_momentum': 0.10934555977941057}. Best is trial 11 with value: 0.5.\n"
     ]
    },
    {
     "name": "stdout",
     "output_type": "stream",
     "text": [
      "Epoch 0/9\n",
      "----------\n",
      "Epoch 1/9\n",
      "----------\n",
      "Epoch 2/9\n",
      "----------\n",
      "Epoch 3/9\n",
      "----------\n",
      "Epoch 4/9\n",
      "----------\n",
      "Epoch 5/9\n",
      "----------\n",
      "Epoch 6/9\n",
      "----------\n",
      "Epoch 7/9\n",
      "----------\n",
      "Epoch 8/9\n",
      "----------\n",
      "Epoch 9/9\n",
      "----------\n"
     ]
    },
    {
     "name": "stderr",
     "output_type": "stream",
     "text": [
      "[I 2024-08-12 09:01:22,351] Trial 12 finished with value: 0.4 and parameters: {'lr': 0.0009408987058332178, 'sgd_momentum': 0.10988456336928903}. Best is trial 11 with value: 0.5.\n"
     ]
    },
    {
     "name": "stdout",
     "output_type": "stream",
     "text": [
      "Epoch 0/9\n",
      "----------\n",
      "Epoch 1/9\n",
      "----------\n",
      "Epoch 2/9\n",
      "----------\n",
      "Epoch 3/9\n",
      "----------\n",
      "Epoch 4/9\n",
      "----------\n",
      "Epoch 5/9\n",
      "----------\n",
      "Epoch 6/9\n",
      "----------\n",
      "Epoch 7/9\n",
      "----------\n",
      "Epoch 8/9\n",
      "----------\n",
      "Epoch 9/9\n",
      "----------\n"
     ]
    },
    {
     "name": "stderr",
     "output_type": "stream",
     "text": [
      "[I 2024-08-12 09:01:42,385] Trial 13 finished with value: 0.3125 and parameters: {'lr': 0.0008906127726349659, 'sgd_momentum': 0.10107031647137589}. Best is trial 11 with value: 0.5.\n"
     ]
    },
    {
     "name": "stdout",
     "output_type": "stream",
     "text": [
      "Epoch 0/9\n",
      "----------\n",
      "Epoch 1/9\n",
      "----------\n",
      "Epoch 2/9\n",
      "----------\n",
      "Epoch 3/9\n",
      "----------\n",
      "Epoch 4/9\n",
      "----------\n",
      "Epoch 5/9\n",
      "----------\n",
      "Epoch 6/9\n",
      "----------\n",
      "Epoch 7/9\n",
      "----------\n",
      "Epoch 8/9\n",
      "----------\n",
      "Epoch 9/9\n",
      "----------\n"
     ]
    },
    {
     "name": "stderr",
     "output_type": "stream",
     "text": [
      "[I 2024-08-12 09:02:03,509] Trial 14 finished with value: 0.3375 and parameters: {'lr': 0.004289996182174816, 'sgd_momentum': 0.39887177185614553}. Best is trial 11 with value: 0.5.\n"
     ]
    },
    {
     "name": "stdout",
     "output_type": "stream",
     "text": [
      "Epoch 0/9\n",
      "----------\n",
      "Epoch 1/9\n",
      "----------\n",
      "Epoch 2/9\n",
      "----------\n",
      "Epoch 3/9\n",
      "----------\n",
      "Epoch 4/9\n",
      "----------\n",
      "Epoch 5/9\n",
      "----------\n",
      "Epoch 6/9\n",
      "----------\n",
      "Epoch 7/9\n",
      "----------\n"
     ]
    },
    {
     "name": "stderr",
     "output_type": "stream",
     "text": [
      "[I 2024-08-12 09:02:20,027] Trial 15 pruned. \n"
     ]
    },
    {
     "name": "stdout",
     "output_type": "stream",
     "text": [
      "Epoch 0/9\n",
      "----------\n",
      "Epoch 1/9\n",
      "----------\n",
      "Epoch 2/9\n",
      "----------\n",
      "Epoch 3/9\n",
      "----------\n",
      "Epoch 4/9\n",
      "----------\n",
      "Epoch 5/9\n",
      "----------\n",
      "Epoch 6/9\n",
      "----------\n",
      "Epoch 7/9\n",
      "----------\n",
      "Epoch 8/9\n",
      "----------\n",
      "Epoch 9/9\n",
      "----------\n"
     ]
    },
    {
     "name": "stderr",
     "output_type": "stream",
     "text": [
      "[I 2024-08-12 09:02:41,488] Trial 16 pruned. \n"
     ]
    },
    {
     "name": "stdout",
     "output_type": "stream",
     "text": [
      "Epoch 0/9\n",
      "----------\n",
      "Epoch 1/9\n",
      "----------\n",
      "Epoch 2/9\n",
      "----------\n",
      "Epoch 3/9\n",
      "----------\n",
      "Epoch 4/9\n",
      "----------\n",
      "Epoch 5/9\n",
      "----------\n",
      "Epoch 6/9\n",
      "----------\n",
      "Epoch 7/9\n",
      "----------\n",
      "Epoch 8/9\n",
      "----------\n",
      "Epoch 9/9\n",
      "----------\n"
     ]
    },
    {
     "name": "stderr",
     "output_type": "stream",
     "text": [
      "[I 2024-08-12 09:03:03,013] Trial 17 finished with value: 0.45 and parameters: {'lr': 0.003227522691970221, 'sgd_momentum': 0.20744648146427702}. Best is trial 11 with value: 0.5.\n"
     ]
    },
    {
     "name": "stdout",
     "output_type": "stream",
     "text": [
      "Epoch 0/9\n",
      "----------\n",
      "Epoch 1/9\n",
      "----------\n"
     ]
    },
    {
     "name": "stderr",
     "output_type": "stream",
     "text": [
      "[I 2024-08-12 09:03:07,409] Trial 18 pruned. \n"
     ]
    },
    {
     "name": "stdout",
     "output_type": "stream",
     "text": [
      "Epoch 0/9\n",
      "----------\n",
      "Epoch 1/9\n",
      "----------\n",
      "Epoch 2/9\n",
      "----------\n",
      "Epoch 3/9\n",
      "----------\n",
      "Epoch 4/9\n",
      "----------\n",
      "Epoch 5/9\n",
      "----------\n",
      "Epoch 6/9\n",
      "----------\n",
      "Epoch 7/9\n",
      "----------\n",
      "Epoch 8/9\n",
      "----------\n",
      "Epoch 9/9\n",
      "----------\n"
     ]
    },
    {
     "name": "stderr",
     "output_type": "stream",
     "text": [
      "[I 2024-08-12 09:03:28,602] Trial 19 finished with value: 0.47500000000000003 and parameters: {'lr': 0.002739335178405918, 'sgd_momentum': 0.34842172847249564}. Best is trial 11 with value: 0.5.\n"
     ]
    },
    {
     "name": "stdout",
     "output_type": "stream",
     "text": [
      "Epoch 0/9\n",
      "----------\n"
     ]
    },
    {
     "name": "stderr",
     "output_type": "stream",
     "text": [
      "[I 2024-08-12 09:03:30,915] Trial 20 pruned. \n"
     ]
    },
    {
     "name": "stdout",
     "output_type": "stream",
     "text": [
      "Epoch 0/9\n",
      "----------\n",
      "Epoch 1/9\n",
      "----------\n",
      "Epoch 2/9\n",
      "----------\n",
      "Epoch 3/9\n",
      "----------\n",
      "Epoch 4/9\n",
      "----------\n",
      "Epoch 5/9\n",
      "----------\n",
      "Epoch 6/9\n",
      "----------\n",
      "Epoch 7/9\n",
      "----------\n",
      "Epoch 8/9\n",
      "----------\n",
      "Epoch 9/9\n",
      "----------\n"
     ]
    },
    {
     "name": "stderr",
     "output_type": "stream",
     "text": [
      "[I 2024-08-12 09:03:51,471] Trial 21 finished with value: 0.4625 and parameters: {'lr': 0.0023961543197720475, 'sgd_momentum': 0.3244996936253926}. Best is trial 11 with value: 0.5.\n"
     ]
    },
    {
     "name": "stdout",
     "output_type": "stream",
     "text": [
      "Epoch 0/9\n",
      "----------\n",
      "Epoch 1/9\n",
      "----------\n",
      "Epoch 2/9\n",
      "----------\n",
      "Epoch 3/9\n",
      "----------\n",
      "Epoch 4/9\n",
      "----------\n",
      "Epoch 5/9\n",
      "----------\n",
      "Epoch 6/9\n",
      "----------\n",
      "Epoch 7/9\n",
      "----------\n",
      "Epoch 8/9\n",
      "----------\n",
      "Epoch 9/9\n",
      "----------\n"
     ]
    },
    {
     "name": "stderr",
     "output_type": "stream",
     "text": [
      "[I 2024-08-12 09:04:12,158] Trial 22 finished with value: 0.48750000000000004 and parameters: {'lr': 0.0013853013014747976, 'sgd_momentum': 0.32553190193279663}. Best is trial 11 with value: 0.5.\n"
     ]
    },
    {
     "name": "stdout",
     "output_type": "stream",
     "text": [
      "Epoch 0/9\n",
      "----------\n",
      "Epoch 1/9\n",
      "----------\n"
     ]
    },
    {
     "name": "stderr",
     "output_type": "stream",
     "text": [
      "[I 2024-08-12 09:04:16,220] Trial 23 pruned. \n"
     ]
    },
    {
     "name": "stdout",
     "output_type": "stream",
     "text": [
      "Epoch 0/9\n",
      "----------\n",
      "Epoch 1/9\n",
      "----------\n",
      "Epoch 2/9\n",
      "----------\n",
      "Epoch 3/9\n",
      "----------\n",
      "Epoch 4/9\n",
      "----------\n",
      "Epoch 5/9\n",
      "----------\n",
      "Epoch 6/9\n",
      "----------\n",
      "Epoch 7/9\n",
      "----------\n",
      "Epoch 8/9\n",
      "----------\n"
     ]
    },
    {
     "name": "stderr",
     "output_type": "stream",
     "text": [
      "[I 2024-08-12 09:04:35,398] Trial 24 pruned. \n"
     ]
    },
    {
     "name": "stdout",
     "output_type": "stream",
     "text": [
      "Epoch 0/9\n",
      "----------\n"
     ]
    },
    {
     "name": "stderr",
     "output_type": "stream",
     "text": [
      "[I 2024-08-12 09:04:37,147] Trial 25 pruned. \n"
     ]
    },
    {
     "name": "stdout",
     "output_type": "stream",
     "text": [
      "Epoch 0/9\n",
      "----------\n",
      "Epoch 1/9\n",
      "----------\n"
     ]
    },
    {
     "name": "stderr",
     "output_type": "stream",
     "text": [
      "[I 2024-08-12 09:04:41,548] Trial 26 pruned. \n"
     ]
    },
    {
     "name": "stdout",
     "output_type": "stream",
     "text": [
      "Epoch 0/9\n",
      "----------\n"
     ]
    },
    {
     "name": "stderr",
     "output_type": "stream",
     "text": [
      "[I 2024-08-12 09:04:43,677] Trial 27 pruned. \n"
     ]
    },
    {
     "name": "stdout",
     "output_type": "stream",
     "text": [
      "Epoch 0/9\n",
      "----------\n",
      "Epoch 1/9\n",
      "----------\n",
      "Epoch 2/9\n",
      "----------\n",
      "Epoch 3/9\n",
      "----------\n",
      "Epoch 4/9\n",
      "----------\n",
      "Epoch 5/9\n",
      "----------\n",
      "Epoch 6/9\n",
      "----------\n",
      "Epoch 7/9\n",
      "----------\n",
      "Epoch 8/9\n",
      "----------\n",
      "Epoch 9/9\n",
      "----------\n"
     ]
    },
    {
     "name": "stderr",
     "output_type": "stream",
     "text": [
      "[I 2024-08-12 09:05:05,937] Trial 28 finished with value: 0.35000000000000003 and parameters: {'lr': 0.0012175082259725549, 'sgd_momentum': 0.40972742264160944}. Best is trial 11 with value: 0.5.\n"
     ]
    },
    {
     "name": "stdout",
     "output_type": "stream",
     "text": [
      "Epoch 0/9\n",
      "----------\n"
     ]
    },
    {
     "name": "stderr",
     "output_type": "stream",
     "text": [
      "[I 2024-08-12 09:05:08,056] Trial 29 pruned. \n"
     ]
    },
    {
     "name": "stdout",
     "output_type": "stream",
     "text": [
      "Epoch 0/9\n",
      "----------\n",
      "Epoch 1/9\n",
      "----------\n",
      "Epoch 2/9\n",
      "----------\n",
      "Epoch 3/9\n",
      "----------\n",
      "Epoch 4/9\n",
      "----------\n",
      "Epoch 5/9\n",
      "----------\n"
     ]
    },
    {
     "name": "stderr",
     "output_type": "stream",
     "text": [
      "[I 2024-08-12 09:05:20,716] Trial 30 pruned. \n"
     ]
    },
    {
     "name": "stdout",
     "output_type": "stream",
     "text": [
      "Epoch 0/9\n",
      "----------\n",
      "Epoch 1/9\n",
      "----------\n",
      "Epoch 2/9\n",
      "----------\n",
      "Epoch 3/9\n",
      "----------\n",
      "Epoch 4/9\n",
      "----------\n",
      "Epoch 5/9\n",
      "----------\n",
      "Epoch 6/9\n",
      "----------\n",
      "Epoch 7/9\n",
      "----------\n",
      "Epoch 8/9\n",
      "----------\n",
      "Epoch 9/9\n",
      "----------\n"
     ]
    },
    {
     "name": "stderr",
     "output_type": "stream",
     "text": [
      "[I 2024-08-12 09:05:41,957] Trial 31 finished with value: 0.48750000000000004 and parameters: {'lr': 0.00207272373806343, 'sgd_momentum': 0.3596759631530451}. Best is trial 11 with value: 0.5.\n"
     ]
    },
    {
     "name": "stdout",
     "output_type": "stream",
     "text": [
      "Epoch 0/9\n",
      "----------\n",
      "Epoch 1/9\n",
      "----------\n",
      "Epoch 2/9\n",
      "----------\n",
      "Epoch 3/9\n",
      "----------\n",
      "Epoch 4/9\n",
      "----------\n",
      "Epoch 5/9\n",
      "----------\n",
      "Epoch 6/9\n",
      "----------\n",
      "Epoch 7/9\n",
      "----------\n",
      "Epoch 8/9\n",
      "----------\n",
      "Epoch 9/9\n",
      "----------\n"
     ]
    },
    {
     "name": "stderr",
     "output_type": "stream",
     "text": [
      "[I 2024-08-12 09:06:03,434] Trial 32 finished with value: 0.5 and parameters: {'lr': 0.0018263731213604612, 'sgd_momentum': 0.47220563822131956}. Best is trial 11 with value: 0.5.\n"
     ]
    },
    {
     "name": "stdout",
     "output_type": "stream",
     "text": [
      "Epoch 0/9\n",
      "----------\n"
     ]
    },
    {
     "name": "stderr",
     "output_type": "stream",
     "text": [
      "[I 2024-08-12 09:06:05,608] Trial 33 pruned. \n"
     ]
    },
    {
     "name": "stdout",
     "output_type": "stream",
     "text": [
      "Epoch 0/9\n",
      "----------\n",
      "Epoch 1/9\n",
      "----------\n",
      "Epoch 2/9\n",
      "----------\n",
      "Epoch 3/9\n",
      "----------\n"
     ]
    },
    {
     "name": "stderr",
     "output_type": "stream",
     "text": [
      "[I 2024-08-12 09:06:13,664] Trial 34 pruned. \n"
     ]
    },
    {
     "name": "stdout",
     "output_type": "stream",
     "text": [
      "Epoch 0/9\n",
      "----------\n",
      "Epoch 1/9\n",
      "----------\n",
      "Epoch 2/9\n",
      "----------\n",
      "Epoch 3/9\n",
      "----------\n"
     ]
    },
    {
     "name": "stderr",
     "output_type": "stream",
     "text": [
      "[I 2024-08-12 09:06:22,612] Trial 35 pruned. \n"
     ]
    },
    {
     "name": "stdout",
     "output_type": "stream",
     "text": [
      "Epoch 0/9\n",
      "----------\n"
     ]
    },
    {
     "name": "stderr",
     "output_type": "stream",
     "text": [
      "[I 2024-08-12 09:06:24,926] Trial 36 pruned. \n"
     ]
    },
    {
     "name": "stdout",
     "output_type": "stream",
     "text": [
      "Epoch 0/9\n",
      "----------\n"
     ]
    },
    {
     "name": "stderr",
     "output_type": "stream",
     "text": [
      "[I 2024-08-12 09:06:26,910] Trial 37 pruned. \n"
     ]
    },
    {
     "name": "stdout",
     "output_type": "stream",
     "text": [
      "Epoch 0/9\n",
      "----------\n"
     ]
    },
    {
     "name": "stderr",
     "output_type": "stream",
     "text": [
      "[I 2024-08-12 09:06:29,224] Trial 38 pruned. \n"
     ]
    },
    {
     "name": "stdout",
     "output_type": "stream",
     "text": [
      "Epoch 0/9\n",
      "----------\n",
      "Epoch 1/9\n",
      "----------\n"
     ]
    },
    {
     "name": "stderr",
     "output_type": "stream",
     "text": [
      "[I 2024-08-12 09:06:33,674] Trial 39 pruned. \n"
     ]
    },
    {
     "name": "stdout",
     "output_type": "stream",
     "text": [
      "Epoch 0/9\n",
      "----------\n",
      "Epoch 1/9\n",
      "----------\n",
      "Epoch 2/9\n",
      "----------\n",
      "Epoch 3/9\n",
      "----------\n"
     ]
    },
    {
     "name": "stderr",
     "output_type": "stream",
     "text": [
      "[I 2024-08-12 09:06:42,248] Trial 40 pruned. \n"
     ]
    },
    {
     "name": "stdout",
     "output_type": "stream",
     "text": [
      "Epoch 0/9\n",
      "----------\n"
     ]
    },
    {
     "name": "stderr",
     "output_type": "stream",
     "text": [
      "[I 2024-08-12 09:06:44,232] Trial 41 pruned. \n"
     ]
    },
    {
     "name": "stdout",
     "output_type": "stream",
     "text": [
      "Epoch 0/9\n",
      "----------\n",
      "Epoch 1/9\n",
      "----------\n",
      "Epoch 2/9\n",
      "----------\n",
      "Epoch 3/9\n",
      "----------\n",
      "Epoch 4/9\n",
      "----------\n",
      "Epoch 5/9\n",
      "----------\n",
      "Epoch 6/9\n",
      "----------\n",
      "Epoch 7/9\n",
      "----------\n",
      "Epoch 8/9\n",
      "----------\n",
      "Epoch 9/9\n",
      "----------\n"
     ]
    },
    {
     "name": "stderr",
     "output_type": "stream",
     "text": [
      "[I 2024-08-12 09:07:05,284] Trial 42 finished with value: 0.42500000000000004 and parameters: {'lr': 0.0025336008576565014, 'sgd_momentum': 0.27237708579586734}. Best is trial 11 with value: 0.5.\n"
     ]
    },
    {
     "name": "stdout",
     "output_type": "stream",
     "text": [
      "Epoch 0/9\n",
      "----------\n",
      "Epoch 1/9\n",
      "----------\n",
      "Epoch 2/9\n",
      "----------\n",
      "Epoch 3/9\n",
      "----------\n",
      "Epoch 4/9\n",
      "----------\n",
      "Epoch 5/9\n",
      "----------\n",
      "Epoch 6/9\n",
      "----------\n",
      "Epoch 7/9\n",
      "----------\n",
      "Epoch 8/9\n",
      "----------\n",
      "Epoch 9/9\n",
      "----------\n"
     ]
    },
    {
     "name": "stderr",
     "output_type": "stream",
     "text": [
      "[I 2024-08-12 09:07:26,994] Trial 43 finished with value: 0.47500000000000003 and parameters: {'lr': 0.0012313954651929843, 'sgd_momentum': 0.15940713624374517}. Best is trial 11 with value: 0.5.\n"
     ]
    },
    {
     "name": "stdout",
     "output_type": "stream",
     "text": [
      "Epoch 0/9\n",
      "----------\n",
      "Epoch 1/9\n",
      "----------\n",
      "Epoch 2/9\n",
      "----------\n",
      "Epoch 3/9\n",
      "----------\n",
      "Epoch 4/9\n",
      "----------\n"
     ]
    },
    {
     "name": "stderr",
     "output_type": "stream",
     "text": [
      "[I 2024-08-12 09:07:38,049] Trial 44 pruned. \n"
     ]
    },
    {
     "name": "stdout",
     "output_type": "stream",
     "text": [
      "Epoch 0/9\n",
      "----------\n",
      "Epoch 1/9\n",
      "----------\n"
     ]
    },
    {
     "name": "stderr",
     "output_type": "stream",
     "text": [
      "[I 2024-08-12 09:07:42,269] Trial 45 pruned. \n"
     ]
    },
    {
     "name": "stdout",
     "output_type": "stream",
     "text": [
      "Epoch 0/9\n",
      "----------\n",
      "Epoch 1/9\n",
      "----------\n",
      "Epoch 2/9\n",
      "----------\n",
      "Epoch 3/9\n",
      "----------\n",
      "Epoch 4/9\n",
      "----------\n",
      "Epoch 5/9\n",
      "----------\n",
      "Epoch 6/9\n",
      "----------\n",
      "Epoch 7/9\n",
      "----------\n",
      "Epoch 8/9\n",
      "----------\n",
      "Epoch 9/9\n",
      "----------\n"
     ]
    },
    {
     "name": "stderr",
     "output_type": "stream",
     "text": [
      "[I 2024-08-12 09:08:03,571] Trial 46 finished with value: 0.4375 and parameters: {'lr': 0.003250088545666529, 'sgd_momentum': 0.43076608432849534}. Best is trial 11 with value: 0.5.\n"
     ]
    },
    {
     "name": "stdout",
     "output_type": "stream",
     "text": [
      "Epoch 0/9\n",
      "----------\n"
     ]
    },
    {
     "name": "stderr",
     "output_type": "stream",
     "text": [
      "[I 2024-08-12 09:08:05,886] Trial 47 pruned. \n"
     ]
    },
    {
     "name": "stdout",
     "output_type": "stream",
     "text": [
      "Epoch 0/9\n",
      "----------\n",
      "Epoch 1/9\n",
      "----------\n",
      "Epoch 2/9\n",
      "----------\n",
      "Epoch 3/9\n",
      "----------\n"
     ]
    },
    {
     "name": "stderr",
     "output_type": "stream",
     "text": [
      "[I 2024-08-12 09:08:14,846] Trial 48 pruned. \n"
     ]
    },
    {
     "name": "stdout",
     "output_type": "stream",
     "text": [
      "Epoch 0/9\n",
      "----------\n",
      "Epoch 1/9\n",
      "----------\n",
      "Epoch 2/9\n",
      "----------\n",
      "Epoch 3/9\n",
      "----------\n",
      "Epoch 4/9\n",
      "----------\n",
      "Epoch 5/9\n",
      "----------\n"
     ]
    },
    {
     "name": "stderr",
     "output_type": "stream",
     "text": [
      "[I 2024-08-12 09:08:27,644] Trial 49 pruned. \n"
     ]
    },
    {
     "name": "stdout",
     "output_type": "stream",
     "text": [
      "Epoch 0/9\n",
      "----------\n",
      "Epoch 1/9\n",
      "----------\n"
     ]
    },
    {
     "name": "stderr",
     "output_type": "stream",
     "text": [
      "[I 2024-08-12 09:08:31,859] Trial 50 pruned. \n"
     ]
    },
    {
     "name": "stdout",
     "output_type": "stream",
     "text": [
      "Epoch 0/9\n",
      "----------\n",
      "Epoch 1/9\n",
      "----------\n",
      "Epoch 2/9\n",
      "----------\n",
      "Epoch 3/9\n",
      "----------\n",
      "Epoch 4/9\n",
      "----------\n",
      "Epoch 5/9\n",
      "----------\n",
      "Epoch 6/9\n",
      "----------\n",
      "Epoch 7/9\n",
      "----------\n",
      "Epoch 8/9\n",
      "----------\n",
      "Epoch 9/9\n",
      "----------\n"
     ]
    },
    {
     "name": "stderr",
     "output_type": "stream",
     "text": [
      "[I 2024-08-12 09:08:52,597] Trial 51 finished with value: 0.42500000000000004 and parameters: {'lr': 0.0014652848951730302, 'sgd_momentum': 0.17211823211443766}. Best is trial 11 with value: 0.5.\n"
     ]
    },
    {
     "name": "stdout",
     "output_type": "stream",
     "text": [
      "Epoch 0/9\n",
      "----------\n",
      "Epoch 1/9\n",
      "----------\n",
      "Epoch 2/9\n",
      "----------\n",
      "Epoch 3/9\n",
      "----------\n",
      "Epoch 4/9\n",
      "----------\n",
      "Epoch 5/9\n",
      "----------\n",
      "Epoch 6/9\n",
      "----------\n",
      "Epoch 7/9\n",
      "----------\n",
      "Epoch 8/9\n",
      "----------\n",
      "Epoch 9/9\n",
      "----------\n"
     ]
    },
    {
     "name": "stderr",
     "output_type": "stream",
     "text": [
      "[I 2024-08-12 09:09:13,951] Trial 52 finished with value: 0.4 and parameters: {'lr': 0.0011416412433566468, 'sgd_momentum': 0.2029743987740234}. Best is trial 11 with value: 0.5.\n"
     ]
    },
    {
     "name": "stdout",
     "output_type": "stream",
     "text": [
      "Epoch 0/9\n",
      "----------\n",
      "Epoch 1/9\n",
      "----------\n"
     ]
    },
    {
     "name": "stderr",
     "output_type": "stream",
     "text": [
      "[I 2024-08-12 09:09:18,357] Trial 53 pruned. \n"
     ]
    },
    {
     "name": "stdout",
     "output_type": "stream",
     "text": [
      "Epoch 0/9\n",
      "----------\n",
      "Epoch 1/9\n",
      "----------\n",
      "Epoch 2/9\n",
      "----------\n",
      "Epoch 3/9\n",
      "----------\n"
     ]
    },
    {
     "name": "stderr",
     "output_type": "stream",
     "text": [
      "[I 2024-08-12 09:09:27,309] Trial 54 pruned. \n"
     ]
    },
    {
     "name": "stdout",
     "output_type": "stream",
     "text": [
      "Epoch 0/9\n",
      "----------\n",
      "Epoch 1/9\n",
      "----------\n",
      "Epoch 2/9\n",
      "----------\n",
      "Epoch 3/9\n",
      "----------\n",
      "Epoch 4/9\n",
      "----------\n",
      "Epoch 5/9\n",
      "----------\n",
      "Epoch 6/9\n",
      "----------\n",
      "Epoch 7/9\n",
      "----------\n",
      "Epoch 8/9\n",
      "----------\n",
      "Epoch 9/9\n",
      "----------\n"
     ]
    },
    {
     "name": "stderr",
     "output_type": "stream",
     "text": [
      "[I 2024-08-12 09:09:49,024] Trial 55 finished with value: 0.4375 and parameters: {'lr': 0.001679188330320779, 'sgd_momentum': 0.2477874035504739}. Best is trial 11 with value: 0.5.\n"
     ]
    },
    {
     "name": "stdout",
     "output_type": "stream",
     "text": [
      "Epoch 0/9\n",
      "----------\n",
      "Epoch 1/9\n",
      "----------\n",
      "Epoch 2/9\n",
      "----------\n",
      "Epoch 3/9\n",
      "----------\n",
      "Epoch 4/9\n",
      "----------\n",
      "Epoch 5/9\n",
      "----------\n",
      "Epoch 6/9\n",
      "----------\n",
      "Epoch 7/9\n",
      "----------\n",
      "Epoch 8/9\n",
      "----------\n",
      "Epoch 9/9\n",
      "----------\n"
     ]
    },
    {
     "name": "stderr",
     "output_type": "stream",
     "text": [
      "[I 2024-08-12 09:10:10,740] Trial 56 finished with value: 0.3875 and parameters: {'lr': 0.003168362042897425, 'sgd_momentum': 0.401175287514178}. Best is trial 11 with value: 0.5.\n"
     ]
    },
    {
     "name": "stdout",
     "output_type": "stream",
     "text": [
      "Epoch 0/9\n",
      "----------\n",
      "Epoch 1/9\n",
      "----------\n",
      "Epoch 2/9\n",
      "----------\n",
      "Epoch 3/9\n",
      "----------\n"
     ]
    },
    {
     "name": "stderr",
     "output_type": "stream",
     "text": [
      "[I 2024-08-12 09:10:19,509] Trial 57 pruned. \n"
     ]
    },
    {
     "name": "stdout",
     "output_type": "stream",
     "text": [
      "Epoch 0/9\n",
      "----------\n",
      "Epoch 1/9\n",
      "----------\n",
      "Epoch 2/9\n",
      "----------\n",
      "Epoch 3/9\n",
      "----------\n",
      "Epoch 4/9\n",
      "----------\n",
      "Epoch 5/9\n",
      "----------\n",
      "Epoch 6/9\n",
      "----------\n",
      "Epoch 7/9\n",
      "----------\n",
      "Epoch 8/9\n",
      "----------\n",
      "Epoch 9/9\n",
      "----------\n"
     ]
    },
    {
     "name": "stderr",
     "output_type": "stream",
     "text": [
      "[I 2024-08-12 09:10:40,233] Trial 58 finished with value: 0.5125000000000001 and parameters: {'lr': 0.0011273158975292682, 'sgd_momentum': 0.5525172444101433}. Best is trial 58 with value: 0.5125000000000001.\n"
     ]
    },
    {
     "name": "stdout",
     "output_type": "stream",
     "text": [
      "Epoch 0/9\n",
      "----------\n"
     ]
    },
    {
     "name": "stderr",
     "output_type": "stream",
     "text": [
      "[I 2024-08-12 09:10:42,031] Trial 59 pruned. \n"
     ]
    },
    {
     "name": "stdout",
     "output_type": "stream",
     "text": [
      "Epoch 0/9\n",
      "----------\n"
     ]
    },
    {
     "name": "stderr",
     "output_type": "stream",
     "text": [
      "[I 2024-08-12 09:10:43,970] Trial 60 pruned. \n"
     ]
    },
    {
     "name": "stdout",
     "output_type": "stream",
     "text": [
      "Epoch 0/9\n",
      "----------\n",
      "Epoch 1/9\n",
      "----------\n"
     ]
    },
    {
     "name": "stderr",
     "output_type": "stream",
     "text": [
      "[I 2024-08-12 09:10:48,142] Trial 61 pruned. \n"
     ]
    },
    {
     "name": "stdout",
     "output_type": "stream",
     "text": [
      "Epoch 0/9\n",
      "----------\n",
      "Epoch 1/9\n",
      "----------\n",
      "Epoch 2/9\n",
      "----------\n",
      "Epoch 3/9\n",
      "----------\n",
      "Epoch 4/9\n",
      "----------\n",
      "Epoch 5/9\n",
      "----------\n",
      "Epoch 6/9\n",
      "----------\n",
      "Epoch 7/9\n",
      "----------\n",
      "Epoch 8/9\n",
      "----------\n",
      "Epoch 9/9\n",
      "----------\n"
     ]
    },
    {
     "name": "stderr",
     "output_type": "stream",
     "text": [
      "[I 2024-08-12 09:11:08,541] Trial 62 finished with value: 0.45 and parameters: {'lr': 0.0021224841055910645, 'sgd_momentum': 0.5564993609274127}. Best is trial 58 with value: 0.5125000000000001.\n"
     ]
    },
    {
     "name": "stdout",
     "output_type": "stream",
     "text": [
      "Epoch 0/9\n",
      "----------\n",
      "Epoch 1/9\n",
      "----------\n"
     ]
    },
    {
     "name": "stderr",
     "output_type": "stream",
     "text": [
      "[I 2024-08-12 09:11:12,574] Trial 63 pruned. \n"
     ]
    },
    {
     "name": "stdout",
     "output_type": "stream",
     "text": [
      "Epoch 0/9\n",
      "----------\n"
     ]
    },
    {
     "name": "stderr",
     "output_type": "stream",
     "text": [
      "[I 2024-08-12 09:11:14,704] Trial 64 pruned. \n"
     ]
    },
    {
     "name": "stdout",
     "output_type": "stream",
     "text": [
      "Epoch 0/9\n",
      "----------\n",
      "Epoch 1/9\n",
      "----------\n",
      "Epoch 2/9\n",
      "----------\n",
      "Epoch 3/9\n",
      "----------\n",
      "Epoch 4/9\n",
      "----------\n",
      "Epoch 5/9\n",
      "----------\n",
      "Epoch 6/9\n",
      "----------\n",
      "Epoch 7/9\n",
      "----------\n",
      "Epoch 8/9\n",
      "----------\n",
      "Epoch 9/9\n",
      "----------\n"
     ]
    },
    {
     "name": "stderr",
     "output_type": "stream",
     "text": [
      "[I 2024-08-12 09:11:36,078] Trial 65 finished with value: 0.4375 and parameters: {'lr': 0.0010481494622674708, 'sgd_momentum': 0.4526217324979321}. Best is trial 58 with value: 0.5125000000000001.\n"
     ]
    },
    {
     "name": "stdout",
     "output_type": "stream",
     "text": [
      "Epoch 0/9\n",
      "----------\n",
      "Epoch 1/9\n",
      "----------\n",
      "Epoch 2/9\n",
      "----------\n",
      "Epoch 3/9\n",
      "----------\n",
      "Epoch 4/9\n",
      "----------\n",
      "Epoch 5/9\n",
      "----------\n",
      "Epoch 6/9\n",
      "----------\n",
      "Epoch 7/9\n",
      "----------\n",
      "Epoch 8/9\n",
      "----------\n",
      "Epoch 9/9\n",
      "----------\n"
     ]
    },
    {
     "name": "stderr",
     "output_type": "stream",
     "text": [
      "[I 2024-08-12 09:11:57,917] Trial 66 finished with value: 0.36250000000000004 and parameters: {'lr': 0.0026100451232012266, 'sgd_momentum': 0.5283180453255539}. Best is trial 58 with value: 0.5125000000000001.\n"
     ]
    },
    {
     "name": "stdout",
     "output_type": "stream",
     "text": [
      "Epoch 0/9\n",
      "----------\n",
      "Epoch 1/9\n",
      "----------\n",
      "Epoch 2/9\n",
      "----------\n",
      "Epoch 3/9\n",
      "----------\n",
      "Epoch 4/9\n",
      "----------\n",
      "Epoch 5/9\n",
      "----------\n",
      "Epoch 6/9\n",
      "----------\n",
      "Epoch 7/9\n",
      "----------\n",
      "Epoch 8/9\n",
      "----------\n",
      "Epoch 9/9\n",
      "----------\n"
     ]
    },
    {
     "name": "stderr",
     "output_type": "stream",
     "text": [
      "[I 2024-08-12 09:12:19,193] Trial 67 finished with value: 0.48750000000000004 and parameters: {'lr': 0.0016597241387659352, 'sgd_momentum': 0.2217204533285889}. Best is trial 58 with value: 0.5125000000000001.\n"
     ]
    },
    {
     "name": "stdout",
     "output_type": "stream",
     "text": [
      "Epoch 0/9\n",
      "----------\n",
      "Epoch 1/9\n",
      "----------\n"
     ]
    },
    {
     "name": "stderr",
     "output_type": "stream",
     "text": [
      "[I 2024-08-12 09:12:23,600] Trial 68 pruned. \n"
     ]
    },
    {
     "name": "stdout",
     "output_type": "stream",
     "text": [
      "Epoch 0/9\n",
      "----------\n",
      "Epoch 1/9\n",
      "----------\n",
      "Epoch 2/9\n",
      "----------\n",
      "Epoch 3/9\n",
      "----------\n",
      "Epoch 4/9\n",
      "----------\n",
      "Epoch 5/9\n",
      "----------\n",
      "Epoch 6/9\n",
      "----------\n"
     ]
    },
    {
     "name": "stderr",
     "output_type": "stream",
     "text": [
      "[I 2024-08-12 09:12:39,020] Trial 69 pruned. \n"
     ]
    },
    {
     "name": "stdout",
     "output_type": "stream",
     "text": [
      "Epoch 0/9\n",
      "----------\n"
     ]
    },
    {
     "name": "stderr",
     "output_type": "stream",
     "text": [
      "[I 2024-08-12 09:12:41,011] Trial 70 pruned. \n"
     ]
    },
    {
     "name": "stdout",
     "output_type": "stream",
     "text": [
      "Epoch 0/9\n",
      "----------\n",
      "Epoch 1/9\n",
      "----------\n",
      "Epoch 2/9\n",
      "----------\n",
      "Epoch 3/9\n",
      "----------\n",
      "Epoch 4/9\n",
      "----------\n",
      "Epoch 5/9\n",
      "----------\n",
      "Epoch 6/9\n",
      "----------\n",
      "Epoch 7/9\n",
      "----------\n",
      "Epoch 8/9\n",
      "----------\n",
      "Epoch 9/9\n",
      "----------\n"
     ]
    },
    {
     "name": "stderr",
     "output_type": "stream",
     "text": [
      "[I 2024-08-12 09:13:02,566] Trial 71 finished with value: 0.36250000000000004 and parameters: {'lr': 0.001848244914985707, 'sgd_momentum': 0.10374313883593514}. Best is trial 58 with value: 0.5125000000000001.\n"
     ]
    },
    {
     "name": "stdout",
     "output_type": "stream",
     "text": [
      "Epoch 0/9\n",
      "----------\n",
      "Epoch 1/9\n",
      "----------\n",
      "Epoch 2/9\n",
      "----------\n",
      "Epoch 3/9\n",
      "----------\n",
      "Epoch 4/9\n",
      "----------\n"
     ]
    },
    {
     "name": "stderr",
     "output_type": "stream",
     "text": [
      "[I 2024-08-12 09:13:12,540] Trial 72 pruned. \n"
     ]
    },
    {
     "name": "stdout",
     "output_type": "stream",
     "text": [
      "Epoch 0/9\n",
      "----------\n"
     ]
    },
    {
     "name": "stderr",
     "output_type": "stream",
     "text": [
      "[I 2024-08-12 09:13:14,858] Trial 73 pruned. \n"
     ]
    },
    {
     "name": "stdout",
     "output_type": "stream",
     "text": [
      "Epoch 0/9\n",
      "----------\n",
      "Epoch 1/9\n",
      "----------\n"
     ]
    },
    {
     "name": "stderr",
     "output_type": "stream",
     "text": [
      "[I 2024-08-12 09:13:18,887] Trial 74 pruned. \n"
     ]
    },
    {
     "name": "stdout",
     "output_type": "stream",
     "text": [
      "Epoch 0/9\n",
      "----------\n",
      "Epoch 1/9\n",
      "----------\n",
      "Epoch 2/9\n",
      "----------\n",
      "Epoch 3/9\n",
      "----------\n",
      "Epoch 4/9\n",
      "----------\n",
      "Epoch 5/9\n",
      "----------\n",
      "Epoch 6/9\n",
      "----------\n",
      "Epoch 7/9\n",
      "----------\n",
      "Epoch 8/9\n",
      "----------\n",
      "Epoch 9/9\n",
      "----------\n"
     ]
    },
    {
     "name": "stderr",
     "output_type": "stream",
     "text": [
      "[I 2024-08-12 09:13:40,239] Trial 75 finished with value: 0.48750000000000004 and parameters: {'lr': 0.002538029553609429, 'sgd_momentum': 0.27942091358825927}. Best is trial 58 with value: 0.5125000000000001.\n",
      "[I 2024-08-12 09:13:40,260] A new study created in memory with name: adan_study\n"
     ]
    },
    {
     "name": "stdout",
     "output_type": "stream",
     "text": [
      "Study statistics: \n",
      "  Number of finished trials:  76\n",
      "  Number of pruned trials:  43\n",
      "  Number of complete trials:  33\n",
      "Best trial:\n",
      "  Value:  0.5125000000000001\n",
      "  Params: \n",
      "    lr: 0.0011273158975292682\n",
      "    sgd_momentum: 0.5525172444101433\n",
      "Epoch 0/9\n",
      "----------\n",
      "Epoch 1/9\n",
      "----------\n",
      "Epoch 2/9\n",
      "----------\n",
      "Epoch 3/9\n",
      "----------\n",
      "Epoch 4/9\n",
      "----------\n",
      "Epoch 5/9\n",
      "----------\n",
      "Epoch 6/9\n",
      "----------\n",
      "Epoch 7/9\n",
      "----------\n",
      "Epoch 8/9\n",
      "----------\n",
      "Epoch 9/9\n",
      "----------\n"
     ]
    },
    {
     "name": "stderr",
     "output_type": "stream",
     "text": [
      "[I 2024-08-12 09:14:02,081] Trial 0 finished with value: 0.5750000000000001 and parameters: {'lr': 0.0005612747547522019, 'beta1': 0.03475996697709499, 'beta2': 0.038947818481638634, 'beta3': 0.045644124267778925}. Best is trial 0 with value: 0.5750000000000001.\n"
     ]
    },
    {
     "name": "stdout",
     "output_type": "stream",
     "text": [
      "Epoch 0/9\n",
      "----------\n",
      "Epoch 1/9\n",
      "----------\n",
      "Epoch 2/9\n",
      "----------\n",
      "Epoch 3/9\n",
      "----------\n",
      "Epoch 4/9\n",
      "----------\n",
      "Epoch 5/9\n",
      "----------\n",
      "Epoch 6/9\n",
      "----------\n",
      "Epoch 7/9\n",
      "----------\n",
      "Epoch 8/9\n",
      "----------\n",
      "Epoch 9/9\n",
      "----------\n"
     ]
    },
    {
     "name": "stderr",
     "output_type": "stream",
     "text": [
      "[I 2024-08-12 09:14:23,729] Trial 1 finished with value: 0.35000000000000003 and parameters: {'lr': 8.272980705709109e-05, 'beta1': 0.09283131437259336, 'beta2': 0.049750089528133125, 'beta3': 0.09395286855592799}. Best is trial 0 with value: 0.5750000000000001.\n"
     ]
    },
    {
     "name": "stdout",
     "output_type": "stream",
     "text": [
      "Epoch 0/9\n",
      "----------\n",
      "Epoch 1/9\n",
      "----------\n",
      "Epoch 2/9\n",
      "----------\n",
      "Epoch 3/9\n",
      "----------\n",
      "Epoch 4/9\n",
      "----------\n",
      "Epoch 5/9\n",
      "----------\n",
      "Epoch 6/9\n",
      "----------\n",
      "Epoch 7/9\n",
      "----------\n",
      "Epoch 8/9\n",
      "----------\n",
      "Epoch 9/9\n",
      "----------\n"
     ]
    },
    {
     "name": "stderr",
     "output_type": "stream",
     "text": [
      "[I 2024-08-12 09:14:46,358] Trial 2 finished with value: 0.4625 and parameters: {'lr': 9.623863940268426e-05, 'beta1': 0.08662592947941275, 'beta2': 0.06936893295194901, 'beta3': 0.006954779014407438}. Best is trial 0 with value: 0.5750000000000001.\n"
     ]
    },
    {
     "name": "stdout",
     "output_type": "stream",
     "text": [
      "Epoch 0/9\n",
      "----------\n",
      "Epoch 1/9\n",
      "----------\n",
      "Epoch 2/9\n",
      "----------\n",
      "Epoch 3/9\n",
      "----------\n",
      "Epoch 4/9\n",
      "----------\n",
      "Epoch 5/9\n",
      "----------\n",
      "Epoch 6/9\n",
      "----------\n",
      "Epoch 7/9\n",
      "----------\n",
      "Epoch 8/9\n",
      "----------\n",
      "Epoch 9/9\n",
      "----------\n"
     ]
    },
    {
     "name": "stderr",
     "output_type": "stream",
     "text": [
      "[I 2024-08-12 09:15:07,388] Trial 3 finished with value: 0.225 and parameters: {'lr': 3.103341520203703e-05, 'beta1': 0.09207139968905588, 'beta2': 0.04779448479749734, 'beta3': 0.0804037885700764}. Best is trial 0 with value: 0.5750000000000001.\n"
     ]
    },
    {
     "name": "stdout",
     "output_type": "stream",
     "text": [
      "Epoch 0/9\n",
      "----------\n",
      "Epoch 1/9\n",
      "----------\n",
      "Epoch 2/9\n",
      "----------\n",
      "Epoch 3/9\n",
      "----------\n",
      "Epoch 4/9\n",
      "----------\n",
      "Epoch 5/9\n",
      "----------\n",
      "Epoch 6/9\n",
      "----------\n",
      "Epoch 7/9\n",
      "----------\n",
      "Epoch 8/9\n",
      "----------\n",
      "Epoch 9/9\n",
      "----------\n"
     ]
    },
    {
     "name": "stderr",
     "output_type": "stream",
     "text": [
      "[I 2024-08-12 09:15:29,102] Trial 4 finished with value: 0.1 and parameters: {'lr': 0.08750559711564745, 'beta1': 0.043885300536736886, 'beta2': 0.08336597499060296, 'beta3': 0.06217161571135631}. Best is trial 0 with value: 0.5750000000000001.\n"
     ]
    },
    {
     "name": "stdout",
     "output_type": "stream",
     "text": [
      "Epoch 0/9\n",
      "----------\n",
      "Epoch 1/9\n",
      "----------\n",
      "Epoch 2/9\n",
      "----------\n",
      "Epoch 3/9\n",
      "----------\n",
      "Epoch 4/9\n",
      "----------\n",
      "Epoch 5/9\n",
      "----------\n",
      "Epoch 6/9\n",
      "----------\n",
      "Epoch 7/9\n",
      "----------\n",
      "Epoch 8/9\n",
      "----------\n",
      "Epoch 9/9\n",
      "----------\n"
     ]
    },
    {
     "name": "stderr",
     "output_type": "stream",
     "text": [
      "[I 2024-08-12 09:15:50,734] Trial 5 finished with value: 0.5750000000000001 and parameters: {'lr': 0.006719310429483551, 'beta1': 0.03902460865315841, 'beta2': 0.01945344880758358, 'beta3': 0.07345986177206203}. Best is trial 0 with value: 0.5750000000000001.\n"
     ]
    },
    {
     "name": "stdout",
     "output_type": "stream",
     "text": [
      "Epoch 0/9\n",
      "----------\n"
     ]
    },
    {
     "name": "stderr",
     "output_type": "stream",
     "text": [
      "[I 2024-08-12 09:15:53,057] Trial 6 pruned. \n"
     ]
    },
    {
     "name": "stdout",
     "output_type": "stream",
     "text": [
      "Epoch 0/9\n",
      "----------\n"
     ]
    },
    {
     "name": "stderr",
     "output_type": "stream",
     "text": [
      "[I 2024-08-12 09:15:55,187] Trial 7 pruned. \n"
     ]
    },
    {
     "name": "stdout",
     "output_type": "stream",
     "text": [
      "Epoch 0/9\n",
      "----------\n",
      "Epoch 1/9\n",
      "----------\n",
      "Epoch 2/9\n",
      "----------\n",
      "Epoch 3/9\n",
      "----------\n",
      "Epoch 4/9\n",
      "----------\n",
      "Epoch 5/9\n",
      "----------\n",
      "Epoch 6/9\n",
      "----------\n",
      "Epoch 7/9\n",
      "----------\n",
      "Epoch 8/9\n",
      "----------\n",
      "Epoch 9/9\n",
      "----------\n"
     ]
    },
    {
     "name": "stderr",
     "output_type": "stream",
     "text": [
      "[I 2024-08-12 09:16:16,630] Trial 8 finished with value: 0.6375000000000001 and parameters: {'lr': 0.007729698228295864, 'beta1': 0.058490553682635, 'beta2': 0.0016614260790554047, 'beta3': 0.08875976205271342}. Best is trial 8 with value: 0.6375000000000001.\n"
     ]
    },
    {
     "name": "stdout",
     "output_type": "stream",
     "text": [
      "Epoch 0/9\n",
      "----------\n",
      "Epoch 1/9\n",
      "----------\n",
      "Epoch 2/9\n",
      "----------\n",
      "Epoch 3/9\n",
      "----------\n",
      "Epoch 4/9\n",
      "----------\n"
     ]
    },
    {
     "name": "stderr",
     "output_type": "stream",
     "text": [
      "[I 2024-08-12 09:16:27,541] Trial 9 pruned. \n"
     ]
    },
    {
     "name": "stdout",
     "output_type": "stream",
     "text": [
      "Epoch 0/9\n",
      "----------\n"
     ]
    },
    {
     "name": "stderr",
     "output_type": "stream",
     "text": [
      "[I 2024-08-12 09:16:29,731] Trial 10 pruned. \n"
     ]
    },
    {
     "name": "stdout",
     "output_type": "stream",
     "text": [
      "Epoch 0/9\n",
      "----------\n",
      "Epoch 1/9\n",
      "----------\n",
      "Epoch 2/9\n",
      "----------\n",
      "Epoch 3/9\n",
      "----------\n",
      "Epoch 4/9\n",
      "----------\n",
      "Epoch 5/9\n",
      "----------\n",
      "Epoch 6/9\n",
      "----------\n",
      "Epoch 7/9\n",
      "----------\n",
      "Epoch 8/9\n",
      "----------\n",
      "Epoch 9/9\n",
      "----------\n"
     ]
    },
    {
     "name": "stderr",
     "output_type": "stream",
     "text": [
      "[I 2024-08-12 09:16:51,819] Trial 11 finished with value: 0.55 and parameters: {'lr': 0.0009876906460235875, 'beta1': 0.022804165006421528, 'beta2': 0.023230691066499356, 'beta3': 0.02869816059642092}. Best is trial 8 with value: 0.6375000000000001.\n"
     ]
    },
    {
     "name": "stdout",
     "output_type": "stream",
     "text": [
      "Epoch 0/9\n",
      "----------\n",
      "Epoch 1/9\n",
      "----------\n",
      "Epoch 2/9\n",
      "----------\n",
      "Epoch 3/9\n",
      "----------\n",
      "Epoch 4/9\n",
      "----------\n",
      "Epoch 5/9\n",
      "----------\n",
      "Epoch 6/9\n",
      "----------\n",
      "Epoch 7/9\n",
      "----------\n",
      "Epoch 8/9\n",
      "----------\n",
      "Epoch 9/9\n",
      "----------\n"
     ]
    },
    {
     "name": "stderr",
     "output_type": "stream",
     "text": [
      "[I 2024-08-12 09:17:13,422] Trial 12 finished with value: 0.5125000000000001 and parameters: {'lr': 0.0011051484862531409, 'beta1': 0.06800929769724157, 'beta2': 0.024010655164173098, 'beta3': 0.043869251993438774}. Best is trial 8 with value: 0.6375000000000001.\n"
     ]
    },
    {
     "name": "stdout",
     "output_type": "stream",
     "text": [
      "Epoch 0/9\n",
      "----------\n",
      "Epoch 1/9\n",
      "----------\n",
      "Epoch 2/9\n",
      "----------\n",
      "Epoch 3/9\n",
      "----------\n",
      "Epoch 4/9\n",
      "----------\n",
      "Epoch 5/9\n",
      "----------\n",
      "Epoch 6/9\n",
      "----------\n",
      "Epoch 7/9\n",
      "----------\n",
      "Epoch 8/9\n",
      "----------\n",
      "Epoch 9/9\n",
      "----------\n"
     ]
    },
    {
     "name": "stderr",
     "output_type": "stream",
     "text": [
      "[I 2024-08-12 09:17:35,089] Trial 13 finished with value: 0.5375 and parameters: {'lr': 0.0009809546458426448, 'beta1': 0.06510055053505638, 'beta2': 0.003810846552771127, 'beta3': 0.05379721613705491}. Best is trial 8 with value: 0.6375000000000001.\n"
     ]
    },
    {
     "name": "stdout",
     "output_type": "stream",
     "text": [
      "Epoch 0/9\n",
      "----------\n",
      "Epoch 1/9\n",
      "----------\n",
      "Epoch 2/9\n",
      "----------\n"
     ]
    },
    {
     "name": "stderr",
     "output_type": "stream",
     "text": [
      "[I 2024-08-12 09:17:41,433] Trial 14 pruned. \n"
     ]
    },
    {
     "name": "stdout",
     "output_type": "stream",
     "text": [
      "Epoch 0/9\n",
      "----------\n",
      "Epoch 1/9\n",
      "----------\n"
     ]
    },
    {
     "name": "stderr",
     "output_type": "stream",
     "text": [
      "[I 2024-08-12 09:17:45,775] Trial 15 pruned. \n"
     ]
    },
    {
     "name": "stdout",
     "output_type": "stream",
     "text": [
      "Epoch 0/9\n",
      "----------\n"
     ]
    },
    {
     "name": "stderr",
     "output_type": "stream",
     "text": [
      "[I 2024-08-12 09:17:47,735] Trial 16 pruned. \n"
     ]
    },
    {
     "name": "stdout",
     "output_type": "stream",
     "text": [
      "Epoch 0/9\n",
      "----------\n"
     ]
    },
    {
     "name": "stderr",
     "output_type": "stream",
     "text": [
      "[I 2024-08-12 09:17:49,505] Trial 17 pruned. \n"
     ]
    },
    {
     "name": "stdout",
     "output_type": "stream",
     "text": [
      "Epoch 0/9\n",
      "----------\n",
      "Epoch 1/9\n",
      "----------\n",
      "Epoch 2/9\n",
      "----------\n",
      "Epoch 3/9\n",
      "----------\n",
      "Epoch 4/9\n",
      "----------\n",
      "Epoch 5/9\n",
      "----------\n",
      "Epoch 6/9\n",
      "----------\n",
      "Epoch 7/9\n",
      "----------\n",
      "Epoch 8/9\n",
      "----------\n",
      "Epoch 9/9\n",
      "----------\n"
     ]
    },
    {
     "name": "stderr",
     "output_type": "stream",
     "text": [
      "[I 2024-08-12 09:18:10,835] Trial 18 finished with value: 0.675 and parameters: {'lr': 0.0024880946757825633, 'beta1': 0.05506849678866359, 'beta2': 0.06719161568493046, 'beta3': 0.08117031046242815}. Best is trial 18 with value: 0.675.\n"
     ]
    },
    {
     "name": "stdout",
     "output_type": "stream",
     "text": [
      "Epoch 0/9\n",
      "----------\n",
      "Epoch 1/9\n",
      "----------\n"
     ]
    },
    {
     "name": "stderr",
     "output_type": "stream",
     "text": [
      "[I 2024-08-12 09:18:14,891] Trial 19 pruned. \n"
     ]
    },
    {
     "name": "stdout",
     "output_type": "stream",
     "text": [
      "Epoch 0/9\n",
      "----------\n"
     ]
    },
    {
     "name": "stderr",
     "output_type": "stream",
     "text": [
      "[I 2024-08-12 09:18:17,032] Trial 20 pruned. \n"
     ]
    },
    {
     "name": "stdout",
     "output_type": "stream",
     "text": [
      "Epoch 0/9\n",
      "----------\n",
      "Epoch 1/9\n",
      "----------\n",
      "Epoch 2/9\n",
      "----------\n"
     ]
    },
    {
     "name": "stderr",
     "output_type": "stream",
     "text": [
      "[I 2024-08-12 09:18:23,757] Trial 21 pruned. \n"
     ]
    },
    {
     "name": "stdout",
     "output_type": "stream",
     "text": [
      "Epoch 0/9\n",
      "----------\n"
     ]
    },
    {
     "name": "stderr",
     "output_type": "stream",
     "text": [
      "[I 2024-08-12 09:18:26,090] Trial 22 pruned. \n"
     ]
    },
    {
     "name": "stdout",
     "output_type": "stream",
     "text": [
      "Epoch 0/9\n",
      "----------\n",
      "Epoch 1/9\n",
      "----------\n"
     ]
    },
    {
     "name": "stderr",
     "output_type": "stream",
     "text": [
      "[I 2024-08-12 09:18:30,718] Trial 23 pruned. \n"
     ]
    },
    {
     "name": "stdout",
     "output_type": "stream",
     "text": [
      "Epoch 0/9\n",
      "----------\n"
     ]
    },
    {
     "name": "stderr",
     "output_type": "stream",
     "text": [
      "[I 2024-08-12 09:18:32,914] Trial 24 pruned. \n"
     ]
    },
    {
     "name": "stdout",
     "output_type": "stream",
     "text": [
      "Epoch 0/9\n",
      "----------\n",
      "Epoch 1/9\n",
      "----------\n",
      "Epoch 2/9\n",
      "----------\n",
      "Epoch 3/9\n",
      "----------\n",
      "Epoch 4/9\n",
      "----------\n",
      "Epoch 5/9\n",
      "----------\n",
      "Epoch 6/9\n",
      "----------\n",
      "Epoch 7/9\n",
      "----------\n",
      "Epoch 8/9\n",
      "----------\n",
      "Epoch 9/9\n",
      "----------\n"
     ]
    },
    {
     "name": "stderr",
     "output_type": "stream",
     "text": [
      "[I 2024-08-12 09:18:54,300] Trial 25 finished with value: 0.5625 and parameters: {'lr': 0.002569751465542749, 'beta1': 0.02323225740406352, 'beta2': 0.04180140619772066, 'beta3': 0.05937606656294374}. Best is trial 18 with value: 0.675.\n"
     ]
    },
    {
     "name": "stdout",
     "output_type": "stream",
     "text": [
      "Epoch 0/9\n",
      "----------\n",
      "Epoch 1/9\n",
      "----------\n",
      "Epoch 2/9\n",
      "----------\n",
      "Epoch 3/9\n",
      "----------\n",
      "Epoch 4/9\n",
      "----------\n"
     ]
    },
    {
     "name": "stderr",
     "output_type": "stream",
     "text": [
      "[I 2024-08-12 09:19:04,573] Trial 26 pruned. \n"
     ]
    },
    {
     "name": "stdout",
     "output_type": "stream",
     "text": [
      "Epoch 0/9\n",
      "----------\n"
     ]
    },
    {
     "name": "stderr",
     "output_type": "stream",
     "text": [
      "[I 2024-08-12 09:19:06,911] Trial 27 pruned. \n"
     ]
    },
    {
     "name": "stdout",
     "output_type": "stream",
     "text": [
      "Epoch 0/9\n",
      "----------\n",
      "Epoch 1/9\n",
      "----------\n"
     ]
    },
    {
     "name": "stderr",
     "output_type": "stream",
     "text": [
      "[I 2024-08-12 09:19:10,969] Trial 28 pruned. \n"
     ]
    },
    {
     "name": "stdout",
     "output_type": "stream",
     "text": [
      "Epoch 0/9\n",
      "----------\n",
      "Epoch 1/9\n",
      "----------\n",
      "Epoch 2/9\n",
      "----------\n",
      "Epoch 3/9\n",
      "----------\n",
      "Epoch 4/9\n",
      "----------\n",
      "Epoch 5/9\n",
      "----------\n",
      "Epoch 6/9\n",
      "----------\n",
      "Epoch 7/9\n",
      "----------\n",
      "Epoch 8/9\n",
      "----------\n",
      "Epoch 9/9\n",
      "----------\n"
     ]
    },
    {
     "name": "stderr",
     "output_type": "stream",
     "text": [
      "[I 2024-08-12 09:19:32,359] Trial 29 finished with value: 0.6125 and parameters: {'lr': 0.0015518741745645442, 'beta1': 0.014185283685190425, 'beta2': 0.011962991683904939, 'beta3': 0.07152290885991214}. Best is trial 18 with value: 0.675.\n"
     ]
    },
    {
     "name": "stdout",
     "output_type": "stream",
     "text": [
      "Epoch 0/9\n",
      "----------\n",
      "Epoch 1/9\n",
      "----------\n",
      "Epoch 2/9\n",
      "----------\n"
     ]
    },
    {
     "name": "stderr",
     "output_type": "stream",
     "text": [
      "[I 2024-08-12 09:19:38,945] Trial 30 pruned. \n"
     ]
    },
    {
     "name": "stdout",
     "output_type": "stream",
     "text": [
      "Epoch 0/9\n",
      "----------\n"
     ]
    },
    {
     "name": "stderr",
     "output_type": "stream",
     "text": [
      "[I 2024-08-12 09:19:41,095] Trial 31 pruned. \n"
     ]
    },
    {
     "name": "stdout",
     "output_type": "stream",
     "text": [
      "Epoch 0/9\n",
      "----------\n"
     ]
    },
    {
     "name": "stderr",
     "output_type": "stream",
     "text": [
      "[I 2024-08-12 09:19:43,435] Trial 32 pruned. \n"
     ]
    },
    {
     "name": "stdout",
     "output_type": "stream",
     "text": [
      "Epoch 0/9\n",
      "----------\n",
      "Epoch 1/9\n",
      "----------\n"
     ]
    },
    {
     "name": "stderr",
     "output_type": "stream",
     "text": [
      "[I 2024-08-12 09:19:47,879] Trial 33 pruned. \n"
     ]
    },
    {
     "name": "stdout",
     "output_type": "stream",
     "text": [
      "Epoch 0/9\n",
      "----------\n",
      "Epoch 1/9\n",
      "----------\n",
      "Epoch 2/9\n",
      "----------\n",
      "Epoch 3/9\n",
      "----------\n",
      "Epoch 4/9\n",
      "----------\n",
      "Epoch 5/9\n",
      "----------\n",
      "Epoch 6/9\n",
      "----------\n",
      "Epoch 7/9\n",
      "----------\n",
      "Epoch 8/9\n",
      "----------\n",
      "Epoch 9/9\n",
      "----------\n"
     ]
    },
    {
     "name": "stderr",
     "output_type": "stream",
     "text": [
      "[I 2024-08-12 09:20:09,317] Trial 34 finished with value: 0.6875 and parameters: {'lr': 0.005022997215733841, 'beta1': 0.04442066982776127, 'beta2': 0.043337637178126144, 'beta3': 0.0992853856262882}. Best is trial 34 with value: 0.6875.\n"
     ]
    },
    {
     "name": "stdout",
     "output_type": "stream",
     "text": [
      "Epoch 0/9\n",
      "----------\n",
      "Epoch 1/9\n",
      "----------\n"
     ]
    },
    {
     "name": "stderr",
     "output_type": "stream",
     "text": [
      "[I 2024-08-12 09:20:13,811] Trial 35 pruned. \n"
     ]
    },
    {
     "name": "stdout",
     "output_type": "stream",
     "text": [
      "Epoch 0/9\n",
      "----------\n",
      "Epoch 1/9\n",
      "----------\n",
      "Epoch 2/9\n",
      "----------\n"
     ]
    },
    {
     "name": "stderr",
     "output_type": "stream",
     "text": [
      "[I 2024-08-12 09:20:20,588] Trial 36 pruned. \n"
     ]
    },
    {
     "name": "stdout",
     "output_type": "stream",
     "text": [
      "Epoch 0/9\n",
      "----------\n"
     ]
    },
    {
     "name": "stderr",
     "output_type": "stream",
     "text": [
      "[I 2024-08-12 09:20:22,928] Trial 37 pruned. \n"
     ]
    },
    {
     "name": "stdout",
     "output_type": "stream",
     "text": [
      "Epoch 0/9\n",
      "----------\n",
      "Epoch 1/9\n",
      "----------\n",
      "Epoch 2/9\n",
      "----------\n",
      "Epoch 3/9\n",
      "----------\n"
     ]
    },
    {
     "name": "stderr",
     "output_type": "stream",
     "text": [
      "[I 2024-08-12 09:20:31,997] Trial 38 pruned. \n"
     ]
    },
    {
     "name": "stdout",
     "output_type": "stream",
     "text": [
      "Epoch 0/9\n",
      "----------\n"
     ]
    },
    {
     "name": "stderr",
     "output_type": "stream",
     "text": [
      "[I 2024-08-12 09:20:34,146] Trial 39 pruned. \n"
     ]
    },
    {
     "name": "stdout",
     "output_type": "stream",
     "text": [
      "Epoch 0/9\n",
      "----------\n"
     ]
    },
    {
     "name": "stderr",
     "output_type": "stream",
     "text": [
      "[I 2024-08-12 09:20:36,487] Trial 40 pruned. \n"
     ]
    },
    {
     "name": "stdout",
     "output_type": "stream",
     "text": [
      "Epoch 0/9\n",
      "----------\n",
      "Epoch 1/9\n",
      "----------\n",
      "Epoch 2/9\n",
      "----------\n",
      "Epoch 3/9\n",
      "----------\n",
      "Epoch 4/9\n",
      "----------\n",
      "Epoch 5/9\n",
      "----------\n",
      "Epoch 6/9\n",
      "----------\n",
      "Epoch 7/9\n",
      "----------\n",
      "Epoch 8/9\n",
      "----------\n",
      "Epoch 9/9\n",
      "----------\n"
     ]
    },
    {
     "name": "stderr",
     "output_type": "stream",
     "text": [
      "[I 2024-08-12 09:20:58,113] Trial 41 finished with value: 0.5875 and parameters: {'lr': 0.0043871302966967275, 'beta1': 0.037660613250203374, 'beta2': 0.04545503348731227, 'beta3': 0.09206794395988015}. Best is trial 34 with value: 0.6875.\n"
     ]
    },
    {
     "name": "stdout",
     "output_type": "stream",
     "text": [
      "Epoch 0/9\n",
      "----------\n",
      "Epoch 1/9\n",
      "----------\n"
     ]
    },
    {
     "name": "stderr",
     "output_type": "stream",
     "text": [
      "[I 2024-08-12 09:21:02,552] Trial 42 pruned. \n"
     ]
    },
    {
     "name": "stdout",
     "output_type": "stream",
     "text": [
      "Epoch 0/9\n",
      "----------\n",
      "Epoch 1/9\n",
      "----------\n"
     ]
    },
    {
     "name": "stderr",
     "output_type": "stream",
     "text": [
      "[I 2024-08-12 09:21:06,656] Trial 43 pruned. \n"
     ]
    },
    {
     "name": "stdout",
     "output_type": "stream",
     "text": [
      "Epoch 0/9\n",
      "----------\n"
     ]
    },
    {
     "name": "stderr",
     "output_type": "stream",
     "text": [
      "[I 2024-08-12 09:21:08,662] Trial 44 pruned. \n"
     ]
    },
    {
     "name": "stdout",
     "output_type": "stream",
     "text": [
      "Epoch 0/9\n",
      "----------\n",
      "Epoch 1/9\n",
      "----------\n",
      "Epoch 2/9\n",
      "----------\n",
      "Epoch 3/9\n",
      "----------\n"
     ]
    },
    {
     "name": "stderr",
     "output_type": "stream",
     "text": [
      "[I 2024-08-12 09:21:17,540] Trial 45 pruned. \n"
     ]
    },
    {
     "name": "stdout",
     "output_type": "stream",
     "text": [
      "Epoch 0/9\n",
      "----------\n",
      "Epoch 1/9\n",
      "----------\n",
      "Epoch 2/9\n",
      "----------\n",
      "Epoch 3/9\n",
      "----------\n"
     ]
    },
    {
     "name": "stderr",
     "output_type": "stream",
     "text": [
      "[I 2024-08-12 09:21:26,375] Trial 46 pruned. \n"
     ]
    },
    {
     "name": "stdout",
     "output_type": "stream",
     "text": [
      "Epoch 0/9\n",
      "----------\n"
     ]
    },
    {
     "name": "stderr",
     "output_type": "stream",
     "text": [
      "[I 2024-08-12 09:21:28,330] Trial 47 pruned. \n"
     ]
    },
    {
     "name": "stdout",
     "output_type": "stream",
     "text": [
      "Epoch 0/9\n",
      "----------\n",
      "Epoch 1/9\n",
      "----------\n",
      "Epoch 2/9\n",
      "----------\n",
      "Epoch 3/9\n",
      "----------\n",
      "Epoch 4/9\n",
      "----------\n",
      "Epoch 5/9\n",
      "----------\n",
      "Epoch 6/9\n",
      "----------\n",
      "Epoch 7/9\n",
      "----------\n",
      "Epoch 8/9\n",
      "----------\n",
      "Epoch 9/9\n",
      "----------\n"
     ]
    },
    {
     "name": "stderr",
     "output_type": "stream",
     "text": [
      "[I 2024-08-12 09:21:49,903] Trial 48 finished with value: 0.675 and parameters: {'lr': 0.0029301684258860126, 'beta1': 0.04519682999495057, 'beta2': 0.022605244290065853, 'beta3': 0.09547205441133626}. Best is trial 34 with value: 0.6875.\n"
     ]
    },
    {
     "name": "stdout",
     "output_type": "stream",
     "text": [
      "Epoch 0/9\n",
      "----------\n",
      "Epoch 1/9\n",
      "----------\n",
      "Epoch 2/9\n",
      "----------\n",
      "Epoch 3/9\n",
      "----------\n",
      "Epoch 4/9\n",
      "----------\n"
     ]
    },
    {
     "name": "stderr",
     "output_type": "stream",
     "text": [
      "[I 2024-08-12 09:22:00,695] Trial 49 pruned. \n"
     ]
    },
    {
     "name": "stdout",
     "output_type": "stream",
     "text": [
      "Epoch 0/9\n",
      "----------\n"
     ]
    },
    {
     "name": "stderr",
     "output_type": "stream",
     "text": [
      "[I 2024-08-12 09:22:03,038] Trial 50 pruned. \n"
     ]
    },
    {
     "name": "stdout",
     "output_type": "stream",
     "text": [
      "Epoch 0/9\n",
      "----------\n",
      "Epoch 1/9\n",
      "----------\n"
     ]
    },
    {
     "name": "stderr",
     "output_type": "stream",
     "text": [
      "[I 2024-08-12 09:22:07,668] Trial 51 pruned. \n"
     ]
    },
    {
     "name": "stdout",
     "output_type": "stream",
     "text": [
      "Epoch 0/9\n",
      "----------\n",
      "Epoch 1/9\n",
      "----------\n",
      "Epoch 2/9\n",
      "----------\n",
      "Epoch 3/9\n",
      "----------\n",
      "Epoch 4/9\n",
      "----------\n"
     ]
    },
    {
     "name": "stderr",
     "output_type": "stream",
     "text": [
      "[I 2024-08-12 09:22:18,322] Trial 52 pruned. \n"
     ]
    },
    {
     "name": "stdout",
     "output_type": "stream",
     "text": [
      "Epoch 0/9\n",
      "----------\n"
     ]
    },
    {
     "name": "stderr",
     "output_type": "stream",
     "text": [
      "[I 2024-08-12 09:22:20,663] Trial 53 pruned. \n"
     ]
    },
    {
     "name": "stdout",
     "output_type": "stream",
     "text": [
      "Epoch 0/9\n",
      "----------\n"
     ]
    },
    {
     "name": "stderr",
     "output_type": "stream",
     "text": [
      "[I 2024-08-12 09:22:22,810] Trial 54 pruned. \n"
     ]
    },
    {
     "name": "stdout",
     "output_type": "stream",
     "text": [
      "Epoch 0/9\n",
      "----------\n",
      "Epoch 1/9\n",
      "----------\n"
     ]
    },
    {
     "name": "stderr",
     "output_type": "stream",
     "text": [
      "[I 2024-08-12 09:22:27,246] Trial 55 pruned. \n"
     ]
    },
    {
     "name": "stdout",
     "output_type": "stream",
     "text": [
      "Epoch 0/9\n",
      "----------\n",
      "Epoch 1/9\n",
      "----------\n"
     ]
    },
    {
     "name": "stderr",
     "output_type": "stream",
     "text": [
      "[I 2024-08-12 09:22:31,871] Trial 56 pruned. \n"
     ]
    },
    {
     "name": "stdout",
     "output_type": "stream",
     "text": [
      "Epoch 0/9\n",
      "----------\n",
      "Epoch 1/9\n",
      "----------\n"
     ]
    },
    {
     "name": "stderr",
     "output_type": "stream",
     "text": [
      "[I 2024-08-12 09:22:36,307] Trial 57 pruned. \n"
     ]
    },
    {
     "name": "stdout",
     "output_type": "stream",
     "text": [
      "Epoch 0/9\n",
      "----------\n",
      "Epoch 1/9\n",
      "----------\n"
     ]
    },
    {
     "name": "stderr",
     "output_type": "stream",
     "text": [
      "[I 2024-08-12 09:22:40,745] Trial 58 pruned. \n"
     ]
    },
    {
     "name": "stdout",
     "output_type": "stream",
     "text": [
      "Epoch 0/9\n",
      "----------\n"
     ]
    },
    {
     "name": "stderr",
     "output_type": "stream",
     "text": [
      "[I 2024-08-12 09:22:42,891] Trial 59 pruned. \n"
     ]
    },
    {
     "name": "stdout",
     "output_type": "stream",
     "text": [
      "Epoch 0/9\n",
      "----------\n",
      "Epoch 1/9\n",
      "----------\n",
      "Epoch 2/9\n",
      "----------\n",
      "Epoch 3/9\n",
      "----------\n",
      "Epoch 4/9\n",
      "----------\n"
     ]
    },
    {
     "name": "stderr",
     "output_type": "stream",
     "text": [
      "[I 2024-08-12 09:22:54,001] Trial 60 pruned. \n"
     ]
    },
    {
     "name": "stdout",
     "output_type": "stream",
     "text": [
      "Epoch 0/9\n",
      "----------\n"
     ]
    },
    {
     "name": "stderr",
     "output_type": "stream",
     "text": [
      "[I 2024-08-12 09:22:56,149] Trial 61 pruned. \n"
     ]
    },
    {
     "name": "stdout",
     "output_type": "stream",
     "text": [
      "Epoch 0/9\n",
      "----------\n",
      "Epoch 1/9\n",
      "----------\n",
      "Epoch 2/9\n",
      "----------\n"
     ]
    },
    {
     "name": "stderr",
     "output_type": "stream",
     "text": [
      "[I 2024-08-12 09:23:02,547] Trial 62 pruned. \n"
     ]
    },
    {
     "name": "stdout",
     "output_type": "stream",
     "text": [
      "Epoch 0/9\n",
      "----------\n",
      "Epoch 1/9\n",
      "----------\n",
      "Epoch 2/9\n",
      "----------\n",
      "Epoch 3/9\n",
      "----------\n"
     ]
    },
    {
     "name": "stderr",
     "output_type": "stream",
     "text": [
      "[I 2024-08-12 09:23:11,038] Trial 63 pruned. \n"
     ]
    },
    {
     "name": "stdout",
     "output_type": "stream",
     "text": [
      "Epoch 0/9\n",
      "----------\n"
     ]
    },
    {
     "name": "stderr",
     "output_type": "stream",
     "text": [
      "[I 2024-08-12 09:23:13,375] Trial 64 pruned. \n"
     ]
    },
    {
     "name": "stdout",
     "output_type": "stream",
     "text": [
      "Epoch 0/9\n",
      "----------\n",
      "Epoch 1/9\n",
      "----------\n"
     ]
    },
    {
     "name": "stderr",
     "output_type": "stream",
     "text": [
      "[I 2024-08-12 09:23:17,528] Trial 65 pruned. \n"
     ]
    },
    {
     "name": "stdout",
     "output_type": "stream",
     "text": [
      "Epoch 0/9\n",
      "----------\n"
     ]
    },
    {
     "name": "stderr",
     "output_type": "stream",
     "text": [
      "[I 2024-08-12 09:23:19,867] Trial 66 pruned. \n"
     ]
    },
    {
     "name": "stdout",
     "output_type": "stream",
     "text": [
      "Epoch 0/9\n",
      "----------\n",
      "Epoch 1/9\n",
      "----------\n",
      "Epoch 2/9\n",
      "----------\n",
      "Epoch 3/9\n",
      "----------\n"
     ]
    },
    {
     "name": "stderr",
     "output_type": "stream",
     "text": [
      "[I 2024-08-12 09:23:28,879] Trial 67 pruned. \n"
     ]
    },
    {
     "name": "stdout",
     "output_type": "stream",
     "text": [
      "Epoch 0/9\n",
      "----------\n"
     ]
    },
    {
     "name": "stderr",
     "output_type": "stream",
     "text": [
      "[I 2024-08-12 09:23:30,840] Trial 68 pruned. \n"
     ]
    },
    {
     "name": "stdout",
     "output_type": "stream",
     "text": [
      "Epoch 0/9\n",
      "----------\n"
     ]
    },
    {
     "name": "stderr",
     "output_type": "stream",
     "text": [
      "[I 2024-08-12 09:23:32,989] Trial 69 pruned. \n"
     ]
    },
    {
     "name": "stdout",
     "output_type": "stream",
     "text": [
      "Epoch 0/9\n",
      "----------\n",
      "Epoch 1/9\n",
      "----------\n"
     ]
    },
    {
     "name": "stderr",
     "output_type": "stream",
     "text": [
      "[I 2024-08-12 09:23:37,095] Trial 70 pruned. \n"
     ]
    },
    {
     "name": "stdout",
     "output_type": "stream",
     "text": [
      "Epoch 0/9\n",
      "----------\n",
      "Epoch 1/9\n",
      "----------\n"
     ]
    },
    {
     "name": "stderr",
     "output_type": "stream",
     "text": [
      "[I 2024-08-12 09:23:41,391] Trial 71 pruned. \n"
     ]
    },
    {
     "name": "stdout",
     "output_type": "stream",
     "text": [
      "Epoch 0/9\n",
      "----------\n"
     ]
    },
    {
     "name": "stderr",
     "output_type": "stream",
     "text": [
      "[I 2024-08-12 09:23:43,729] Trial 72 pruned. \n"
     ]
    },
    {
     "name": "stdout",
     "output_type": "stream",
     "text": [
      "Epoch 0/9\n",
      "----------\n",
      "Epoch 1/9\n",
      "----------\n"
     ]
    },
    {
     "name": "stderr",
     "output_type": "stream",
     "text": [
      "[I 2024-08-12 09:23:47,981] Trial 73 pruned. \n"
     ]
    },
    {
     "name": "stdout",
     "output_type": "stream",
     "text": [
      "Epoch 0/9\n",
      "----------\n",
      "Epoch 1/9\n",
      "----------\n",
      "Epoch 2/9\n",
      "----------\n",
      "Epoch 3/9\n",
      "----------\n"
     ]
    },
    {
     "name": "stderr",
     "output_type": "stream",
     "text": [
      "[I 2024-08-12 09:23:56,861] Trial 74 pruned. \n"
     ]
    },
    {
     "name": "stdout",
     "output_type": "stream",
     "text": [
      "Epoch 0/9\n",
      "----------\n",
      "Epoch 1/9\n",
      "----------\n",
      "Epoch 2/9\n",
      "----------\n",
      "Epoch 3/9\n",
      "----------\n",
      "Epoch 4/9\n",
      "----------\n"
     ]
    },
    {
     "name": "stderr",
     "output_type": "stream",
     "text": [
      "[I 2024-08-12 09:24:07,989] Trial 75 pruned. \n"
     ]
    },
    {
     "name": "stdout",
     "output_type": "stream",
     "text": [
      "Epoch 0/9\n",
      "----------\n",
      "Epoch 1/9\n",
      "----------\n"
     ]
    },
    {
     "name": "stderr",
     "output_type": "stream",
     "text": [
      "[I 2024-08-12 09:24:12,049] Trial 76 pruned. \n"
     ]
    },
    {
     "name": "stdout",
     "output_type": "stream",
     "text": [
      "Epoch 0/9\n",
      "----------\n",
      "Epoch 1/9\n",
      "----------\n"
     ]
    },
    {
     "name": "stderr",
     "output_type": "stream",
     "text": [
      "[I 2024-08-12 09:24:16,153] Trial 77 pruned. \n"
     ]
    },
    {
     "name": "stdout",
     "output_type": "stream",
     "text": [
      "Epoch 0/9\n",
      "----------\n",
      "Epoch 1/9\n",
      "----------\n"
     ]
    },
    {
     "name": "stderr",
     "output_type": "stream",
     "text": [
      "[I 2024-08-12 09:24:20,594] Trial 78 pruned. \n"
     ]
    },
    {
     "name": "stdout",
     "output_type": "stream",
     "text": [
      "Epoch 0/9\n",
      "----------\n"
     ]
    },
    {
     "name": "stderr",
     "output_type": "stream",
     "text": [
      "[I 2024-08-12 09:24:22,931] Trial 79 pruned. \n"
     ]
    },
    {
     "name": "stdout",
     "output_type": "stream",
     "text": [
      "Epoch 0/9\n",
      "----------\n"
     ]
    },
    {
     "name": "stderr",
     "output_type": "stream",
     "text": [
      "[I 2024-08-12 09:24:25,080] Trial 80 pruned. \n"
     ]
    },
    {
     "name": "stdout",
     "output_type": "stream",
     "text": [
      "Epoch 0/9\n",
      "----------\n"
     ]
    },
    {
     "name": "stderr",
     "output_type": "stream",
     "text": [
      "[I 2024-08-12 09:24:27,233] Trial 81 pruned. \n"
     ]
    },
    {
     "name": "stdout",
     "output_type": "stream",
     "text": [
      "Epoch 0/9\n",
      "----------\n",
      "Epoch 1/9\n",
      "----------\n",
      "Epoch 2/9\n",
      "----------\n",
      "Epoch 3/9\n",
      "----------\n",
      "Epoch 4/9\n",
      "----------\n",
      "Epoch 5/9\n",
      "----------\n",
      "Epoch 6/9\n",
      "----------\n",
      "Epoch 7/9\n",
      "----------\n",
      "Epoch 8/9\n",
      "----------\n",
      "Epoch 9/9\n",
      "----------\n"
     ]
    },
    {
     "name": "stderr",
     "output_type": "stream",
     "text": [
      "[I 2024-08-12 09:24:48,499] Trial 82 finished with value: 0.6375000000000001 and parameters: {'lr': 0.0033544590540052713, 'beta1': 0.01569066537494032, 'beta2': 0.04177670973850592, 'beta3': 0.07043360303826789}. Best is trial 34 with value: 0.6875.\n"
     ]
    },
    {
     "name": "stdout",
     "output_type": "stream",
     "text": [
      "Epoch 0/9\n",
      "----------\n"
     ]
    },
    {
     "name": "stderr",
     "output_type": "stream",
     "text": [
      "[I 2024-08-12 09:24:50,553] Trial 83 pruned. \n"
     ]
    },
    {
     "name": "stdout",
     "output_type": "stream",
     "text": [
      "Epoch 0/9\n",
      "----------\n"
     ]
    },
    {
     "name": "stderr",
     "output_type": "stream",
     "text": [
      "[I 2024-08-12 09:24:52,704] Trial 84 pruned. \n"
     ]
    },
    {
     "name": "stdout",
     "output_type": "stream",
     "text": [
      "Epoch 0/9\n",
      "----------\n",
      "Epoch 1/9\n",
      "----------\n",
      "Epoch 2/9\n",
      "----------\n",
      "Epoch 3/9\n",
      "----------\n"
     ]
    },
    {
     "name": "stderr",
     "output_type": "stream",
     "text": [
      "[I 2024-08-12 09:25:01,012] Trial 85 pruned. \n"
     ]
    },
    {
     "name": "stdout",
     "output_type": "stream",
     "text": [
      "Epoch 0/9\n",
      "----------\n"
     ]
    },
    {
     "name": "stderr",
     "output_type": "stream",
     "text": [
      "[I 2024-08-12 09:25:03,352] Trial 86 pruned. \n"
     ]
    },
    {
     "name": "stdout",
     "output_type": "stream",
     "text": [
      "Epoch 0/9\n",
      "----------\n",
      "Epoch 1/9\n",
      "----------\n",
      "Epoch 2/9\n",
      "----------\n",
      "Epoch 3/9\n",
      "----------\n",
      "Epoch 4/9\n",
      "----------\n"
     ]
    },
    {
     "name": "stderr",
     "output_type": "stream",
     "text": [
      "[I 2024-08-12 09:25:14,153] Trial 87 pruned. \n"
     ]
    },
    {
     "name": "stdout",
     "output_type": "stream",
     "text": [
      "Epoch 0/9\n",
      "----------\n"
     ]
    },
    {
     "name": "stderr",
     "output_type": "stream",
     "text": [
      "[I 2024-08-12 09:25:16,495] Trial 88 pruned. \n"
     ]
    },
    {
     "name": "stdout",
     "output_type": "stream",
     "text": [
      "Epoch 0/9\n",
      "----------\n",
      "Epoch 1/9\n",
      "----------\n"
     ]
    },
    {
     "name": "stderr",
     "output_type": "stream",
     "text": [
      "[I 2024-08-12 09:25:20,935] Trial 89 pruned. \n"
     ]
    },
    {
     "name": "stdout",
     "output_type": "stream",
     "text": [
      "Epoch 0/9\n",
      "----------\n"
     ]
    },
    {
     "name": "stderr",
     "output_type": "stream",
     "text": [
      "[I 2024-08-12 09:25:23,275] Trial 90 pruned. \n"
     ]
    },
    {
     "name": "stdout",
     "output_type": "stream",
     "text": [
      "Epoch 0/9\n",
      "----------\n",
      "Epoch 1/9\n",
      "----------\n",
      "Epoch 2/9\n",
      "----------\n",
      "Epoch 3/9\n",
      "----------\n"
     ]
    },
    {
     "name": "stderr",
     "output_type": "stream",
     "text": [
      "[I 2024-08-12 09:25:32,303] Trial 91 pruned. \n"
     ]
    },
    {
     "name": "stdout",
     "output_type": "stream",
     "text": [
      "Epoch 0/9\n",
      "----------\n"
     ]
    },
    {
     "name": "stderr",
     "output_type": "stream",
     "text": [
      "[I 2024-08-12 09:25:34,453] Trial 92 pruned. \n"
     ]
    },
    {
     "name": "stdout",
     "output_type": "stream",
     "text": [
      "Epoch 0/9\n",
      "----------\n"
     ]
    },
    {
     "name": "stderr",
     "output_type": "stream",
     "text": [
      "[I 2024-08-12 09:25:36,605] Trial 93 pruned. \n"
     ]
    },
    {
     "name": "stdout",
     "output_type": "stream",
     "text": [
      "Epoch 0/9\n",
      "----------\n",
      "Epoch 1/9\n",
      "----------\n",
      "Epoch 2/9\n",
      "----------\n"
     ]
    },
    {
     "name": "stderr",
     "output_type": "stream",
     "text": [
      "[I 2024-08-12 09:25:43,007] Trial 94 pruned. \n"
     ]
    },
    {
     "name": "stdout",
     "output_type": "stream",
     "text": [
      "Epoch 0/9\n",
      "----------\n",
      "Epoch 1/9\n",
      "----------\n",
      "Epoch 2/9\n",
      "----------\n",
      "Epoch 3/9\n",
      "----------\n",
      "Epoch 4/9\n",
      "----------\n"
     ]
    },
    {
     "name": "stderr",
     "output_type": "stream",
     "text": [
      "[I 2024-08-12 09:25:53,807] Trial 95 pruned. \n"
     ]
    },
    {
     "name": "stdout",
     "output_type": "stream",
     "text": [
      "Epoch 0/9\n",
      "----------\n",
      "Epoch 1/9\n",
      "----------\n",
      "Epoch 2/9\n",
      "----------\n",
      "Epoch 3/9\n",
      "----------\n"
     ]
    },
    {
     "name": "stderr",
     "output_type": "stream",
     "text": [
      "[I 2024-08-12 09:26:02,554] Trial 96 pruned. \n"
     ]
    },
    {
     "name": "stdout",
     "output_type": "stream",
     "text": [
      "Epoch 0/9\n",
      "----------\n"
     ]
    },
    {
     "name": "stderr",
     "output_type": "stream",
     "text": [
      "[I 2024-08-12 09:26:04,901] Trial 97 pruned. \n"
     ]
    },
    {
     "name": "stdout",
     "output_type": "stream",
     "text": [
      "Epoch 0/9\n",
      "----------\n",
      "Epoch 1/9\n",
      "----------\n"
     ]
    },
    {
     "name": "stderr",
     "output_type": "stream",
     "text": [
      "[I 2024-08-12 09:26:08,965] Trial 98 pruned. \n"
     ]
    },
    {
     "name": "stdout",
     "output_type": "stream",
     "text": [
      "Epoch 0/9\n",
      "----------\n"
     ]
    },
    {
     "name": "stderr",
     "output_type": "stream",
     "text": [
      "[I 2024-08-12 09:26:11,306] Trial 99 pruned. \n"
     ]
    },
    {
     "name": "stdout",
     "output_type": "stream",
     "text": [
      "Epoch 0/9\n",
      "----------\n"
     ]
    },
    {
     "name": "stderr",
     "output_type": "stream",
     "text": [
      "[I 2024-08-12 09:26:13,648] Trial 100 pruned. \n"
     ]
    },
    {
     "name": "stdout",
     "output_type": "stream",
     "text": [
      "Epoch 0/9\n",
      "----------\n",
      "Epoch 1/9\n",
      "----------\n"
     ]
    },
    {
     "name": "stderr",
     "output_type": "stream",
     "text": [
      "[I 2024-08-12 09:26:17,997] Trial 101 pruned. \n"
     ]
    },
    {
     "name": "stdout",
     "output_type": "stream",
     "text": [
      "Epoch 0/9\n",
      "----------\n"
     ]
    },
    {
     "name": "stderr",
     "output_type": "stream",
     "text": [
      "[I 2024-08-12 09:26:20,339] Trial 102 pruned. \n"
     ]
    },
    {
     "name": "stdout",
     "output_type": "stream",
     "text": [
      "Epoch 0/9\n",
      "----------\n"
     ]
    },
    {
     "name": "stderr",
     "output_type": "stream",
     "text": [
      "[I 2024-08-12 09:26:22,492] Trial 103 pruned. \n"
     ]
    },
    {
     "name": "stdout",
     "output_type": "stream",
     "text": [
      "Epoch 0/9\n",
      "----------\n",
      "Epoch 1/9\n",
      "----------\n",
      "Epoch 2/9\n",
      "----------\n",
      "Epoch 3/9\n",
      "----------\n",
      "Epoch 4/9\n",
      "----------\n"
     ]
    },
    {
     "name": "stderr",
     "output_type": "stream",
     "text": [
      "[I 2024-08-12 09:26:32,390] Trial 104 pruned. \n"
     ]
    },
    {
     "name": "stdout",
     "output_type": "stream",
     "text": [
      "Epoch 0/9\n",
      "----------\n",
      "Epoch 1/9\n",
      "----------\n"
     ]
    },
    {
     "name": "stderr",
     "output_type": "stream",
     "text": [
      "[I 2024-08-12 09:26:36,834] Trial 105 pruned. \n"
     ]
    },
    {
     "name": "stdout",
     "output_type": "stream",
     "text": [
      "Epoch 0/9\n",
      "----------\n",
      "Epoch 1/9\n",
      "----------\n",
      "Epoch 2/9\n",
      "----------\n",
      "Epoch 3/9\n",
      "----------\n",
      "Epoch 4/9\n",
      "----------\n",
      "Epoch 5/9\n",
      "----------\n",
      "Epoch 6/9\n",
      "----------\n",
      "Epoch 7/9\n",
      "----------\n",
      "Epoch 8/9\n",
      "----------\n",
      "Epoch 9/9\n",
      "----------\n"
     ]
    },
    {
     "name": "stderr",
     "output_type": "stream",
     "text": [
      "[I 2024-08-12 09:26:58,420] Trial 106 finished with value: 0.6625000000000001 and parameters: {'lr': 0.003412588136140448, 'beta1': 0.04346119538602891, 'beta2': 0.0010616617569550344, 'beta3': 0.047052729559633764}. Best is trial 34 with value: 0.6875.\n"
     ]
    },
    {
     "name": "stdout",
     "output_type": "stream",
     "text": [
      "Epoch 0/9\n",
      "----------\n",
      "Epoch 1/9\n",
      "----------\n"
     ]
    },
    {
     "name": "stderr",
     "output_type": "stream",
     "text": [
      "[I 2024-08-12 09:27:02,721] Trial 107 pruned. \n"
     ]
    },
    {
     "name": "stdout",
     "output_type": "stream",
     "text": [
      "Epoch 0/9\n",
      "----------\n",
      "Epoch 1/9\n",
      "----------\n"
     ]
    },
    {
     "name": "stderr",
     "output_type": "stream",
     "text": [
      "[I 2024-08-12 09:27:07,354] Trial 108 pruned. \n"
     ]
    },
    {
     "name": "stdout",
     "output_type": "stream",
     "text": [
      "Epoch 0/9\n",
      "----------\n",
      "Epoch 1/9\n",
      "----------\n"
     ]
    },
    {
     "name": "stderr",
     "output_type": "stream",
     "text": [
      "[I 2024-08-12 09:27:11,799] Trial 109 pruned. \n"
     ]
    },
    {
     "name": "stdout",
     "output_type": "stream",
     "text": [
      "Epoch 0/9\n",
      "----------\n",
      "Epoch 1/9\n",
      "----------\n"
     ]
    },
    {
     "name": "stderr",
     "output_type": "stream",
     "text": [
      "[I 2024-08-12 09:27:16,288] Trial 110 pruned. \n"
     ]
    },
    {
     "name": "stdout",
     "output_type": "stream",
     "text": [
      "Epoch 0/9\n",
      "----------\n"
     ]
    },
    {
     "name": "stderr",
     "output_type": "stream",
     "text": [
      "[I 2024-08-12 09:27:18,494] Trial 111 pruned. \n"
     ]
    },
    {
     "name": "stdout",
     "output_type": "stream",
     "text": [
      "Epoch 0/9\n",
      "----------\n"
     ]
    },
    {
     "name": "stderr",
     "output_type": "stream",
     "text": [
      "[I 2024-08-12 09:27:20,458] Trial 112 pruned. \n"
     ]
    },
    {
     "name": "stdout",
     "output_type": "stream",
     "text": [
      "Epoch 0/9\n",
      "----------\n"
     ]
    },
    {
     "name": "stderr",
     "output_type": "stream",
     "text": [
      "[I 2024-08-12 09:27:22,611] Trial 113 pruned. \n"
     ]
    },
    {
     "name": "stdout",
     "output_type": "stream",
     "text": [
      "Epoch 0/9\n",
      "----------\n",
      "Epoch 1/9\n",
      "----------\n"
     ]
    },
    {
     "name": "stderr",
     "output_type": "stream",
     "text": [
      "[I 2024-08-12 09:27:27,054] Trial 114 pruned. \n"
     ]
    },
    {
     "name": "stdout",
     "output_type": "stream",
     "text": [
      "Epoch 0/9\n",
      "----------\n",
      "Epoch 1/9\n",
      "----------\n",
      "Epoch 2/9\n",
      "----------\n",
      "Epoch 3/9\n",
      "----------\n",
      "Epoch 4/9\n",
      "----------\n"
     ]
    },
    {
     "name": "stderr",
     "output_type": "stream",
     "text": [
      "[I 2024-08-12 09:27:38,193] Trial 115 pruned. \n"
     ]
    },
    {
     "name": "stdout",
     "output_type": "stream",
     "text": [
      "Epoch 0/9\n",
      "----------\n"
     ]
    },
    {
     "name": "stderr",
     "output_type": "stream",
     "text": [
      "[I 2024-08-12 09:27:40,205] Trial 116 pruned. \n"
     ]
    },
    {
     "name": "stdout",
     "output_type": "stream",
     "text": [
      "Epoch 0/9\n",
      "----------\n",
      "Epoch 1/9\n",
      "----------\n",
      "Epoch 2/9\n",
      "----------\n",
      "Epoch 3/9\n",
      "----------\n",
      "Epoch 4/9\n",
      "----------\n",
      "Epoch 5/9\n",
      "----------\n",
      "Epoch 6/9\n",
      "----------\n",
      "Epoch 7/9\n",
      "----------\n",
      "Epoch 8/9\n",
      "----------\n",
      "Epoch 9/9\n",
      "----------\n"
     ]
    },
    {
     "name": "stderr",
     "output_type": "stream",
     "text": [
      "[I 2024-08-12 09:28:02,690] Trial 117 finished with value: 0.6625000000000001 and parameters: {'lr': 0.0021655733262587146, 'beta1': 0.029080361091075212, 'beta2': 0.033764349673184986, 'beta3': 0.09897992863987537}. Best is trial 34 with value: 0.6875.\n"
     ]
    },
    {
     "name": "stdout",
     "output_type": "stream",
     "text": [
      "Epoch 0/9\n",
      "----------\n"
     ]
    },
    {
     "name": "stderr",
     "output_type": "stream",
     "text": [
      "[I 2024-08-12 09:28:05,024] Trial 118 pruned. \n"
     ]
    },
    {
     "name": "stdout",
     "output_type": "stream",
     "text": [
      "Epoch 0/9\n",
      "----------\n"
     ]
    },
    {
     "name": "stderr",
     "output_type": "stream",
     "text": [
      "[I 2024-08-12 09:28:07,172] Trial 119 pruned. \n"
     ]
    },
    {
     "name": "stdout",
     "output_type": "stream",
     "text": [
      "Epoch 0/9\n",
      "----------\n",
      "Epoch 1/9\n",
      "----------\n"
     ]
    },
    {
     "name": "stderr",
     "output_type": "stream",
     "text": [
      "[I 2024-08-12 09:28:11,419] Trial 120 pruned. \n"
     ]
    },
    {
     "name": "stdout",
     "output_type": "stream",
     "text": [
      "Epoch 0/9\n",
      "----------\n",
      "Epoch 1/9\n",
      "----------\n",
      "Epoch 2/9\n",
      "----------\n",
      "Epoch 3/9\n",
      "----------\n",
      "Epoch 4/9\n",
      "----------\n",
      "Epoch 5/9\n",
      "----------\n",
      "Epoch 6/9\n",
      "----------\n",
      "Epoch 7/9\n",
      "----------\n",
      "Epoch 8/9\n",
      "----------\n",
      "Epoch 9/9\n",
      "----------\n"
     ]
    },
    {
     "name": "stderr",
     "output_type": "stream",
     "text": [
      "[I 2024-08-12 09:28:33,136] Trial 121 finished with value: 0.47500000000000003 and parameters: {'lr': 0.0029331021582317224, 'beta1': 0.025394891342952468, 'beta2': 0.03031552179002608, 'beta3': 0.09191373968632656}. Best is trial 34 with value: 0.6875.\n"
     ]
    },
    {
     "name": "stdout",
     "output_type": "stream",
     "text": [
      "Epoch 0/9\n",
      "----------\n"
     ]
    },
    {
     "name": "stderr",
     "output_type": "stream",
     "text": [
      "[I 2024-08-12 09:28:35,292] Trial 122 pruned. \n"
     ]
    },
    {
     "name": "stdout",
     "output_type": "stream",
     "text": [
      "Epoch 0/9\n",
      "----------\n",
      "Epoch 1/9\n",
      "----------\n",
      "Epoch 2/9\n",
      "----------\n",
      "Epoch 3/9\n",
      "----------\n",
      "Epoch 4/9\n",
      "----------\n"
     ]
    },
    {
     "name": "stderr",
     "output_type": "stream",
     "text": [
      "[I 2024-08-12 09:28:45,665] Trial 123 pruned. \n"
     ]
    },
    {
     "name": "stdout",
     "output_type": "stream",
     "text": [
      "Epoch 0/9\n",
      "----------\n",
      "Epoch 1/9\n",
      "----------\n",
      "Epoch 2/9\n",
      "----------\n",
      "Epoch 3/9\n",
      "----------\n",
      "Epoch 4/9\n",
      "----------\n",
      "Epoch 5/9\n",
      "----------\n",
      "Epoch 6/9\n",
      "----------\n",
      "Epoch 7/9\n",
      "----------\n",
      "Epoch 8/9\n",
      "----------\n",
      "Epoch 9/9\n",
      "----------\n"
     ]
    },
    {
     "name": "stderr",
     "output_type": "stream",
     "text": [
      "[I 2024-08-12 09:29:06,998] Trial 124 finished with value: 0.5750000000000001 and parameters: {'lr': 0.0018306762188811851, 'beta1': 0.028425241391968798, 'beta2': 0.03916401043951684, 'beta3': 0.08435375476454246}. Best is trial 34 with value: 0.6875.\n"
     ]
    },
    {
     "name": "stdout",
     "output_type": "stream",
     "text": [
      "Epoch 0/9\n",
      "----------\n",
      "Epoch 1/9\n",
      "----------\n"
     ]
    },
    {
     "name": "stderr",
     "output_type": "stream",
     "text": [
      "[I 2024-08-12 09:29:11,633] Trial 125 pruned. \n"
     ]
    },
    {
     "name": "stdout",
     "output_type": "stream",
     "text": [
      "Epoch 0/9\n",
      "----------\n",
      "Epoch 1/9\n",
      "----------\n"
     ]
    },
    {
     "name": "stderr",
     "output_type": "stream",
     "text": [
      "[I 2024-08-12 09:29:16,120] Trial 126 pruned. \n"
     ]
    },
    {
     "name": "stdout",
     "output_type": "stream",
     "text": [
      "Epoch 0/9\n",
      "----------\n"
     ]
    },
    {
     "name": "stderr",
     "output_type": "stream",
     "text": [
      "[I 2024-08-12 09:29:18,460] Trial 127 pruned. \n"
     ]
    },
    {
     "name": "stdout",
     "output_type": "stream",
     "text": [
      "Epoch 0/9\n",
      "----------\n"
     ]
    },
    {
     "name": "stderr",
     "output_type": "stream",
     "text": [
      "[I 2024-08-12 09:29:20,419] Trial 128 pruned. \n"
     ]
    },
    {
     "name": "stdout",
     "output_type": "stream",
     "text": [
      "Epoch 0/9\n",
      "----------\n"
     ]
    },
    {
     "name": "stderr",
     "output_type": "stream",
     "text": [
      "[I 2024-08-12 09:29:22,757] Trial 129 pruned. \n"
     ]
    },
    {
     "name": "stdout",
     "output_type": "stream",
     "text": [
      "Epoch 0/9\n",
      "----------\n",
      "Epoch 1/9\n",
      "----------\n"
     ]
    },
    {
     "name": "stderr",
     "output_type": "stream",
     "text": [
      "[I 2024-08-12 09:29:27,386] Trial 130 pruned. \n"
     ]
    },
    {
     "name": "stdout",
     "output_type": "stream",
     "text": [
      "Epoch 0/9\n",
      "----------\n",
      "Epoch 1/9\n",
      "----------\n",
      "Epoch 2/9\n",
      "----------\n",
      "Epoch 3/9\n",
      "----------\n",
      "Epoch 4/9\n",
      "----------\n",
      "Epoch 5/9\n",
      "----------\n",
      "Epoch 6/9\n",
      "----------\n",
      "Epoch 7/9\n",
      "----------\n",
      "Epoch 8/9\n",
      "----------\n",
      "Epoch 9/9\n",
      "----------\n"
     ]
    },
    {
     "name": "stderr",
     "output_type": "stream",
     "text": [
      "[I 2024-08-12 09:29:49,480] Trial 131 finished with value: 0.6875 and parameters: {'lr': 0.0019040322977474761, 'beta1': 0.022769711861843192, 'beta2': 0.004242503777893769, 'beta3': 0.08742670063424228}. Best is trial 34 with value: 0.6875.\n",
      "[I 2024-08-12 09:29:49,516] A new study created in memory with name: madgrad_study\n"
     ]
    },
    {
     "name": "stdout",
     "output_type": "stream",
     "text": [
      "Study statistics: \n",
      "  Number of finished trials:  132\n",
      "  Number of pruned trials:  110\n",
      "  Number of complete trials:  22\n",
      "Best trial:\n",
      "  Value:  0.6875\n",
      "  Params: \n",
      "    lr: 0.005022997215733841\n",
      "    beta1: 0.04442066982776127\n",
      "    beta2: 0.043337637178126144\n",
      "    beta3: 0.0992853856262882\n",
      "Epoch 0/9\n",
      "----------\n",
      "Epoch 1/9\n",
      "----------\n",
      "Epoch 2/9\n",
      "----------\n",
      "Epoch 3/9\n",
      "----------\n",
      "Epoch 4/9\n",
      "----------\n",
      "Epoch 5/9\n",
      "----------\n",
      "Epoch 6/9\n",
      "----------\n",
      "Epoch 7/9\n",
      "----------\n",
      "Epoch 8/9\n",
      "----------\n",
      "Epoch 9/9\n",
      "----------\n"
     ]
    },
    {
     "name": "stderr",
     "output_type": "stream",
     "text": [
      "[I 2024-08-12 09:30:09,567] Trial 0 finished with value: 0.1 and parameters: {'lr': 0.020691176215793278, 'madgrad_momentum': 0.9647641816131426}. Best is trial 0 with value: 0.1.\n"
     ]
    },
    {
     "name": "stdout",
     "output_type": "stream",
     "text": [
      "Epoch 0/9\n",
      "----------\n",
      "Epoch 1/9\n",
      "----------\n",
      "Epoch 2/9\n",
      "----------\n",
      "Epoch 3/9\n",
      "----------\n",
      "Epoch 4/9\n",
      "----------\n",
      "Epoch 5/9\n",
      "----------\n",
      "Epoch 6/9\n",
      "----------\n",
      "Epoch 7/9\n",
      "----------\n",
      "Epoch 8/9\n",
      "----------\n",
      "Epoch 9/9\n",
      "----------\n"
     ]
    },
    {
     "name": "stderr",
     "output_type": "stream",
     "text": [
      "[I 2024-08-12 09:30:31,203] Trial 1 finished with value: 0.5375 and parameters: {'lr': 0.00010462228135488548, 'madgrad_momentum': 0.9700426917958118}. Best is trial 1 with value: 0.5375.\n"
     ]
    },
    {
     "name": "stdout",
     "output_type": "stream",
     "text": [
      "Epoch 0/9\n",
      "----------\n",
      "Epoch 1/9\n",
      "----------\n",
      "Epoch 2/9\n",
      "----------\n",
      "Epoch 3/9\n",
      "----------\n",
      "Epoch 4/9\n",
      "----------\n",
      "Epoch 5/9\n",
      "----------\n",
      "Epoch 6/9\n",
      "----------\n",
      "Epoch 7/9\n",
      "----------\n",
      "Epoch 8/9\n",
      "----------\n",
      "Epoch 9/9\n",
      "----------\n"
     ]
    },
    {
     "name": "stderr",
     "output_type": "stream",
     "text": [
      "[I 2024-08-12 09:30:52,936] Trial 2 finished with value: 0.1 and parameters: {'lr': 0.012744018622977011, 'madgrad_momentum': 0.8036063322359825}. Best is trial 1 with value: 0.5375.\n"
     ]
    },
    {
     "name": "stdout",
     "output_type": "stream",
     "text": [
      "Epoch 0/9\n",
      "----------\n",
      "Epoch 1/9\n",
      "----------\n",
      "Epoch 2/9\n",
      "----------\n",
      "Epoch 3/9\n",
      "----------\n",
      "Epoch 4/9\n",
      "----------\n",
      "Epoch 5/9\n",
      "----------\n",
      "Epoch 6/9\n",
      "----------\n",
      "Epoch 7/9\n",
      "----------\n",
      "Epoch 8/9\n",
      "----------\n",
      "Epoch 9/9\n",
      "----------\n"
     ]
    },
    {
     "name": "stderr",
     "output_type": "stream",
     "text": [
      "[I 2024-08-12 09:31:14,573] Trial 3 finished with value: 0.525 and parameters: {'lr': 0.06838937717127565, 'madgrad_momentum': 0.9991224366280449}. Best is trial 1 with value: 0.5375.\n"
     ]
    },
    {
     "name": "stdout",
     "output_type": "stream",
     "text": [
      "Epoch 0/9\n",
      "----------\n",
      "Epoch 1/9\n",
      "----------\n",
      "Epoch 2/9\n",
      "----------\n",
      "Epoch 3/9\n",
      "----------\n",
      "Epoch 4/9\n",
      "----------\n",
      "Epoch 5/9\n",
      "----------\n",
      "Epoch 6/9\n",
      "----------\n",
      "Epoch 7/9\n",
      "----------\n",
      "Epoch 8/9\n",
      "----------\n",
      "Epoch 9/9\n",
      "----------\n"
     ]
    },
    {
     "name": "stderr",
     "output_type": "stream",
     "text": [
      "[I 2024-08-12 09:31:36,681] Trial 4 finished with value: 0.275 and parameters: {'lr': 0.0019451433557482916, 'madgrad_momentum': 0.884748988164667}. Best is trial 1 with value: 0.5375.\n"
     ]
    },
    {
     "name": "stdout",
     "output_type": "stream",
     "text": [
      "Epoch 0/9\n",
      "----------\n"
     ]
    },
    {
     "name": "stderr",
     "output_type": "stream",
     "text": [
      "[I 2024-08-12 09:31:38,714] Trial 5 pruned. \n"
     ]
    },
    {
     "name": "stdout",
     "output_type": "stream",
     "text": [
      "Epoch 0/9\n",
      "----------\n",
      "Epoch 1/9\n",
      "----------\n",
      "Epoch 2/9\n",
      "----------\n",
      "Epoch 3/9\n",
      "----------\n"
     ]
    },
    {
     "name": "stderr",
     "output_type": "stream",
     "text": [
      "[I 2024-08-12 09:31:47,305] Trial 6 pruned. \n"
     ]
    },
    {
     "name": "stdout",
     "output_type": "stream",
     "text": [
      "Epoch 0/9\n",
      "----------\n"
     ]
    },
    {
     "name": "stderr",
     "output_type": "stream",
     "text": [
      "[I 2024-08-12 09:31:49,622] Trial 7 pruned. \n"
     ]
    },
    {
     "name": "stdout",
     "output_type": "stream",
     "text": [
      "Epoch 0/9\n",
      "----------\n",
      "Epoch 1/9\n",
      "----------\n",
      "Epoch 2/9\n",
      "----------\n",
      "Epoch 3/9\n",
      "----------\n"
     ]
    },
    {
     "name": "stderr",
     "output_type": "stream",
     "text": [
      "[I 2024-08-12 09:31:58,785] Trial 8 pruned. \n"
     ]
    },
    {
     "name": "stdout",
     "output_type": "stream",
     "text": [
      "Epoch 0/9\n",
      "----------\n",
      "Epoch 1/9\n",
      "----------\n",
      "Epoch 2/9\n",
      "----------\n",
      "Epoch 3/9\n",
      "----------\n"
     ]
    },
    {
     "name": "stderr",
     "output_type": "stream",
     "text": [
      "[I 2024-08-12 09:32:07,184] Trial 9 pruned. \n"
     ]
    },
    {
     "name": "stdout",
     "output_type": "stream",
     "text": [
      "Epoch 0/9\n",
      "----------\n",
      "Epoch 1/9\n",
      "----------\n",
      "Epoch 2/9\n",
      "----------\n",
      "Epoch 3/9\n",
      "----------\n",
      "Epoch 4/9\n",
      "----------\n",
      "Epoch 5/9\n",
      "----------\n",
      "Epoch 6/9\n",
      "----------\n",
      "Epoch 7/9\n",
      "----------\n",
      "Epoch 8/9\n",
      "----------\n",
      "Epoch 9/9\n",
      "----------\n"
     ]
    },
    {
     "name": "stderr",
     "output_type": "stream",
     "text": [
      "[I 2024-08-12 09:32:28,173] Trial 10 finished with value: 0.5125000000000001 and parameters: {'lr': 5.607356446863463e-05, 'madgrad_momentum': 0.9410716376847175}. Best is trial 1 with value: 0.5375.\n"
     ]
    },
    {
     "name": "stdout",
     "output_type": "stream",
     "text": [
      "Epoch 0/9\n",
      "----------\n"
     ]
    },
    {
     "name": "stderr",
     "output_type": "stream",
     "text": [
      "[I 2024-08-12 09:32:30,307] Trial 11 pruned. \n"
     ]
    },
    {
     "name": "stdout",
     "output_type": "stream",
     "text": [
      "Epoch 0/9\n",
      "----------\n",
      "Epoch 1/9\n",
      "----------\n",
      "Epoch 2/9\n",
      "----------\n",
      "Epoch 3/9\n",
      "----------\n",
      "Epoch 4/9\n",
      "----------\n",
      "Epoch 5/9\n",
      "----------\n"
     ]
    },
    {
     "name": "stderr",
     "output_type": "stream",
     "text": [
      "[I 2024-08-12 09:32:43,725] Trial 12 pruned. \n"
     ]
    },
    {
     "name": "stdout",
     "output_type": "stream",
     "text": [
      "Epoch 0/9\n",
      "----------\n",
      "Epoch 1/9\n",
      "----------\n",
      "Epoch 2/9\n",
      "----------\n",
      "Epoch 3/9\n",
      "----------\n",
      "Epoch 4/9\n",
      "----------\n",
      "Epoch 5/9\n",
      "----------\n"
     ]
    },
    {
     "name": "stderr",
     "output_type": "stream",
     "text": [
      "[I 2024-08-12 09:32:56,770] Trial 13 pruned. \n"
     ]
    },
    {
     "name": "stdout",
     "output_type": "stream",
     "text": [
      "Epoch 0/9\n",
      "----------\n",
      "Epoch 1/9\n",
      "----------\n",
      "Epoch 2/9\n",
      "----------\n",
      "Epoch 3/9\n",
      "----------\n",
      "Epoch 4/9\n",
      "----------\n",
      "Epoch 5/9\n",
      "----------\n"
     ]
    },
    {
     "name": "stderr",
     "output_type": "stream",
     "text": [
      "[I 2024-08-12 09:33:09,631] Trial 14 pruned. \n"
     ]
    },
    {
     "name": "stdout",
     "output_type": "stream",
     "text": [
      "Epoch 0/9\n",
      "----------\n",
      "Epoch 1/9\n",
      "----------\n",
      "Epoch 2/9\n",
      "----------\n",
      "Epoch 3/9\n",
      "----------\n",
      "Epoch 4/9\n",
      "----------\n",
      "Epoch 5/9\n",
      "----------\n",
      "Epoch 6/9\n",
      "----------\n",
      "Epoch 7/9\n",
      "----------\n",
      "Epoch 8/9\n",
      "----------\n",
      "Epoch 9/9\n",
      "----------\n"
     ]
    },
    {
     "name": "stderr",
     "output_type": "stream",
     "text": [
      "[I 2024-08-12 09:33:30,307] Trial 15 finished with value: 0.5125000000000001 and parameters: {'lr': 3.632975810892268e-05, 'madgrad_momentum': 0.9166561182764591}. Best is trial 1 with value: 0.5375.\n"
     ]
    },
    {
     "name": "stdout",
     "output_type": "stream",
     "text": [
      "Epoch 0/9\n",
      "----------\n"
     ]
    },
    {
     "name": "stderr",
     "output_type": "stream",
     "text": [
      "[I 2024-08-12 09:33:32,634] Trial 16 pruned. \n"
     ]
    },
    {
     "name": "stdout",
     "output_type": "stream",
     "text": [
      "Epoch 0/9\n",
      "----------\n",
      "Epoch 1/9\n",
      "----------\n",
      "Epoch 2/9\n",
      "----------\n",
      "Epoch 3/9\n",
      "----------\n",
      "Epoch 4/9\n",
      "----------\n",
      "Epoch 5/9\n",
      "----------\n"
     ]
    },
    {
     "name": "stderr",
     "output_type": "stream",
     "text": [
      "[I 2024-08-12 09:33:45,778] Trial 17 pruned. \n"
     ]
    },
    {
     "name": "stdout",
     "output_type": "stream",
     "text": [
      "Epoch 0/9\n",
      "----------\n",
      "Epoch 1/9\n",
      "----------\n",
      "Epoch 2/9\n",
      "----------\n",
      "Epoch 3/9\n",
      "----------\n"
     ]
    },
    {
     "name": "stderr",
     "output_type": "stream",
     "text": [
      "[I 2024-08-12 09:33:54,244] Trial 18 pruned. \n"
     ]
    },
    {
     "name": "stdout",
     "output_type": "stream",
     "text": [
      "Epoch 0/9\n",
      "----------\n"
     ]
    },
    {
     "name": "stderr",
     "output_type": "stream",
     "text": [
      "[I 2024-08-12 09:33:56,383] Trial 19 pruned. \n"
     ]
    },
    {
     "name": "stdout",
     "output_type": "stream",
     "text": [
      "Epoch 0/9\n",
      "----------\n"
     ]
    },
    {
     "name": "stderr",
     "output_type": "stream",
     "text": [
      "[I 2024-08-12 09:33:58,566] Trial 20 pruned. \n"
     ]
    },
    {
     "name": "stdout",
     "output_type": "stream",
     "text": [
      "Epoch 0/9\n",
      "----------\n"
     ]
    },
    {
     "name": "stderr",
     "output_type": "stream",
     "text": [
      "[I 2024-08-12 09:34:00,704] Trial 21 pruned. \n"
     ]
    },
    {
     "name": "stdout",
     "output_type": "stream",
     "text": [
      "Epoch 0/9\n",
      "----------\n"
     ]
    },
    {
     "name": "stderr",
     "output_type": "stream",
     "text": [
      "[I 2024-08-12 09:34:03,029] Trial 22 pruned. \n"
     ]
    },
    {
     "name": "stdout",
     "output_type": "stream",
     "text": [
      "Epoch 0/9\n",
      "----------\n"
     ]
    },
    {
     "name": "stderr",
     "output_type": "stream",
     "text": [
      "[I 2024-08-12 09:34:05,023] Trial 23 pruned. \n"
     ]
    },
    {
     "name": "stdout",
     "output_type": "stream",
     "text": [
      "Epoch 0/9\n",
      "----------\n"
     ]
    },
    {
     "name": "stderr",
     "output_type": "stream",
     "text": [
      "[I 2024-08-12 09:34:07,021] Trial 24 pruned. \n"
     ]
    },
    {
     "name": "stdout",
     "output_type": "stream",
     "text": [
      "Epoch 0/9\n",
      "----------\n"
     ]
    },
    {
     "name": "stderr",
     "output_type": "stream",
     "text": [
      "[I 2024-08-12 09:34:08,974] Trial 25 pruned. \n"
     ]
    },
    {
     "name": "stdout",
     "output_type": "stream",
     "text": [
      "Epoch 0/9\n",
      "----------\n",
      "Epoch 1/9\n",
      "----------\n",
      "Epoch 2/9\n",
      "----------\n",
      "Epoch 3/9\n",
      "----------\n",
      "Epoch 4/9\n",
      "----------\n",
      "Epoch 5/9\n",
      "----------\n"
     ]
    },
    {
     "name": "stderr",
     "output_type": "stream",
     "text": [
      "[I 2024-08-12 09:34:22,018] Trial 26 pruned. \n"
     ]
    },
    {
     "name": "stdout",
     "output_type": "stream",
     "text": [
      "Epoch 0/9\n",
      "----------\n"
     ]
    },
    {
     "name": "stderr",
     "output_type": "stream",
     "text": [
      "[I 2024-08-12 09:34:24,349] Trial 27 pruned. \n"
     ]
    },
    {
     "name": "stdout",
     "output_type": "stream",
     "text": [
      "Epoch 0/9\n",
      "----------\n"
     ]
    },
    {
     "name": "stderr",
     "output_type": "stream",
     "text": [
      "[I 2024-08-12 09:34:26,508] Trial 28 pruned. \n"
     ]
    },
    {
     "name": "stdout",
     "output_type": "stream",
     "text": [
      "Epoch 0/9\n",
      "----------\n",
      "Epoch 1/9\n",
      "----------\n",
      "Epoch 2/9\n",
      "----------\n",
      "Epoch 3/9\n",
      "----------\n"
     ]
    },
    {
     "name": "stderr",
     "output_type": "stream",
     "text": [
      "[I 2024-08-12 09:34:35,312] Trial 29 pruned. \n"
     ]
    },
    {
     "name": "stdout",
     "output_type": "stream",
     "text": [
      "Epoch 0/9\n",
      "----------\n",
      "Epoch 1/9\n",
      "----------\n",
      "Epoch 2/9\n",
      "----------\n",
      "Epoch 3/9\n",
      "----------\n",
      "Epoch 4/9\n",
      "----------\n"
     ]
    },
    {
     "name": "stderr",
     "output_type": "stream",
     "text": [
      "[I 2024-08-12 09:34:46,011] Trial 30 pruned. \n"
     ]
    },
    {
     "name": "stdout",
     "output_type": "stream",
     "text": [
      "Epoch 0/9\n",
      "----------\n"
     ]
    },
    {
     "name": "stderr",
     "output_type": "stream",
     "text": [
      "[I 2024-08-12 09:34:48,335] Trial 31 pruned. \n"
     ]
    },
    {
     "name": "stdout",
     "output_type": "stream",
     "text": [
      "Epoch 0/9\n",
      "----------\n"
     ]
    },
    {
     "name": "stderr",
     "output_type": "stream",
     "text": [
      "[I 2024-08-12 09:34:50,661] Trial 32 pruned. \n"
     ]
    },
    {
     "name": "stdout",
     "output_type": "stream",
     "text": [
      "Epoch 0/9\n",
      "----------\n"
     ]
    },
    {
     "name": "stderr",
     "output_type": "stream",
     "text": [
      "[I 2024-08-12 09:34:52,652] Trial 33 pruned. \n"
     ]
    },
    {
     "name": "stdout",
     "output_type": "stream",
     "text": [
      "Epoch 0/9\n",
      "----------\n"
     ]
    },
    {
     "name": "stderr",
     "output_type": "stream",
     "text": [
      "[I 2024-08-12 09:34:54,977] Trial 34 pruned. \n"
     ]
    },
    {
     "name": "stdout",
     "output_type": "stream",
     "text": [
      "Epoch 0/9\n",
      "----------\n",
      "Epoch 1/9\n",
      "----------\n",
      "Epoch 2/9\n",
      "----------\n",
      "Epoch 3/9\n",
      "----------\n",
      "Epoch 4/9\n",
      "----------\n",
      "Epoch 5/9\n",
      "----------\n"
     ]
    },
    {
     "name": "stderr",
     "output_type": "stream",
     "text": [
      "[I 2024-08-12 09:35:07,840] Trial 35 pruned. \n"
     ]
    },
    {
     "name": "stdout",
     "output_type": "stream",
     "text": [
      "Epoch 0/9\n",
      "----------\n"
     ]
    },
    {
     "name": "stderr",
     "output_type": "stream",
     "text": [
      "[I 2024-08-12 09:35:09,788] Trial 36 pruned. \n"
     ]
    },
    {
     "name": "stdout",
     "output_type": "stream",
     "text": [
      "Epoch 0/9\n",
      "----------\n"
     ]
    },
    {
     "name": "stderr",
     "output_type": "stream",
     "text": [
      "[I 2024-08-12 09:35:12,114] Trial 37 pruned. \n"
     ]
    },
    {
     "name": "stdout",
     "output_type": "stream",
     "text": [
      "Epoch 0/9\n",
      "----------\n"
     ]
    },
    {
     "name": "stderr",
     "output_type": "stream",
     "text": [
      "[I 2024-08-12 09:35:14,249] Trial 38 pruned. \n"
     ]
    },
    {
     "name": "stdout",
     "output_type": "stream",
     "text": [
      "Epoch 0/9\n",
      "----------\n"
     ]
    },
    {
     "name": "stderr",
     "output_type": "stream",
     "text": [
      "[I 2024-08-12 09:35:16,574] Trial 39 pruned. \n"
     ]
    },
    {
     "name": "stdout",
     "output_type": "stream",
     "text": [
      "Epoch 0/9\n",
      "----------\n"
     ]
    },
    {
     "name": "stderr",
     "output_type": "stream",
     "text": [
      "[I 2024-08-12 09:35:18,899] Trial 40 pruned. \n"
     ]
    },
    {
     "name": "stdout",
     "output_type": "stream",
     "text": [
      "Epoch 0/9\n",
      "----------\n",
      "Epoch 1/9\n",
      "----------\n",
      "Epoch 2/9\n",
      "----------\n",
      "Epoch 3/9\n",
      "----------\n",
      "Epoch 4/9\n",
      "----------\n"
     ]
    },
    {
     "name": "stderr",
     "output_type": "stream",
     "text": [
      "[I 2024-08-12 09:35:30,161] Trial 41 pruned. \n"
     ]
    },
    {
     "name": "stdout",
     "output_type": "stream",
     "text": [
      "Epoch 0/9\n",
      "----------\n",
      "Epoch 1/9\n",
      "----------\n",
      "Epoch 2/9\n",
      "----------\n",
      "Epoch 3/9\n",
      "----------\n",
      "Epoch 4/9\n",
      "----------\n"
     ]
    },
    {
     "name": "stderr",
     "output_type": "stream",
     "text": [
      "[I 2024-08-12 09:35:41,147] Trial 42 pruned. \n"
     ]
    },
    {
     "name": "stdout",
     "output_type": "stream",
     "text": [
      "Epoch 0/9\n",
      "----------\n"
     ]
    },
    {
     "name": "stderr",
     "output_type": "stream",
     "text": [
      "[I 2024-08-12 09:35:43,473] Trial 43 pruned. \n"
     ]
    },
    {
     "name": "stdout",
     "output_type": "stream",
     "text": [
      "Epoch 0/9\n",
      "----------\n"
     ]
    },
    {
     "name": "stderr",
     "output_type": "stream",
     "text": [
      "[I 2024-08-12 09:35:45,654] Trial 44 pruned. \n"
     ]
    },
    {
     "name": "stdout",
     "output_type": "stream",
     "text": [
      "Epoch 0/9\n",
      "----------\n"
     ]
    },
    {
     "name": "stderr",
     "output_type": "stream",
     "text": [
      "[I 2024-08-12 09:35:47,981] Trial 45 pruned. \n"
     ]
    },
    {
     "name": "stdout",
     "output_type": "stream",
     "text": [
      "Epoch 0/9\n",
      "----------\n",
      "Epoch 1/9\n",
      "----------\n",
      "Epoch 2/9\n",
      "----------\n",
      "Epoch 3/9\n",
      "----------\n"
     ]
    },
    {
     "name": "stderr",
     "output_type": "stream",
     "text": [
      "[I 2024-08-12 09:35:56,252] Trial 46 pruned. \n"
     ]
    },
    {
     "name": "stdout",
     "output_type": "stream",
     "text": [
      "Epoch 0/9\n",
      "----------\n"
     ]
    },
    {
     "name": "stderr",
     "output_type": "stream",
     "text": [
      "[I 2024-08-12 09:35:58,387] Trial 47 pruned. \n"
     ]
    },
    {
     "name": "stdout",
     "output_type": "stream",
     "text": [
      "Epoch 0/9\n",
      "----------\n"
     ]
    },
    {
     "name": "stderr",
     "output_type": "stream",
     "text": [
      "[I 2024-08-12 09:36:00,711] Trial 48 pruned. \n"
     ]
    },
    {
     "name": "stdout",
     "output_type": "stream",
     "text": [
      "Epoch 0/9\n",
      "----------\n"
     ]
    },
    {
     "name": "stderr",
     "output_type": "stream",
     "text": [
      "[I 2024-08-12 09:36:02,659] Trial 49 pruned. \n"
     ]
    },
    {
     "name": "stdout",
     "output_type": "stream",
     "text": [
      "Epoch 0/9\n",
      "----------\n",
      "Epoch 1/9\n",
      "----------\n",
      "Epoch 2/9\n",
      "----------\n",
      "Epoch 3/9\n",
      "----------\n",
      "Epoch 4/9\n",
      "----------\n",
      "Epoch 5/9\n",
      "----------\n"
     ]
    },
    {
     "name": "stderr",
     "output_type": "stream",
     "text": [
      "[I 2024-08-12 09:36:15,642] Trial 50 pruned. \n"
     ]
    },
    {
     "name": "stdout",
     "output_type": "stream",
     "text": [
      "Epoch 0/9\n",
      "----------\n"
     ]
    },
    {
     "name": "stderr",
     "output_type": "stream",
     "text": [
      "[I 2024-08-12 09:36:17,780] Trial 51 pruned. \n"
     ]
    },
    {
     "name": "stdout",
     "output_type": "stream",
     "text": [
      "Epoch 0/9\n",
      "----------\n"
     ]
    },
    {
     "name": "stderr",
     "output_type": "stream",
     "text": [
      "[I 2024-08-12 09:36:20,103] Trial 52 pruned. \n"
     ]
    },
    {
     "name": "stdout",
     "output_type": "stream",
     "text": [
      "Epoch 0/9\n",
      "----------\n",
      "Epoch 1/9\n",
      "----------\n",
      "Epoch 2/9\n",
      "----------\n",
      "Epoch 3/9\n",
      "----------\n",
      "Epoch 4/9\n",
      "----------\n"
     ]
    },
    {
     "name": "stderr",
     "output_type": "stream",
     "text": [
      "[I 2024-08-12 09:36:30,704] Trial 53 pruned. \n"
     ]
    },
    {
     "name": "stdout",
     "output_type": "stream",
     "text": [
      "Epoch 0/9\n",
      "----------\n",
      "Epoch 1/9\n",
      "----------\n",
      "Epoch 2/9\n",
      "----------\n",
      "Epoch 3/9\n",
      "----------\n"
     ]
    },
    {
     "name": "stderr",
     "output_type": "stream",
     "text": [
      "[I 2024-08-12 09:36:39,174] Trial 54 pruned. \n"
     ]
    },
    {
     "name": "stdout",
     "output_type": "stream",
     "text": [
      "Epoch 0/9\n",
      "----------\n"
     ]
    },
    {
     "name": "stderr",
     "output_type": "stream",
     "text": [
      "[I 2024-08-12 09:36:41,313] Trial 55 pruned. \n"
     ]
    },
    {
     "name": "stdout",
     "output_type": "stream",
     "text": [
      "Epoch 0/9\n",
      "----------\n"
     ]
    },
    {
     "name": "stderr",
     "output_type": "stream",
     "text": [
      "[I 2024-08-12 09:36:43,636] Trial 56 pruned. \n"
     ]
    },
    {
     "name": "stdout",
     "output_type": "stream",
     "text": [
      "Epoch 0/9\n",
      "----------\n"
     ]
    },
    {
     "name": "stderr",
     "output_type": "stream",
     "text": [
      "[I 2024-08-12 09:36:45,582] Trial 57 pruned. \n"
     ]
    },
    {
     "name": "stdout",
     "output_type": "stream",
     "text": [
      "Epoch 0/9\n",
      "----------\n",
      "Epoch 1/9\n",
      "----------\n",
      "Epoch 2/9\n",
      "----------\n",
      "Epoch 3/9\n",
      "----------\n",
      "Epoch 4/9\n",
      "----------\n"
     ]
    },
    {
     "name": "stderr",
     "output_type": "stream",
     "text": [
      "[I 2024-08-12 09:36:55,430] Trial 58 pruned. \n"
     ]
    },
    {
     "name": "stdout",
     "output_type": "stream",
     "text": [
      "Epoch 0/9\n",
      "----------\n",
      "Epoch 1/9\n",
      "----------\n",
      "Epoch 2/9\n",
      "----------\n",
      "Epoch 3/9\n",
      "----------\n",
      "Epoch 4/9\n",
      "----------\n",
      "Epoch 5/9\n",
      "----------\n",
      "Epoch 6/9\n",
      "----------\n",
      "Epoch 7/9\n",
      "----------\n",
      "Epoch 8/9\n",
      "----------\n",
      "Epoch 9/9\n",
      "----------\n"
     ]
    },
    {
     "name": "stderr",
     "output_type": "stream",
     "text": [
      "[I 2024-08-12 09:37:17,360] Trial 59 pruned. \n"
     ]
    },
    {
     "name": "stdout",
     "output_type": "stream",
     "text": [
      "Epoch 0/9\n",
      "----------\n",
      "Epoch 1/9\n",
      "----------\n",
      "Epoch 2/9\n",
      "----------\n",
      "Epoch 3/9\n",
      "----------\n",
      "Epoch 4/9\n",
      "----------\n",
      "Epoch 5/9\n",
      "----------\n"
     ]
    },
    {
     "name": "stderr",
     "output_type": "stream",
     "text": [
      "[I 2024-08-12 09:37:30,638] Trial 60 pruned. \n"
     ]
    },
    {
     "name": "stdout",
     "output_type": "stream",
     "text": [
      "Epoch 0/9\n",
      "----------\n"
     ]
    },
    {
     "name": "stderr",
     "output_type": "stream",
     "text": [
      "[I 2024-08-12 09:37:32,775] Trial 61 pruned. \n"
     ]
    },
    {
     "name": "stdout",
     "output_type": "stream",
     "text": [
      "Epoch 0/9\n",
      "----------\n"
     ]
    },
    {
     "name": "stderr",
     "output_type": "stream",
     "text": [
      "[I 2024-08-12 09:37:35,096] Trial 62 pruned. \n"
     ]
    },
    {
     "name": "stdout",
     "output_type": "stream",
     "text": [
      "Epoch 0/9\n",
      "----------\n",
      "Epoch 1/9\n",
      "----------\n",
      "Epoch 2/9\n",
      "----------\n",
      "Epoch 3/9\n",
      "----------\n",
      "Epoch 4/9\n",
      "----------\n"
     ]
    },
    {
     "name": "stderr",
     "output_type": "stream",
     "text": [
      "[I 2024-08-12 09:37:46,031] Trial 63 pruned. \n"
     ]
    },
    {
     "name": "stdout",
     "output_type": "stream",
     "text": [
      "Epoch 0/9\n",
      "----------\n",
      "Epoch 1/9\n",
      "----------\n",
      "Epoch 2/9\n",
      "----------\n",
      "Epoch 3/9\n",
      "----------\n"
     ]
    },
    {
     "name": "stderr",
     "output_type": "stream",
     "text": [
      "[I 2024-08-12 09:37:55,013] Trial 64 pruned. \n"
     ]
    },
    {
     "name": "stdout",
     "output_type": "stream",
     "text": [
      "Epoch 0/9\n",
      "----------\n"
     ]
    },
    {
     "name": "stderr",
     "output_type": "stream",
     "text": [
      "[I 2024-08-12 09:37:57,338] Trial 65 pruned. \n"
     ]
    },
    {
     "name": "stdout",
     "output_type": "stream",
     "text": [
      "Epoch 0/9\n",
      "----------\n",
      "Epoch 1/9\n",
      "----------\n",
      "Epoch 2/9\n",
      "----------\n",
      "Epoch 3/9\n",
      "----------\n",
      "Epoch 4/9\n",
      "----------\n"
     ]
    },
    {
     "name": "stderr",
     "output_type": "stream",
     "text": [
      "[I 2024-08-12 09:38:07,885] Trial 66 pruned. \n"
     ]
    },
    {
     "name": "stdout",
     "output_type": "stream",
     "text": [
      "Epoch 0/9\n",
      "----------\n"
     ]
    },
    {
     "name": "stderr",
     "output_type": "stream",
     "text": [
      "[I 2024-08-12 09:38:09,692] Trial 67 pruned. \n"
     ]
    },
    {
     "name": "stdout",
     "output_type": "stream",
     "text": [
      "Epoch 0/9\n",
      "----------\n"
     ]
    },
    {
     "name": "stderr",
     "output_type": "stream",
     "text": [
      "[I 2024-08-12 09:38:11,639] Trial 68 pruned. \n"
     ]
    },
    {
     "name": "stdout",
     "output_type": "stream",
     "text": [
      "Epoch 0/9\n",
      "----------\n"
     ]
    },
    {
     "name": "stderr",
     "output_type": "stream",
     "text": [
      "[I 2024-08-12 09:38:13,962] Trial 69 pruned. \n"
     ]
    },
    {
     "name": "stdout",
     "output_type": "stream",
     "text": [
      "Epoch 0/9\n",
      "----------\n"
     ]
    },
    {
     "name": "stderr",
     "output_type": "stream",
     "text": [
      "[I 2024-08-12 09:38:16,181] Trial 70 pruned. \n"
     ]
    },
    {
     "name": "stdout",
     "output_type": "stream",
     "text": [
      "Epoch 0/9\n",
      "----------\n"
     ]
    },
    {
     "name": "stderr",
     "output_type": "stream",
     "text": [
      "[I 2024-08-12 09:38:18,318] Trial 71 pruned. \n"
     ]
    },
    {
     "name": "stdout",
     "output_type": "stream",
     "text": [
      "Epoch 0/9\n",
      "----------\n",
      "Epoch 1/9\n",
      "----------\n",
      "Epoch 2/9\n",
      "----------\n",
      "Epoch 3/9\n",
      "----------\n",
      "Epoch 4/9\n",
      "----------\n",
      "Epoch 5/9\n",
      "----------\n",
      "Epoch 6/9\n",
      "----------\n",
      "Epoch 7/9\n",
      "----------\n",
      "Epoch 8/9\n",
      "----------\n",
      "Epoch 9/9\n",
      "----------\n"
     ]
    },
    {
     "name": "stderr",
     "output_type": "stream",
     "text": [
      "[I 2024-08-12 09:38:39,771] Trial 72 finished with value: 0.5875 and parameters: {'lr': 0.0004818691448970515, 'madgrad_momentum': 0.9351316012612994}. Best is trial 72 with value: 0.5875.\n"
     ]
    },
    {
     "name": "stdout",
     "output_type": "stream",
     "text": [
      "Epoch 0/9\n",
      "----------\n"
     ]
    },
    {
     "name": "stderr",
     "output_type": "stream",
     "text": [
      "[I 2024-08-12 09:38:42,099] Trial 73 pruned. \n"
     ]
    },
    {
     "name": "stdout",
     "output_type": "stream",
     "text": [
      "Epoch 0/9\n",
      "----------\n",
      "Epoch 1/9\n",
      "----------\n",
      "Epoch 2/9\n",
      "----------\n",
      "Epoch 3/9\n",
      "----------\n",
      "Epoch 4/9\n",
      "----------\n",
      "Epoch 5/9\n",
      "----------\n",
      "Epoch 6/9\n",
      "----------\n",
      "Epoch 7/9\n",
      "----------\n",
      "Epoch 8/9\n",
      "----------\n",
      "Epoch 9/9\n",
      "----------\n"
     ]
    },
    {
     "name": "stderr",
     "output_type": "stream",
     "text": [
      "[I 2024-08-12 09:39:02,665] Trial 74 finished with value: 0.4 and parameters: {'lr': 4.68215311134101e-05, 'madgrad_momentum': 0.91389665638236}. Best is trial 72 with value: 0.5875.\n"
     ]
    },
    {
     "name": "stdout",
     "output_type": "stream",
     "text": [
      "Epoch 0/9\n",
      "----------\n",
      "Epoch 1/9\n",
      "----------\n",
      "Epoch 2/9\n",
      "----------\n",
      "Epoch 3/9\n",
      "----------\n",
      "Epoch 4/9\n",
      "----------\n",
      "Epoch 5/9\n",
      "----------\n",
      "Epoch 6/9\n",
      "----------\n",
      "Epoch 7/9\n",
      "----------\n",
      "Epoch 8/9\n",
      "----------\n",
      "Epoch 9/9\n",
      "----------\n"
     ]
    },
    {
     "name": "stderr",
     "output_type": "stream",
     "text": [
      "[I 2024-08-12 09:39:24,501] Trial 75 finished with value: 0.55 and parameters: {'lr': 0.00022813230060195116, 'madgrad_momentum': 0.8978355140818033}. Best is trial 72 with value: 0.5875.\n"
     ]
    },
    {
     "name": "stdout",
     "output_type": "stream",
     "text": [
      "Epoch 0/9\n",
      "----------\n"
     ]
    },
    {
     "name": "stderr",
     "output_type": "stream",
     "text": [
      "[I 2024-08-12 09:39:26,500] Trial 76 pruned. \n"
     ]
    },
    {
     "name": "stdout",
     "output_type": "stream",
     "text": [
      "Epoch 0/9\n",
      "----------\n",
      "Epoch 1/9\n",
      "----------\n",
      "Epoch 2/9\n",
      "----------\n",
      "Epoch 3/9\n",
      "----------\n",
      "Epoch 4/9\n",
      "----------\n",
      "Epoch 5/9\n",
      "----------\n",
      "Epoch 6/9\n",
      "----------\n",
      "Epoch 7/9\n",
      "----------\n",
      "Epoch 8/9\n",
      "----------\n",
      "Epoch 9/9\n",
      "----------\n"
     ]
    },
    {
     "name": "stderr",
     "output_type": "stream",
     "text": [
      "[I 2024-08-12 09:39:48,320] Trial 77 finished with value: 0.5125000000000001 and parameters: {'lr': 4.845039082421618e-05, 'madgrad_momentum': 0.9120541678204238}. Best is trial 72 with value: 0.5875.\n"
     ]
    },
    {
     "name": "stdout",
     "output_type": "stream",
     "text": [
      "Epoch 0/9\n",
      "----------\n"
     ]
    },
    {
     "name": "stderr",
     "output_type": "stream",
     "text": [
      "[I 2024-08-12 09:39:50,650] Trial 78 pruned. \n"
     ]
    },
    {
     "name": "stdout",
     "output_type": "stream",
     "text": [
      "Epoch 0/9\n",
      "----------\n",
      "Epoch 1/9\n",
      "----------\n",
      "Epoch 2/9\n",
      "----------\n"
     ]
    },
    {
     "name": "stderr",
     "output_type": "stream",
     "text": [
      "[I 2024-08-12 09:39:56,887] Trial 79 pruned. \n"
     ]
    },
    {
     "name": "stdout",
     "output_type": "stream",
     "text": [
      "Epoch 0/9\n",
      "----------\n",
      "Epoch 1/9\n",
      "----------\n",
      "Epoch 2/9\n",
      "----------\n",
      "Epoch 3/9\n",
      "----------\n",
      "Epoch 4/9\n",
      "----------\n"
     ]
    },
    {
     "name": "stderr",
     "output_type": "stream",
     "text": [
      "[I 2024-08-12 09:40:08,142] Trial 80 pruned. \n"
     ]
    },
    {
     "name": "stdout",
     "output_type": "stream",
     "text": [
      "Epoch 0/9\n",
      "----------\n",
      "Epoch 1/9\n",
      "----------\n",
      "Epoch 2/9\n",
      "----------\n",
      "Epoch 3/9\n",
      "----------\n"
     ]
    },
    {
     "name": "stderr",
     "output_type": "stream",
     "text": [
      "[I 2024-08-12 09:40:17,115] Trial 81 pruned. \n"
     ]
    },
    {
     "name": "stdout",
     "output_type": "stream",
     "text": [
      "Epoch 0/9\n",
      "----------\n"
     ]
    },
    {
     "name": "stderr",
     "output_type": "stream",
     "text": [
      "[I 2024-08-12 09:40:19,249] Trial 82 pruned. \n"
     ]
    },
    {
     "name": "stdout",
     "output_type": "stream",
     "text": [
      "Epoch 0/9\n",
      "----------\n"
     ]
    },
    {
     "name": "stderr",
     "output_type": "stream",
     "text": [
      "[I 2024-08-12 09:40:21,572] Trial 83 pruned. \n"
     ]
    },
    {
     "name": "stdout",
     "output_type": "stream",
     "text": [
      "Epoch 0/9\n",
      "----------\n"
     ]
    },
    {
     "name": "stderr",
     "output_type": "stream",
     "text": [
      "[I 2024-08-12 09:40:23,895] Trial 84 pruned. \n"
     ]
    },
    {
     "name": "stdout",
     "output_type": "stream",
     "text": [
      "Epoch 0/9\n",
      "----------\n",
      "Epoch 1/9\n",
      "----------\n",
      "Epoch 2/9\n",
      "----------\n",
      "Epoch 3/9\n",
      "----------\n",
      "Epoch 4/9\n",
      "----------\n"
     ]
    },
    {
     "name": "stderr",
     "output_type": "stream",
     "text": [
      "[I 2024-08-12 09:40:34,826] Trial 85 pruned. \n"
     ]
    },
    {
     "name": "stdout",
     "output_type": "stream",
     "text": [
      "Epoch 0/9\n",
      "----------\n",
      "Epoch 1/9\n",
      "----------\n",
      "Epoch 2/9\n",
      "----------\n"
     ]
    },
    {
     "name": "stderr",
     "output_type": "stream",
     "text": [
      "[I 2024-08-12 09:40:41,571] Trial 86 pruned. \n"
     ]
    },
    {
     "name": "stdout",
     "output_type": "stream",
     "text": [
      "Epoch 0/9\n",
      "----------\n"
     ]
    },
    {
     "name": "stderr",
     "output_type": "stream",
     "text": [
      "[I 2024-08-12 09:40:43,893] Trial 87 pruned. \n"
     ]
    },
    {
     "name": "stdout",
     "output_type": "stream",
     "text": [
      "Epoch 0/9\n",
      "----------\n",
      "Epoch 1/9\n",
      "----------\n",
      "Epoch 2/9\n",
      "----------\n",
      "Epoch 3/9\n",
      "----------\n",
      "Epoch 4/9\n",
      "----------\n",
      "Epoch 5/9\n",
      "----------\n",
      "Epoch 6/9\n",
      "----------\n",
      "Epoch 7/9\n",
      "----------\n",
      "Epoch 8/9\n",
      "----------\n",
      "Epoch 9/9\n",
      "----------\n"
     ]
    },
    {
     "name": "stderr",
     "output_type": "stream",
     "text": [
      "[I 2024-08-12 09:41:05,567] Trial 88 finished with value: 0.45 and parameters: {'lr': 7.53332147908586e-05, 'madgrad_momentum': 0.9157876754083285}. Best is trial 72 with value: 0.5875.\n"
     ]
    },
    {
     "name": "stdout",
     "output_type": "stream",
     "text": [
      "Epoch 0/9\n",
      "----------\n",
      "Epoch 1/9\n",
      "----------\n",
      "Epoch 2/9\n",
      "----------\n",
      "Epoch 3/9\n",
      "----------\n",
      "Epoch 4/9\n",
      "----------\n"
     ]
    },
    {
     "name": "stderr",
     "output_type": "stream",
     "text": [
      "[I 2024-08-12 09:41:16,504] Trial 89 pruned. \n"
     ]
    },
    {
     "name": "stdout",
     "output_type": "stream",
     "text": [
      "Epoch 0/9\n",
      "----------\n"
     ]
    },
    {
     "name": "stderr",
     "output_type": "stream",
     "text": [
      "[I 2024-08-12 09:41:18,642] Trial 90 pruned. \n"
     ]
    },
    {
     "name": "stdout",
     "output_type": "stream",
     "text": [
      "Epoch 0/9\n",
      "----------\n"
     ]
    },
    {
     "name": "stderr",
     "output_type": "stream",
     "text": [
      "[I 2024-08-12 09:41:20,589] Trial 91 pruned. \n"
     ]
    },
    {
     "name": "stdout",
     "output_type": "stream",
     "text": [
      "Epoch 0/9\n",
      "----------\n"
     ]
    },
    {
     "name": "stderr",
     "output_type": "stream",
     "text": [
      "[I 2024-08-12 09:41:22,911] Trial 92 pruned. \n"
     ]
    },
    {
     "name": "stdout",
     "output_type": "stream",
     "text": [
      "Epoch 0/9\n",
      "----------\n"
     ]
    },
    {
     "name": "stderr",
     "output_type": "stream",
     "text": [
      "[I 2024-08-12 09:41:25,233] Trial 93 pruned. \n"
     ]
    },
    {
     "name": "stdout",
     "output_type": "stream",
     "text": [
      "Epoch 0/9\n",
      "----------\n"
     ]
    },
    {
     "name": "stderr",
     "output_type": "stream",
     "text": [
      "[I 2024-08-12 09:41:27,555] Trial 94 pruned. \n"
     ]
    },
    {
     "name": "stdout",
     "output_type": "stream",
     "text": [
      "Epoch 0/9\n",
      "----------\n",
      "Epoch 1/9\n",
      "----------\n",
      "Epoch 2/9\n",
      "----------\n",
      "Epoch 3/9\n",
      "----------\n",
      "Epoch 4/9\n",
      "----------\n",
      "Epoch 5/9\n",
      "----------\n",
      "Epoch 6/9\n",
      "----------\n",
      "Epoch 7/9\n",
      "----------\n",
      "Epoch 8/9\n",
      "----------\n",
      "Epoch 9/9\n",
      "----------\n"
     ]
    },
    {
     "name": "stderr",
     "output_type": "stream",
     "text": [
      "[I 2024-08-12 09:41:49,314] Trial 95 finished with value: 0.36250000000000004 and parameters: {'lr': 0.00036531112719318307, 'madgrad_momentum': 0.8979267992419008}. Best is trial 72 with value: 0.5875.\n"
     ]
    },
    {
     "name": "stdout",
     "output_type": "stream",
     "text": [
      "Epoch 0/9\n",
      "----------\n"
     ]
    },
    {
     "name": "stderr",
     "output_type": "stream",
     "text": [
      "[I 2024-08-12 09:41:51,310] Trial 96 pruned. \n"
     ]
    },
    {
     "name": "stdout",
     "output_type": "stream",
     "text": [
      "Epoch 0/9\n",
      "----------\n"
     ]
    },
    {
     "name": "stderr",
     "output_type": "stream",
     "text": [
      "[I 2024-08-12 09:41:53,444] Trial 97 pruned. \n"
     ]
    },
    {
     "name": "stdout",
     "output_type": "stream",
     "text": [
      "Epoch 0/9\n",
      "----------\n"
     ]
    },
    {
     "name": "stderr",
     "output_type": "stream",
     "text": [
      "[I 2024-08-12 09:41:55,771] Trial 98 pruned. \n"
     ]
    },
    {
     "name": "stdout",
     "output_type": "stream",
     "text": [
      "Epoch 0/9\n",
      "----------\n"
     ]
    },
    {
     "name": "stderr",
     "output_type": "stream",
     "text": [
      "[I 2024-08-12 09:41:58,094] Trial 99 pruned. \n"
     ]
    },
    {
     "name": "stdout",
     "output_type": "stream",
     "text": [
      "Epoch 0/9\n",
      "----------\n"
     ]
    },
    {
     "name": "stderr",
     "output_type": "stream",
     "text": [
      "[I 2024-08-12 09:42:00,088] Trial 100 pruned. \n"
     ]
    },
    {
     "name": "stdout",
     "output_type": "stream",
     "text": [
      "Epoch 0/9\n",
      "----------\n"
     ]
    },
    {
     "name": "stderr",
     "output_type": "stream",
     "text": [
      "[I 2024-08-12 09:42:02,417] Trial 101 pruned. \n"
     ]
    },
    {
     "name": "stdout",
     "output_type": "stream",
     "text": [
      "Epoch 0/9\n",
      "----------\n",
      "Epoch 1/9\n",
      "----------\n",
      "Epoch 2/9\n",
      "----------\n",
      "Epoch 3/9\n",
      "----------\n",
      "Epoch 4/9\n",
      "----------\n",
      "Epoch 5/9\n",
      "----------\n",
      "Epoch 6/9\n",
      "----------\n",
      "Epoch 7/9\n",
      "----------\n",
      "Epoch 8/9\n",
      "----------\n",
      "Epoch 9/9\n",
      "----------\n"
     ]
    },
    {
     "name": "stderr",
     "output_type": "stream",
     "text": [
      "[I 2024-08-12 09:42:24,023] Trial 102 finished with value: 0.6625000000000001 and parameters: {'lr': 8.277158497887823e-05, 'madgrad_momentum': 0.9087751912981861}. Best is trial 102 with value: 0.6625000000000001.\n"
     ]
    },
    {
     "name": "stdout",
     "output_type": "stream",
     "text": [
      "Epoch 0/9\n",
      "----------\n"
     ]
    },
    {
     "name": "stderr",
     "output_type": "stream",
     "text": [
      "[I 2024-08-12 09:42:26,349] Trial 103 pruned. \n"
     ]
    },
    {
     "name": "stdout",
     "output_type": "stream",
     "text": [
      "Epoch 0/9\n",
      "----------\n"
     ]
    },
    {
     "name": "stderr",
     "output_type": "stream",
     "text": [
      "[I 2024-08-12 09:42:28,676] Trial 104 pruned. \n"
     ]
    },
    {
     "name": "stdout",
     "output_type": "stream",
     "text": [
      "Epoch 0/9\n",
      "----------\n"
     ]
    },
    {
     "name": "stderr",
     "output_type": "stream",
     "text": [
      "[I 2024-08-12 09:42:31,002] Trial 105 pruned. \n"
     ]
    },
    {
     "name": "stdout",
     "output_type": "stream",
     "text": [
      "Epoch 0/9\n",
      "----------\n",
      "Epoch 1/9\n",
      "----------\n",
      "Epoch 2/9\n",
      "----------\n",
      "Epoch 3/9\n",
      "----------\n",
      "Epoch 4/9\n",
      "----------\n"
     ]
    },
    {
     "name": "stderr",
     "output_type": "stream",
     "text": [
      "[I 2024-08-12 09:42:41,470] Trial 106 pruned. \n"
     ]
    },
    {
     "name": "stdout",
     "output_type": "stream",
     "text": [
      "Epoch 0/9\n",
      "----------\n"
     ]
    },
    {
     "name": "stderr",
     "output_type": "stream",
     "text": [
      "[I 2024-08-12 09:42:43,606] Trial 107 pruned. \n"
     ]
    },
    {
     "name": "stdout",
     "output_type": "stream",
     "text": [
      "Epoch 0/9\n",
      "----------\n"
     ]
    },
    {
     "name": "stderr",
     "output_type": "stream",
     "text": [
      "[I 2024-08-12 09:42:45,740] Trial 108 pruned. \n"
     ]
    },
    {
     "name": "stdout",
     "output_type": "stream",
     "text": [
      "Epoch 0/9\n",
      "----------\n"
     ]
    },
    {
     "name": "stderr",
     "output_type": "stream",
     "text": [
      "[I 2024-08-12 09:42:48,068] Trial 109 pruned. \n"
     ]
    },
    {
     "name": "stdout",
     "output_type": "stream",
     "text": [
      "Epoch 0/9\n",
      "----------\n"
     ]
    },
    {
     "name": "stderr",
     "output_type": "stream",
     "text": [
      "[I 2024-08-12 09:42:50,393] Trial 110 pruned. \n"
     ]
    },
    {
     "name": "stdout",
     "output_type": "stream",
     "text": [
      "Epoch 0/9\n",
      "----------\n"
     ]
    },
    {
     "name": "stderr",
     "output_type": "stream",
     "text": [
      "[I 2024-08-12 09:42:52,715] Trial 111 pruned. \n"
     ]
    },
    {
     "name": "stdout",
     "output_type": "stream",
     "text": [
      "Epoch 0/9\n",
      "----------\n"
     ]
    },
    {
     "name": "stderr",
     "output_type": "stream",
     "text": [
      "[I 2024-08-12 09:42:55,038] Trial 112 pruned. \n"
     ]
    },
    {
     "name": "stdout",
     "output_type": "stream",
     "text": [
      "Epoch 0/9\n",
      "----------\n"
     ]
    },
    {
     "name": "stderr",
     "output_type": "stream",
     "text": [
      "[I 2024-08-12 09:42:56,845] Trial 113 pruned. \n"
     ]
    },
    {
     "name": "stdout",
     "output_type": "stream",
     "text": [
      "Epoch 0/9\n",
      "----------\n",
      "Epoch 1/9\n",
      "----------\n",
      "Epoch 2/9\n",
      "----------\n",
      "Epoch 3/9\n",
      "----------\n"
     ]
    },
    {
     "name": "stderr",
     "output_type": "stream",
     "text": [
      "[I 2024-08-12 09:43:05,632] Trial 114 pruned. \n"
     ]
    },
    {
     "name": "stdout",
     "output_type": "stream",
     "text": [
      "Epoch 0/9\n",
      "----------\n"
     ]
    },
    {
     "name": "stderr",
     "output_type": "stream",
     "text": [
      "[I 2024-08-12 09:43:07,199] Trial 115 pruned. \n"
     ]
    },
    {
     "name": "stdout",
     "output_type": "stream",
     "text": [
      "Epoch 0/9\n",
      "----------\n"
     ]
    },
    {
     "name": "stderr",
     "output_type": "stream",
     "text": [
      "[I 2024-08-12 09:43:09,335] Trial 116 pruned. \n"
     ]
    },
    {
     "name": "stdout",
     "output_type": "stream",
     "text": [
      "Epoch 0/9\n",
      "----------\n"
     ]
    },
    {
     "name": "stderr",
     "output_type": "stream",
     "text": [
      "[I 2024-08-12 09:43:11,663] Trial 117 pruned. \n"
     ]
    },
    {
     "name": "stdout",
     "output_type": "stream",
     "text": [
      "Epoch 0/9\n",
      "----------\n"
     ]
    },
    {
     "name": "stderr",
     "output_type": "stream",
     "text": [
      "[I 2024-08-12 09:43:13,798] Trial 118 pruned. \n"
     ]
    },
    {
     "name": "stdout",
     "output_type": "stream",
     "text": [
      "Epoch 0/9\n",
      "----------\n"
     ]
    },
    {
     "name": "stderr",
     "output_type": "stream",
     "text": [
      "[I 2024-08-12 09:43:16,125] Trial 119 pruned. \n"
     ]
    },
    {
     "name": "stdout",
     "output_type": "stream",
     "text": [
      "Epoch 0/9\n",
      "----------\n"
     ]
    },
    {
     "name": "stderr",
     "output_type": "stream",
     "text": [
      "[I 2024-08-12 09:43:18,446] Trial 120 pruned. \n"
     ]
    },
    {
     "name": "stdout",
     "output_type": "stream",
     "text": [
      "Epoch 0/9\n",
      "----------\n"
     ]
    },
    {
     "name": "stderr",
     "output_type": "stream",
     "text": [
      "[I 2024-08-12 09:43:20,390] Trial 121 pruned. \n"
     ]
    },
    {
     "name": "stdout",
     "output_type": "stream",
     "text": [
      "Epoch 0/9\n",
      "----------\n"
     ]
    },
    {
     "name": "stderr",
     "output_type": "stream",
     "text": [
      "[I 2024-08-12 09:43:22,525] Trial 122 pruned. \n"
     ]
    },
    {
     "name": "stdout",
     "output_type": "stream",
     "text": [
      "Epoch 0/9\n",
      "----------\n"
     ]
    },
    {
     "name": "stderr",
     "output_type": "stream",
     "text": [
      "[I 2024-08-12 09:43:24,706] Trial 123 pruned. \n"
     ]
    },
    {
     "name": "stdout",
     "output_type": "stream",
     "text": [
      "Epoch 0/9\n",
      "----------\n"
     ]
    },
    {
     "name": "stderr",
     "output_type": "stream",
     "text": [
      "[I 2024-08-12 09:43:27,031] Trial 124 pruned. \n"
     ]
    },
    {
     "name": "stdout",
     "output_type": "stream",
     "text": [
      "Epoch 0/9\n",
      "----------\n"
     ]
    },
    {
     "name": "stderr",
     "output_type": "stream",
     "text": [
      "[I 2024-08-12 09:43:29,213] Trial 125 pruned. \n"
     ]
    },
    {
     "name": "stdout",
     "output_type": "stream",
     "text": [
      "Epoch 0/9\n",
      "----------\n"
     ]
    },
    {
     "name": "stderr",
     "output_type": "stream",
     "text": [
      "[I 2024-08-12 09:43:31,535] Trial 126 pruned. \n"
     ]
    },
    {
     "name": "stdout",
     "output_type": "stream",
     "text": [
      "Epoch 0/9\n",
      "----------\n"
     ]
    },
    {
     "name": "stderr",
     "output_type": "stream",
     "text": [
      "[I 2024-08-12 09:43:33,859] Trial 127 pruned. \n"
     ]
    },
    {
     "name": "stdout",
     "output_type": "stream",
     "text": [
      "Epoch 0/9\n",
      "----------\n"
     ]
    },
    {
     "name": "stderr",
     "output_type": "stream",
     "text": [
      "[I 2024-08-12 09:43:36,039] Trial 128 pruned. \n"
     ]
    },
    {
     "name": "stdout",
     "output_type": "stream",
     "text": [
      "Epoch 0/9\n",
      "----------\n"
     ]
    },
    {
     "name": "stderr",
     "output_type": "stream",
     "text": [
      "[I 2024-08-12 09:43:38,360] Trial 129 pruned. \n"
     ]
    },
    {
     "name": "stdout",
     "output_type": "stream",
     "text": [
      "Epoch 0/9\n",
      "----------\n",
      "Epoch 1/9\n",
      "----------\n",
      "Epoch 2/9\n",
      "----------\n"
     ]
    },
    {
     "name": "stderr",
     "output_type": "stream",
     "text": [
      "[I 2024-08-12 09:43:45,241] Trial 130 pruned. \n"
     ]
    },
    {
     "name": "stdout",
     "output_type": "stream",
     "text": [
      "Epoch 0/9\n",
      "----------\n"
     ]
    },
    {
     "name": "stderr",
     "output_type": "stream",
     "text": [
      "[I 2024-08-12 09:43:47,375] Trial 131 pruned. \n"
     ]
    },
    {
     "name": "stdout",
     "output_type": "stream",
     "text": [
      "Epoch 0/9\n",
      "----------\n"
     ]
    },
    {
     "name": "stderr",
     "output_type": "stream",
     "text": [
      "[I 2024-08-12 09:43:49,695] Trial 132 pruned. \n"
     ]
    },
    {
     "name": "stdout",
     "output_type": "stream",
     "text": [
      "Epoch 0/9\n",
      "----------\n"
     ]
    },
    {
     "name": "stderr",
     "output_type": "stream",
     "text": [
      "[I 2024-08-12 09:43:51,452] Trial 133 pruned. \n"
     ]
    },
    {
     "name": "stdout",
     "output_type": "stream",
     "text": [
      "Epoch 0/9\n",
      "----------\n"
     ]
    },
    {
     "name": "stderr",
     "output_type": "stream",
     "text": [
      "[I 2024-08-12 09:43:53,775] Trial 134 pruned. \n"
     ]
    },
    {
     "name": "stdout",
     "output_type": "stream",
     "text": [
      "Epoch 0/9\n",
      "----------\n"
     ]
    },
    {
     "name": "stderr",
     "output_type": "stream",
     "text": [
      "[I 2024-08-12 09:43:56,098] Trial 135 pruned. \n"
     ]
    },
    {
     "name": "stdout",
     "output_type": "stream",
     "text": [
      "Epoch 0/9\n",
      "----------\n",
      "Epoch 1/9\n",
      "----------\n",
      "Epoch 2/9\n",
      "----------\n"
     ]
    },
    {
     "name": "stderr",
     "output_type": "stream",
     "text": [
      "[I 2024-08-12 09:44:02,802] Trial 136 pruned. \n"
     ]
    },
    {
     "name": "stdout",
     "output_type": "stream",
     "text": [
      "Epoch 0/9\n",
      "----------\n"
     ]
    },
    {
     "name": "stderr",
     "output_type": "stream",
     "text": [
      "[I 2024-08-12 09:44:04,942] Trial 137 pruned. \n"
     ]
    },
    {
     "name": "stdout",
     "output_type": "stream",
     "text": [
      "Epoch 0/9\n",
      "----------\n"
     ]
    },
    {
     "name": "stderr",
     "output_type": "stream",
     "text": [
      "[I 2024-08-12 09:44:06,750] Trial 138 pruned. \n"
     ]
    },
    {
     "name": "stdout",
     "output_type": "stream",
     "text": [
      "Epoch 0/9\n",
      "----------\n"
     ]
    },
    {
     "name": "stderr",
     "output_type": "stream",
     "text": [
      "[I 2024-08-12 09:44:08,698] Trial 139 pruned. \n"
     ]
    },
    {
     "name": "stdout",
     "output_type": "stream",
     "text": [
      "Epoch 0/9\n",
      "----------\n",
      "Epoch 1/9\n",
      "----------\n",
      "Epoch 2/9\n",
      "----------\n",
      "Epoch 3/9\n",
      "----------\n"
     ]
    },
    {
     "name": "stderr",
     "output_type": "stream",
     "text": [
      "[I 2024-08-12 09:44:16,784] Trial 140 pruned. \n"
     ]
    },
    {
     "name": "stdout",
     "output_type": "stream",
     "text": [
      "Epoch 0/9\n",
      "----------\n"
     ]
    },
    {
     "name": "stderr",
     "output_type": "stream",
     "text": [
      "[I 2024-08-12 09:44:18,779] Trial 141 pruned. \n"
     ]
    },
    {
     "name": "stdout",
     "output_type": "stream",
     "text": [
      "Epoch 0/9\n",
      "----------\n",
      "Epoch 1/9\n",
      "----------\n",
      "Epoch 2/9\n",
      "----------\n",
      "Epoch 3/9\n",
      "----------\n",
      "Epoch 4/9\n",
      "----------\n",
      "Epoch 5/9\n",
      "----------\n",
      "Epoch 6/9\n",
      "----------\n",
      "Epoch 7/9\n",
      "----------\n",
      "Epoch 8/9\n",
      "----------\n",
      "Epoch 9/9\n",
      "----------\n"
     ]
    },
    {
     "name": "stderr",
     "output_type": "stream",
     "text": [
      "[I 2024-08-12 09:44:40,283] Trial 142 finished with value: 0.55 and parameters: {'lr': 0.0002960483390118847, 'madgrad_momentum': 0.9489359124474929}. Best is trial 102 with value: 0.6625000000000001.\n"
     ]
    },
    {
     "name": "stdout",
     "output_type": "stream",
     "text": [
      "Epoch 0/9\n",
      "----------\n"
     ]
    },
    {
     "name": "stderr",
     "output_type": "stream",
     "text": [
      "[I 2024-08-12 09:44:42,612] Trial 143 pruned. \n"
     ]
    },
    {
     "name": "stdout",
     "output_type": "stream",
     "text": [
      "Epoch 0/9\n",
      "----------\n"
     ]
    },
    {
     "name": "stderr",
     "output_type": "stream",
     "text": [
      "[I 2024-08-12 09:44:44,751] Trial 144 pruned. \n"
     ]
    },
    {
     "name": "stdout",
     "output_type": "stream",
     "text": [
      "Epoch 0/9\n",
      "----------\n",
      "Epoch 1/9\n",
      "----------\n",
      "Epoch 2/9\n",
      "----------\n"
     ]
    },
    {
     "name": "stderr",
     "output_type": "stream",
     "text": [
      "[I 2024-08-12 09:44:51,260] Trial 145 pruned. \n"
     ]
    },
    {
     "name": "stdout",
     "output_type": "stream",
     "text": [
      "Epoch 0/9\n",
      "----------\n"
     ]
    },
    {
     "name": "stderr",
     "output_type": "stream",
     "text": [
      "[I 2024-08-12 09:44:53,395] Trial 146 pruned. \n"
     ]
    },
    {
     "name": "stdout",
     "output_type": "stream",
     "text": [
      "Epoch 0/9\n",
      "----------\n"
     ]
    },
    {
     "name": "stderr",
     "output_type": "stream",
     "text": [
      "[I 2024-08-12 09:44:55,200] Trial 147 pruned. \n"
     ]
    },
    {
     "name": "stdout",
     "output_type": "stream",
     "text": [
      "Epoch 0/9\n",
      "----------\n"
     ]
    },
    {
     "name": "stderr",
     "output_type": "stream",
     "text": [
      "[I 2024-08-12 09:44:57,341] Trial 148 pruned. \n"
     ]
    },
    {
     "name": "stdout",
     "output_type": "stream",
     "text": [
      "Epoch 0/9\n",
      "----------\n"
     ]
    },
    {
     "name": "stderr",
     "output_type": "stream",
     "text": [
      "[I 2024-08-12 09:44:59,666] Trial 149 pruned. \n"
     ]
    },
    {
     "name": "stdout",
     "output_type": "stream",
     "text": [
      "Study statistics: \n",
      "  Number of finished trials:  150\n",
      "  Number of pruned trials:  135\n",
      "  Number of complete trials:  15\n",
      "Best trial:\n",
      "  Value:  0.6625000000000001\n",
      "  Params: \n",
      "    lr: 8.277158497887823e-05\n",
      "    madgrad_momentum: 0.9087751912981861\n"
     ]
    }
   ],
   "source": [
    "# now we can run the experiment\n",
    "sampler = optuna.samplers.TPESampler()\n",
    "configurations = [\n",
    "                {'optimizer_name':'Adam',\n",
    "                   'study_name':'adam_study'},\n",
    "                  {'optimizer_name':'SGD',\n",
    "                   'study_name':'sgd_study'},\n",
    "                  {'optimizer_name':'Adan',\n",
    "                   'study_name':'adan_study'},\n",
    "                  {'optimizer_name':'Madgrad',\n",
    "                   'study_name':'madgrad_study'},\n",
    "                  {'optimizer_name':'Schedulefree',\n",
    "                   'study_name':'scheduleFree_study'},\n",
    "                  ]\n",
    "studies = {}\n",
    "for config in configurations:\n",
    "    \n",
    "    study = optuna.create_study(study_name=config['study_name'], direction=\"maximize\", sampler=sampler)\n",
    "    study.optimize(lambda trial: optune_optimizer_for_model(trial, config['optimizer_name']), n_trials=NTRAILS, timeout=16*60) #trial.report\n",
    "    \n",
    "    study_csv = f'{config[\"study_name\"]}.csv'\n",
    "    study.trials_dataframe().to_csv(study_csv)\n",
    "    studies[config[\"study_name\"]] = study_csv\n",
    "    \n",
    "    pruned_trials = [t for t in study.trials if t.state == optuna.trial.TrialState.PRUNED]\n",
    "    complete_trials = [t for t in study.trials if t.state == optuna.trial.TrialState.COMPLETE]\n",
    "\n",
    "    print(\"Study statistics: \")\n",
    "    print(\"  Number of finished trials: \", len(study.trials))\n",
    "    print(\"  Number of pruned trials: \", len(pruned_trials))\n",
    "    print(\"  Number of complete trials: \", len(complete_trials))\n",
    "    print(\"Best trial:\")\n",
    "\n",
    "    trial = study.best_trial\n",
    "\n",
    "    print(\"  Value: \", trial.value)\n",
    "    print(\"  Params: \")\n",
    "\n",
    "    for key, value in trial.params.items():\n",
    "        print(\"    {}: {}\".format(key, value))"
   ]
  },
  {
   "cell_type": "markdown",
   "metadata": {},
   "source": [
    "### After running optuna - recover results from studies files, it is better to take results from the logs up"
   ]
  },
  {
   "cell_type": "code",
   "execution_count": 7,
   "metadata": {},
   "outputs": [],
   "source": [
    "\n",
    "def recover_study(file_name='study_trials.csv', distributions={}):\n",
    "    trials_df = pd.read_csv(file_name)\n",
    "    study = optuna.create_study()\n",
    "\n",
    "    # Add trials back to the study\n",
    "    for _, row in trials_df.iterrows():\n",
    "        trial_params = {col.replace('params_',''): row[col] for col in trials_df.columns if col.startswith('params_')}\n",
    "        trial = optuna.trial.create_trial(\n",
    "            params=trial_params,\n",
    "            distributions=distributions,\n",
    "            value=row['value'],\n",
    "            state=optuna.trial.TrialState.COMPLETE\n",
    "        )\n",
    "        # lr = trial.suggest_float(\"lr\", 1e-5, 1e-1, log=True)\n",
    "        study.add_trial(trial)\n",
    "    \n",
    "    trial = study.best_trial\n",
    "\n",
    "    print(\"  Value: \", trial.value)\n",
    "    print(\"  Params: \")\n",
    "\n",
    "    for key, value in trial.params.items():\n",
    "        print(\"    {}: {}\".format(key, value))\n",
    "    \n",
    "    return study\n",
    "\n"
   ]
  },
  {
   "cell_type": "code",
   "execution_count": 1,
   "metadata": {},
   "outputs": [],
   "source": [
    "for study_name, study_file in studies.items():\n",
    "    if  study_name == 'adan_study':\n",
    "        study1 = recover_study(study_file, distributions={\n",
    "            'lr': optuna.distributions.FloatDistribution(1e-5, 1e-1),\n",
    "            'beta1': optuna.distributions.FloatDistribution(1e-3, 1e-1),\n",
    "            'beta2': optuna.distributions.FloatDistribution(1e-3, 1e-1),\n",
    "            'beta3': optuna.distributions.FloatDistribution(1e-3, 1e-1)\n",
    "            })\n",
    "        # optuna.visualization.plot_param_importances(study)\n",
    "    elif study_name == 'madgrad_study':\n",
    "        study2 = recover_study(study_file, distributions={\n",
    "            'lr': optuna.distributions.FloatDistribution(1e-5, 1e-1),\n",
    "            'madgrad_momentum': optuna.distributions.FloatDistribution(8e-1, 1)\n",
    "            })\n",
    "    elif study_name == 'adam_study':\n",
    "        study3 = recover_study(study_file, distributions={\n",
    "            'lr': optuna.distributions.FloatDistribution(1e-5, 1e-1),\n",
    "            })   \n",
    "    elif study_name == 'sgd_study':\n",
    "        study4 = recover_study(study_file, distributions={\n",
    "            'lr': optuna.distributions.FloatDistribution(1e-5, 1e-1),\n",
    "            'sgd_momentum':optuna.distributions.FloatDistribution(1e-1, 1),\n",
    "            })  \n",
    "    elif study_name == 'scheduleFree_study':\n",
    "        study4 = recover_study(study_file, distributions={\n",
    "            'lr': optuna.distributions.FloatDistribution(1e-5, 1e-1),\n",
    "            })   \n",
    "         \n",
    "        \n",
    "    else:\n",
    "        continue"
   ]
  }
 ],
 "metadata": {
  "kernelspec": {
   "display_name": "roy_lang",
   "language": "python",
   "name": "python3"
  },
  "language_info": {
   "codemirror_mode": {
    "name": "ipython",
    "version": 3
   },
   "file_extension": ".py",
   "mimetype": "text/x-python",
   "name": "python",
   "nbconvert_exporter": "python",
   "pygments_lexer": "ipython3",
   "version": "3.8.19"
  }
 },
 "nbformat": 4,
 "nbformat_minor": 2
}
